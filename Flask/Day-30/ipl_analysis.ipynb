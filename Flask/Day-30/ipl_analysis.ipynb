{
 "cells": [
  {
   "cell_type": "code",
   "execution_count": 118,
   "metadata": {},
   "outputs": [],
   "source": [
    "import numpy as np\n",
    "import pandas as pd"
   ]
  },
  {
   "cell_type": "code",
   "execution_count": 119,
   "metadata": {},
   "outputs": [],
   "source": [
    "matches = pd.read_csv(\"./ipl-matches.csv\")"
   ]
  },
  {
   "cell_type": "code",
   "execution_count": 120,
   "metadata": {},
   "outputs": [
    {
     "data": {
      "text/plain": [
       "['Rajasthan Royals',\n",
       " 'Gujarat Titans',\n",
       " 'Kings XI Punjab',\n",
       " 'Rising Pune Supergiant',\n",
       " 'Rising Pune Supergiants',\n",
       " 'Gujarat Lions',\n",
       " 'Royal Challengers Bangalore',\n",
       " 'Mumbai Indians',\n",
       " 'Lucknow Super Giants',\n",
       " 'Deccan Chargers',\n",
       " 'Kolkata Knight Riders',\n",
       " 'Delhi Daredevils',\n",
       " 'Pune Warriors',\n",
       " 'Chennai Super Kings',\n",
       " 'Delhi Capitals',\n",
       " 'Sunrisers Hyderabad',\n",
       " 'Kochi Tuskers Kerala',\n",
       " 'Punjab Kings']"
      ]
     },
     "execution_count": 120,
     "metadata": {},
     "output_type": "execute_result"
    }
   ],
   "source": [
    "matches[['Team1', 'Team2']]\n",
    "list(matches['Team1']) + list(matches['Team2'])\n",
    "set(list(matches['Team1']) + list(matches['Team2']))\n",
    "list(set(list(matches['Team1']) + list(matches['Team2'])))"
   ]
  },
  {
   "cell_type": "code",
   "execution_count": 121,
   "metadata": {},
   "outputs": [],
   "source": [
    "matches.head(5)\n",
    "team1 = 'Lucknow Super Giants'\n",
    "team2 = 'Sunrisers Hyderabad'\n",
    "\n",
    "temp_df = matches[((matches['Team1'] == team1) &( matches['Team2'] == team2)) | ((matches['Team2'] == team1) & (matches['Team1'] == team2))]"
   ]
  },
  {
   "cell_type": "code",
   "execution_count": 122,
   "metadata": {},
   "outputs": [
    {
     "data": {
      "text/plain": [
       "1"
      ]
     },
     "execution_count": 122,
     "metadata": {},
     "output_type": "execute_result"
    }
   ],
   "source": [
    "total_matches = temp_df.shape[0]\n",
    "total_matches"
   ]
  },
  {
   "cell_type": "code",
   "execution_count": 123,
   "metadata": {},
   "outputs": [
    {
     "data": {
      "text/html": [
       "<div>\n",
       "<style scoped>\n",
       "    .dataframe tbody tr th:only-of-type {\n",
       "        vertical-align: middle;\n",
       "    }\n",
       "\n",
       "    .dataframe tbody tr th {\n",
       "        vertical-align: top;\n",
       "    }\n",
       "\n",
       "    .dataframe thead th {\n",
       "        text-align: right;\n",
       "    }\n",
       "</style>\n",
       "<table border=\"1\" class=\"dataframe\">\n",
       "  <thead>\n",
       "    <tr style=\"text-align: right;\">\n",
       "      <th></th>\n",
       "      <th>ID</th>\n",
       "      <th>City</th>\n",
       "      <th>Date</th>\n",
       "      <th>Season</th>\n",
       "      <th>MatchNumber</th>\n",
       "      <th>Team1</th>\n",
       "      <th>Team2</th>\n",
       "      <th>Venue</th>\n",
       "      <th>TossWinner</th>\n",
       "      <th>TossDecision</th>\n",
       "      <th>SuperOver</th>\n",
       "      <th>WinningTeam</th>\n",
       "      <th>WonBy</th>\n",
       "      <th>Margin</th>\n",
       "      <th>method</th>\n",
       "      <th>Player_of_Match</th>\n",
       "      <th>Team1Players</th>\n",
       "      <th>Team2Players</th>\n",
       "      <th>Umpire1</th>\n",
       "      <th>Umpire2</th>\n",
       "    </tr>\n",
       "  </thead>\n",
       "  <tbody>\n",
       "    <tr>\n",
       "      <th>62</th>\n",
       "      <td>1304058</td>\n",
       "      <td>Mumbai</td>\n",
       "      <td>2022-04-04</td>\n",
       "      <td>2022</td>\n",
       "      <td>12</td>\n",
       "      <td>Lucknow Super Giants</td>\n",
       "      <td>Sunrisers Hyderabad</td>\n",
       "      <td>Dr DY Patil Sports Academy, Mumbai</td>\n",
       "      <td>Sunrisers Hyderabad</td>\n",
       "      <td>field</td>\n",
       "      <td>N</td>\n",
       "      <td>Lucknow Super Giants</td>\n",
       "      <td>Runs</td>\n",
       "      <td>12.0</td>\n",
       "      <td>NaN</td>\n",
       "      <td>Avesh Khan</td>\n",
       "      <td>['KL Rahul', 'Q de Kock', 'E Lewis', 'MK Pande...</td>\n",
       "      <td>['Abhishek Sharma', 'KS Williamson', 'RA Tripa...</td>\n",
       "      <td>J Madanagopal</td>\n",
       "      <td>Navdeep Singh</td>\n",
       "    </tr>\n",
       "  </tbody>\n",
       "</table>\n",
       "</div>"
      ],
      "text/plain": [
       "         ID    City        Date Season MatchNumber                 Team1  \\\n",
       "62  1304058  Mumbai  2022-04-04   2022          12  Lucknow Super Giants   \n",
       "\n",
       "                  Team2                               Venue  \\\n",
       "62  Sunrisers Hyderabad  Dr DY Patil Sports Academy, Mumbai   \n",
       "\n",
       "             TossWinner TossDecision SuperOver           WinningTeam WonBy  \\\n",
       "62  Sunrisers Hyderabad        field         N  Lucknow Super Giants  Runs   \n",
       "\n",
       "    Margin method Player_of_Match  \\\n",
       "62    12.0    NaN      Avesh Khan   \n",
       "\n",
       "                                         Team1Players  \\\n",
       "62  ['KL Rahul', 'Q de Kock', 'E Lewis', 'MK Pande...   \n",
       "\n",
       "                                         Team2Players        Umpire1  \\\n",
       "62  ['Abhishek Sharma', 'KS Williamson', 'RA Tripa...  J Madanagopal   \n",
       "\n",
       "          Umpire2  \n",
       "62  Navdeep Singh  "
      ]
     },
     "execution_count": 123,
     "metadata": {},
     "output_type": "execute_result"
    }
   ],
   "source": [
    "temp_df['WinningTeam'].value_counts()\n",
    "# int(ans)\n",
    "temp_df\n",
    "\n",
    "# if int(temp_df['WinningTeam'].value_counts()) == 1:\n",
    "#     temp_df['WinningTeam'] = 1\n",
    "    # matches_won_team1 = 1\n",
    "    # matches_won_team2 = 0\n",
    "# matches_won_team1 = temp_df['WinningTeam'].value_counts()[team1]\n",
    "# matches_won_team2 = temp_df['WinningTeam'].value_counts()[team2]\n",
    "# matches_draw = total_matches - (matches_won_team1 + matches_won_team2)"
   ]
  },
  {
   "cell_type": "code",
   "execution_count": 124,
   "metadata": {},
   "outputs": [
    {
     "data": {
      "text/plain": [
       "np.int64(2)"
      ]
     },
     "execution_count": 124,
     "metadata": {},
     "output_type": "execute_result"
    }
   ],
   "source": []
  },
  {
   "cell_type": "code",
   "execution_count": 125,
   "metadata": {},
   "outputs": [],
   "source": [
    "# def team1_vs_team2(team1, team2):\n",
    "#     temp_df = matches[((matches['Team1'] == team1) & (matches['Team2'] == team2)) | ((matches['Team1'] == team2) & (matches['Team2'] == team1))]\n",
    "\n",
    "#     total_matches = temp_df.shape[0]\n",
    "#     matches_won_team1 = temp_df['WinningTeam'].value_counts()[team1]\n",
    "#     matches_won_team2 = temp_df['WinningTeam'].value_counts()[team2]\n",
    "#     matches_draw = total_matches - (matches_won_team1 + matches_won_team2)\n",
    "\n",
    "#     response = {\n",
    "#         'total_matches': total_matches,\n",
    "#         team1: (int)(matches_won_team1),\n",
    "#         team2: (int)(matches_won_team2),\n",
    "#         'matches_draw': (int)(matches_draw),\n",
    "#     } \n",
    "#     return response\n",
    "\n",
    "def team1_vs_team2(team1, team2):\n",
    "    temp_df = matches[((matches['Team1'] == team1) & (matches['Team2'] == team2)) | \n",
    "                      ((matches['Team1'] == team2) & (matches['Team2'] == team1))]\n",
    "\n",
    "    total_matches = temp_df.shape[0]\n",
    "    winning_counts = temp_df['WinningTeam'].value_counts()\n",
    "\n",
    "    matches_won_team1 = winning_counts.get(team1, 0)\n",
    "    matches_won_team2 = winning_counts.get(team2, 0)\n",
    "    matches_draw = total_matches - (matches_won_team1 + matches_won_team2)\n",
    "\n",
    "    response = {\n",
    "        'total_matches': total_matches,\n",
    "        team1: int(matches_won_team1),\n",
    "        team2: int(matches_won_team2),\n",
    "        'matches_draw': int(matches_draw),\n",
    "    }\n",
    "    return response\n"
   ]
  },
  {
   "cell_type": "code",
   "execution_count": 126,
   "metadata": {},
   "outputs": [
    {
     "data": {
      "text/plain": [
       "{'total_matches': 1,\n",
       " 'Gujarat Titans': 0,\n",
       " 'Mumbai Indians': 1,\n",
       " 'matches_draw': 0}"
      ]
     },
     "execution_count": 126,
     "metadata": {},
     "output_type": "execute_result"
    }
   ],
   "source": [
    "team1_vs_team2('Gujarat Titans', 'Mumbai Indians')\n",
    "# matches[matches['Team2'] == 'Gujarat Titans']\n",
    "# matches[matches['Team1'] == 'Mumbai Indians']"
   ]
  },
  {
   "cell_type": "code",
   "execution_count": 129,
   "metadata": {},
   "outputs": [
    {
     "data": {
      "text/plain": [
       "\"['YBK Jaiswal', 'JC Buttler', 'SV Samson', 'D Padikkal', 'SO Hetmyer', 'R Ashwin', 'R Parag', 'TA Boult', 'OC McCoy', 'M Prasidh Krishna', 'YS Chahal']\""
      ]
     },
     "execution_count": 129,
     "metadata": {},
     "output_type": "execute_result"
    }
   ],
   "source": [
    "matches['Team1Players'][0]"
   ]
  }
 ],
 "metadata": {
  "kernelspec": {
   "display_name": "Python 3",
   "language": "python",
   "name": "python3"
  },
  "language_info": {
   "codemirror_mode": {
    "name": "ipython",
    "version": 3
   },
   "file_extension": ".py",
   "mimetype": "text/x-python",
   "name": "python",
   "nbconvert_exporter": "python",
   "pygments_lexer": "ipython3",
   "version": "3.13.0"
  }
 },
 "nbformat": 4,
 "nbformat_minor": 2
}
