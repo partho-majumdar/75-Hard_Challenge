{
 "cells": [
  {
   "cell_type": "code",
   "execution_count": 1,
   "metadata": {},
   "outputs": [
    {
     "name": "stdout",
     "output_type": "stream",
     "text": [
      "1 odd\n",
      "2 even\n",
      "3 odd\n",
      "4 even\n",
      "5 odd\n",
      "6 even\n",
      "7 odd\n",
      "8 even\n",
      "9 odd\n",
      "10 even\n"
     ]
    }
   ],
   "source": [
    "# --------------------- Function\n",
    "\n",
    "def is_even(i):\n",
    "    '''this function work for even number ''' # this is docstring (tell us what do this function)\n",
    "    if type(i) == int:\n",
    "        if i % 2 == 0:\n",
    "            return \"even\"\n",
    "        else:\n",
    "            return \"odd\"\n",
    "    else:\n",
    "        print(\"in function pass int\")\n",
    "\n",
    "is_even.__doc__\n",
    "\n",
    "for i in range(1, 11):\n",
    "    x = is_even(i)\n",
    "    print(i, x)\n",
    "\n",
    "# parameter -> def func_name(parameter)\n",
    "# argument -> func_name(argument)"
   ]
  },
  {
   "cell_type": "code",
   "execution_count": 2,
   "metadata": {},
   "outputs": [
    {
     "data": {
      "text/plain": [
       "8"
      ]
     },
     "execution_count": 2,
     "metadata": {},
     "output_type": "execute_result"
    }
   ],
   "source": [
    "# --------------- Types of argument\n",
    "\n",
    "# default argument\n",
    "def power(a = 1, b = 1):\n",
    "    return a**b\n",
    "\n",
    "power(2, 3)\n",
    "power(2)\n",
    "power()\n",
    "\n",
    "# positional argument\n",
    "power(2, 5) # here a = 2, b = 5 follow position\n",
    "\n",
    "# keyword argument\n",
    "power(b = 3, a = 2)\n"
   ]
  },
  {
   "cell_type": "code",
   "execution_count": null,
   "metadata": {},
   "outputs": [
    {
     "name": "stdout",
     "output_type": "stream",
     "text": [
      "(1, 2, 3)\n",
      "(1, 2, 3, 4, 5)\n",
      "bd -> dhaka\n",
      "india -> delhi\n",
      "srilanka -> colombo\n",
      "nepla -> kathmandu\n"
     ]
    },
    {
     "data": {
      "text/plain": [
       "' Order of arguments (Normal --> *args --> **kwargs)'"
      ]
     },
     "execution_count": 3,
     "metadata": {},
     "output_type": "execute_result"
    }
   ],
   "source": [
    "# *args (receive any number of input) -> internally make tuple and add all value\n",
    "\n",
    "def multiply(*args):\n",
    "    product = 1\n",
    "    for i in args:\n",
    "        product *= i\n",
    "    \n",
    "    print(args)\n",
    "    return product\n",
    "\n",
    "multiply(1, 2, 3)\n",
    "multiply(1, 2, 3, 4, 5)\n",
    "\n",
    "# **kwargs (for key-value pair input like dictionary)\n",
    "def display(**kwargs):\n",
    "    for (key, value) in kwargs.items():\n",
    "        print(key, '->', value)\n",
    "\n",
    "display(bd = 'dhaka', india = 'delhi', srilanka = 'colombo', nepal = 'kathmandu')\n",
    "\n",
    "''' Order of arguments (Normal --> *args --> **kwargs)'''"
   ]
  },
  {
   "cell_type": "code",
   "execution_count": 4,
   "metadata": {},
   "outputs": [
    {
     "name": "stdout",
     "output_type": "stream",
     "text": [
      "odd\n",
      "None\n"
     ]
    }
   ],
   "source": [
    "# ----------------- How function are execute in memory\n",
    "\n",
    "def is_even(i):\n",
    "    if i % 2 == 0:\n",
    "            return \"even\"\n",
    "    else:\n",
    "        return \"odd\"\n",
    "\n",
    "print(is_even(7)) # https://pythontutor.com/ use this for better understanding\n",
    "\n",
    "# function lifetime --> function call to return statement\n",
    "# if i am not using \"return\" in function -> by default python return none\n",
    "l = [1, 2, 3, 4]\n",
    "print(l.append(5)) # ans None cause it append 5 not return list"
   ]
  },
  {
   "cell_type": "code",
   "execution_count": 5,
   "metadata": {},
   "outputs": [
    {
     "name": "stdout",
     "output_type": "stream",
     "text": [
      "5\n",
      "6\n",
      "5\n"
     ]
    }
   ],
   "source": [
    "# Variable scope\n",
    "# global scope\n",
    "\n",
    "def func(y):\n",
    "    print(x)\n",
    "    print(x+1)\n",
    "\n",
    "x = 5\n",
    "func(x)\n",
    "print(x)"
   ]
  },
  {
   "cell_type": "code",
   "execution_count": 6,
   "metadata": {},
   "outputs": [
    {
     "name": "stdout",
     "output_type": "stream",
     "text": [
      "2\n",
      "5\n"
     ]
    }
   ],
   "source": [
    "def f(y):\n",
    "    x = 1\n",
    "    x += 1\n",
    "    print(x)\n",
    "\n",
    "x = 5\n",
    "f(x)\n",
    "print(x)"
   ]
  },
  {
   "cell_type": "code",
   "execution_count": 7,
   "metadata": {},
   "outputs": [
    {
     "name": "stdout",
     "output_type": "stream",
     "text": [
      "6\n"
     ]
    }
   ],
   "source": [
    "'''\n",
    "def h(y):\n",
    "    x += 1 # error -> can use global variable but not change value\n",
    "\n",
    "x = 5\n",
    "h(x)\n",
    "print(x)\n",
    "'''\n",
    "\n",
    "def h(y):\n",
    "    global x\n",
    "    x += 1\n",
    "\n",
    "x = 5\n",
    "h(x)\n",
    "print(x)"
   ]
  },
  {
   "cell_type": "code",
   "execution_count": 8,
   "metadata": {},
   "outputs": [
    {
     "name": "stdout",
     "output_type": "stream",
     "text": [
      "this is inside f\n",
      "this is inside g\n",
      "this is inside f\n"
     ]
    }
   ],
   "source": [
    "# nested function (whenever i call the the function it will give me ans)\n",
    "\n",
    "# 01\n",
    "def f():\n",
    "    def g():\n",
    "        print(\"this is inside g\")\n",
    "    print(\"this is inside f\")\n",
    "\n",
    "f()\n",
    "\n",
    "# 02\n",
    "def f():\n",
    "    def g():\n",
    "        print(\"this is inside g\")\n",
    "    g()\n",
    "    print(\"this is inside f\")\n",
    "\n",
    "f()"
   ]
  },
  {
   "cell_type": "code",
   "execution_count": 9,
   "metadata": {},
   "outputs": [
    {
     "name": "stdout",
     "output_type": "stream",
     "text": [
      "2371315805504\n"
     ]
    }
   ],
   "source": [
    "# ---------------- Function(act like datatype-> list, tuple, variable) are first class citizen \n",
    "\n",
    "def square(num):\n",
    "    return num ** 2\n",
    "\n",
    "type(square)\n",
    "print(id(square))\n",
    "\n",
    "# reassign\n",
    "x = square\n",
    "x(3)\n",
    "\n",
    "# del square \n",
    "\n",
    "# storing\n",
    "l = [1, 2, 3, square]\n",
    "l[-1](3)\n",
    "\n",
    "# set not allow mutable datatype\n",
    "s = {square}"
   ]
  },
  {
   "cell_type": "code",
   "execution_count": 10,
   "metadata": {},
   "outputs": [
    {
     "name": "stdout",
     "output_type": "stream",
     "text": [
      "7\n"
     ]
    }
   ],
   "source": [
    "# returning a function\n",
    "\n",
    "def f():\n",
    "    def x(a, b):\n",
    "        return a + b\n",
    "    return x\n",
    "\n",
    "val = f()(3, 4)\n",
    "print(val)"
   ]
  },
  {
   "cell_type": "code",
   "execution_count": 11,
   "metadata": {},
   "outputs": [
    {
     "name": "stdout",
     "output_type": "stream",
     "text": [
      "this is inside func_b\n",
      "this is inside func_a\n",
      "None\n"
     ]
    }
   ],
   "source": [
    "# function as argument\n",
    "\n",
    "def func_a():\n",
    "    print(\"this is inside func_a\")\n",
    "\n",
    "def func_b(z):\n",
    "    print(\"this is inside func_b\") \n",
    "    return z()\n",
    "\n",
    "print(func_b(func_a))"
   ]
  },
  {
   "cell_type": "code",
   "execution_count": 12,
   "metadata": {},
   "outputs": [
    {
     "data": {
      "text/plain": [
       "'odd'"
      ]
     },
     "execution_count": 12,
     "metadata": {},
     "output_type": "execute_result"
    }
   ],
   "source": [
    "# ---------------- Lambda function (anonymous function)\n",
    "# lambda a,b : a+b this is the syntax\n",
    "\n",
    "# print square\n",
    "a = lambda x: x * x\n",
    "a(5)\n",
    "\n",
    "# sum of 2 number\n",
    "b = lambda x,y: x + y\n",
    "b(19, 17)\n",
    "\n",
    "'''\n",
    "DIfference between lambda and normal function\n",
    "- lambda has no name\n",
    "- lambda has no return value\n",
    "- lambda written in 1 line\n",
    "- no reuse\n",
    "lambda use in higher order function\n",
    "'''\n",
    "# check if a string has a\n",
    "a = lambda s: 'a' in s\n",
    "a('this is a string')\n",
    "\n",
    "# odd even\n",
    "a = lambda x: 'even' if x % 2 == 0 else 'odd'\n",
    "a(11)"
   ]
  },
  {
   "cell_type": "code",
   "execution_count": 13,
   "metadata": {},
   "outputs": [
    {
     "name": "stdout",
     "output_type": "stream",
     "text": [
      "[81, 64, 49, 36]\n",
      "[81, 64, 49, 36]\n",
      "[729, 512, 343, 216]\n"
     ]
    }
   ],
   "source": [
    "# Higher order function (return a function / receive another function)\n",
    "\n",
    "def square(x):\n",
    "    return x * x\n",
    "\n",
    "def cube(x):\n",
    "    return x * x * x\n",
    "\n",
    "# HOF\n",
    "def transform(f, L):\n",
    "    output = []\n",
    "    for i in L:\n",
    "        output.append(f(i))\n",
    "    \n",
    "    print(output)\n",
    "\n",
    "L = [9, 8, 7, 6]\n",
    "\n",
    "transform(square, L)\n",
    "transform(lambda x:x*x, L)\n",
    "transform(lambda x:x*x*x, L)"
   ]
  },
  {
   "cell_type": "code",
   "execution_count": 14,
   "metadata": {},
   "outputs": [
    {
     "data": {
      "text/plain": [
       "['male', 'alpha male', 'female']"
      ]
     },
     "execution_count": 14,
     "metadata": {},
     "output_type": "execute_result"
    }
   ],
   "source": [
    "# map(lambda function, list)\n",
    " \n",
    "# square the item of a list\n",
    "list(map(lambda x: x * x, [1, 2, 3, 4]))\n",
    "\n",
    "# odd / even labelling of list item\n",
    "list(map(lambda x: 'even' if x % 2 == 0 else 'odd', [1, 2, 3, 4, 5]))\n",
    "\n",
    "# fetch names from a list of dict\n",
    "users = [\n",
    "    {\n",
    "        'name':'a',\n",
    "        'age':45,\n",
    "        'gender':'male'\n",
    "    },\n",
    "    {\n",
    "        'name':'b',\n",
    "        'age':33,\n",
    "        'gender':'alpha male'\n",
    "    },\n",
    "    {\n",
    "        'name':'c',\n",
    "        'age':50,\n",
    "        'gender':'female'\n",
    "    }\n",
    "]\n",
    "\n",
    "list(map(lambda x: x['gender'], users))"
   ]
  },
  {
   "cell_type": "code",
   "execution_count": 15,
   "metadata": {},
   "outputs": [
    {
     "data": {
      "text/plain": [
       "['apple']"
      ]
     },
     "execution_count": 15,
     "metadata": {},
     "output_type": "execute_result"
    }
   ],
   "source": [
    "# filter(lambda function, list)\n",
    "\n",
    "# number greater than 5\n",
    "l = [3, 6, 5, 8, 9, 7]\n",
    "list(filter(lambda x: x > 5, l))\n",
    "\n",
    "# fruits starts with 'a'\n",
    "fruits = ['apple', 'banana', 'orange', 'pineapple']\n",
    "list(filter(lambda x: x.startswith('a'), fruits))"
   ]
  },
  {
   "cell_type": "code",
   "execution_count": 16,
   "metadata": {},
   "outputs": [
    {
     "data": {
      "text/plain": [
       "-1"
      ]
     },
     "execution_count": 16,
     "metadata": {},
     "output_type": "execute_result"
    }
   ],
   "source": [
    "# reduce(lambda function, list)\n",
    "\n",
    "# sum of all items\n",
    "import functools\n",
    "functools.reduce(lambda x, y: x + y, [1, 2, 3, 4, 5])\n",
    "\n",
    "# find min\n",
    "functools.reduce(lambda x,y:x if x < y else y, [11, 8, 18, 3, 2, 1, -1])"
   ]
  }
 ],
 "metadata": {
  "kernelspec": {
   "display_name": "Python 3",
   "language": "python",
   "name": "python3"
  },
  "language_info": {
   "codemirror_mode": {
    "name": "ipython",
    "version": 3
   },
   "file_extension": ".py",
   "mimetype": "text/x-python",
   "name": "python",
   "nbconvert_exporter": "python",
   "pygments_lexer": "ipython3",
   "version": "3.13.0"
  }
 },
 "nbformat": 4,
 "nbformat_minor": 2
}
