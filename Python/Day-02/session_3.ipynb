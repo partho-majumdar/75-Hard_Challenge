{
 "cells": [
  {
   "cell_type": "code",
   "execution_count": 1,
   "metadata": {},
   "outputs": [
    {
     "name": "stdout",
     "output_type": "stream",
     "text": [
      "2.6666666666666665\n",
      "2.6666666666666665\n"
     ]
    }
   ],
   "source": [
    "# Sequence sum (1/1! + 2/2! + 3/3!......)\n",
    "\n",
    "# R-1\n",
    "n = 4\n",
    "fact = 1\n",
    "sum = 0;\n",
    "for i in range (1, n + 1):\n",
    "    fact *= i\n",
    "    sum += i/fact\n",
    "\n",
    "print(sum)\n",
    "\n",
    "# R-2\n",
    "import math\n",
    "n = 4\n",
    "sum = 0\n",
    "for i in range(1, n + 1):\n",
    "    sum += i / (math.factorial(i))\n",
    "\n",
    "print(sum)"
   ]
  },
  {
   "cell_type": "code",
   "execution_count": 2,
   "metadata": {},
   "outputs": [
    {
     "name": "stdout",
     "output_type": "stream",
     "text": [
      "1 1\n",
      "1 2\n",
      "1 3\n",
      "1 4\n",
      "2 1\n",
      "2 2\n",
      "2 3\n",
      "2 4\n",
      "3 1\n",
      "3 2\n",
      "3 3\n",
      "3 4\n",
      "4 1\n",
      "4 2\n",
      "4 3\n",
      "4 4\n"
     ]
    }
   ],
   "source": [
    "# ------------------ Nested loop\n",
    "\n",
    "# print pair\n",
    "n = 4\n",
    "for i in range(1, n + 1):\n",
    "    for j in range (1, n + 1):\n",
    "        print(i, j)"
   ]
  },
  {
   "cell_type": "code",
   "execution_count": 3,
   "metadata": {},
   "outputs": [
    {
     "name": "stdout",
     "output_type": "stream",
     "text": [
      "* \n",
      "* * \n",
      "* * * \n",
      "1\n",
      "121\n",
      "12321\n",
      "1234321\n"
     ]
    }
   ],
   "source": [
    "# Print pattern\n",
    "'''\n",
    "*\n",
    "* *\n",
    "* * *\n",
    "'''\n",
    "n = 3\n",
    "for i in range (1, n + 1):\n",
    "    for j in range (1, i + 1):\n",
    "        print(\"*\", end = \" \")\n",
    "    print()\n",
    "\n",
    "'''\n",
    "1\n",
    "121\n",
    "12321\n",
    "1234321\n",
    "'''\n",
    "n = 4\n",
    "for i in range (1, n + 1):\n",
    "    for j in range (1, i + 1):\n",
    "        print(j, end=\"\")\n",
    "    \n",
    "    for k in range(i-1, 0, -1):\n",
    "        print(k, end = \"\")\n",
    "        \n",
    "    print()"
   ]
  },
  {
   "cell_type": "code",
   "execution_count": 4,
   "metadata": {},
   "outputs": [
    {
     "name": "stdout",
     "output_type": "stream",
     "text": [
      "1\n",
      "2\n",
      "3\n",
      "4\n",
      "\n",
      "1\n",
      "2\n",
      "3\n",
      "4\n",
      "6\n",
      "7\n",
      "8\n",
      "9\n"
     ]
    }
   ],
   "source": [
    "# ---------------- Loop control statement(pass, break, continue)\n",
    "\n",
    "# Break -> stop\n",
    "for i in range (1, 10):\n",
    "    if i == 5:\n",
    "        break\n",
    "    print(i)\n",
    "print()\n",
    "\n",
    "# Continue -> skip\n",
    "for i in range (1, 10):\n",
    "    if i == 5:\n",
    "        continue\n",
    "    print(i)\n",
    "\n",
    "# Pass -> do not show error \n",
    "for i in range (1, 10):\n",
    "    pass\n"
   ]
  },
  {
   "cell_type": "code",
   "execution_count": 5,
   "metadata": {},
   "outputs": [
    {
     "name": "stdout",
     "output_type": "stream",
     "text": [
      "2\n",
      "3\n",
      "5\n",
      "7\n",
      "11\n",
      "13\n",
      "17\n",
      "19\n",
      "23\n"
     ]
    }
   ],
   "source": [
    "# user give a range and in that range print all the prime number\n",
    "n1 = 2\n",
    "n2 = 28\n",
    "\n",
    "for i in range (n1, n2 + 1):\n",
    "    is_prime = True\n",
    "    if i < 2:\n",
    "        continue\n",
    "    for j in range (2, i):\n",
    "        if i % j == 0:\n",
    "            is_prime = False\n",
    "            break\n",
    "\n",
    "    if is_prime:\n",
    "        print(i)"
   ]
  },
  {
   "cell_type": "code",
   "execution_count": 6,
   "metadata": {},
   "outputs": [
    {
     "name": "stdout",
     "output_type": "stream",
     "text": [
      "this is s1 this is s2 this is s3\n",
      "it's raining\n"
     ]
    }
   ],
   "source": [
    "# ----------------- Creating String\n",
    "\n",
    "s1 = 'this is s1'\n",
    "s2 = \"this is s2\"\n",
    "s3 = '''this is s3''' # for multiline string\n",
    "s4 = \"\"\"this is also valid\"\"\"\n",
    "print (s1, s2, s3)\n",
    "\n",
    "str = \"it's raining\"\n",
    "print(str)"
   ]
  },
  {
   "cell_type": "code",
   "execution_count": 7,
   "metadata": {},
   "outputs": [
    {
     "data": {
      "text/plain": [
       "'dlrow'"
      ]
     },
     "execution_count": 7,
     "metadata": {},
     "output_type": "execute_result"
    }
   ],
   "source": [
    "# ------------------- Accessing Substring\n",
    "\n",
    "s = \"hello world\"\n",
    "s[1]\n",
    "s[-2] # negative indexing for find value from last\n",
    "\n",
    "# slicing\n",
    "s[1:4] \n",
    "s[1:7:2] # include, exclude, skip(1 value)\n",
    "s[2:] # from 2 index to last index\n",
    "s[:] # print all string\n",
    "s[6:0:-1]\n",
    "s[6:0:-2]\n",
    "s[::-1] # reverse string\n",
    "s[-1:-6:-1]"
   ]
  },
  {
   "cell_type": "code",
   "execution_count": 8,
   "metadata": {},
   "outputs": [],
   "source": [
    "# ------------------- Editing and Deleting\n",
    "\n",
    "s = \"hello world\"\n",
    "# s[0] = \"P\" # string and delete are immutable can not possible\n",
    "# print(s)\n",
    "# del s\n",
    "# print(s)\n",
    "# del s[-1:-5:2] # not possible"
   ]
  },
  {
   "cell_type": "code",
   "execution_count": 9,
   "metadata": {},
   "outputs": [
    {
     "name": "stdout",
     "output_type": "stream",
     "text": [
      "helloworld\n",
      "hello world\n",
      "hellohellohellohellohello\n",
      "D\n",
      "h\n",
      "a\n",
      "k\n",
      "a\n"
     ]
    }
   ],
   "source": [
    "# -------------------- Operations on String\n",
    "\n",
    "# Arithmetic \n",
    "print(\"hello\" + \"world\")\n",
    "print(\"hello\" + \" \" +\"world\")\n",
    "print(\"hello\" * 5)\n",
    "\n",
    "# Relational\n",
    "\"jhinku\" == \"tinku\"\n",
    "\"jhinku\" != \"tinku\"\n",
    "\"dhaka\" < \"bhola\" # false ascii value of d > b\n",
    "\"Dhaka\" > \"dhaka\" \n",
    "# empty string -> false, any string -> true\n",
    "\"help\" and \"other\" # first false value or last true value\n",
    "\"help\" or \"other\" # first true value\n",
    "\"\" and \"nice\"\n",
    "\"\" or \"nice\"\n",
    "\n",
    "# loop\n",
    "for i in \"Dhaka\":\n",
    "    print(i)"
   ]
  },
  {
   "cell_type": "code",
   "execution_count": 10,
   "metadata": {},
   "outputs": [
    {
     "data": {
      "text/plain": [
       "'protim         partho'"
      ]
     },
     "execution_count": 10,
     "metadata": {},
     "output_type": "execute_result"
    }
   ],
   "source": [
    "# ---------------------- Common functions\n",
    "\n",
    "len(\"hello world\")\n",
    "max(\"hello world\") # max value according to ascii value\n",
    "min(\"hello world\")\n",
    "sorted(\"hello world\") # output is ascending list\n",
    "sorted(\"hello world\", reverse = True) # output is descending list\n",
    "\n",
    "# only work for string\n",
    "s = 'hello world'\n",
    "s.capitalize()\n",
    "s.title()\n",
    "s.upper()\n",
    "s.lower()\n",
    "'HellO wOrLd'.swapcase()\n",
    "'my name is partho protim majunmdar'.count('p') # how many times p occur\n",
    "'my name is partho protim majunmdar'.find('is') # return index if not found give me -1\n",
    "'my name is partho protim majunmdar'.index('is') # same as find() but if not found give me error\n",
    "'this is anxious'.startswith('is')\n",
    "'this is anxious'.endswith('this')\n",
    "\n",
    "# format -> insert variable value inside string\n",
    "name = 'Partho'\n",
    "city = 'Dhaka'\n",
    "\n",
    "'hi, my name is {}, and I live in {}'.format(name, city)\n",
    "'hi, my name is {1}, and I live in {0}'.format(name, city)\n",
    "\n",
    "# isalnum -> check alphabet and number\n",
    "'protimpartho44'.isalnum()\n",
    "'protimpartho44@'.isalnum()\n",
    "\n",
    "# isalpha -> check only alphabet\n",
    "'partho67'.isalpha()\n",
    "'partho'.isalpha()\n",
    "\n",
    "# isdigit -> check only number\n",
    "'papa39'.isdigit()\n",
    "'787393'.isdigit()\n",
    "\n",
    "# isidentifier -> valid identifier\n",
    "'my_name1'.isidentifier()\n",
    "'1my_name'.isidentifier()\n",
    "\n",
    "# split/join\n",
    "'hi my name is partho'.split('is')\n",
    "'hi my name is partho'.split(' ')\n",
    "\n",
    "\"-\".join(['hi', 'my', 'name', 'is', 'partho'])\n",
    "\n",
    "# replace\n",
    "'hi i am dhaka'.replace('dhaka', 'partho')\n",
    "\n",
    "# strip -> remove unnecessary space from first and last\n",
    "'             protim         partho       '.strip() "
   ]
  },
  {
   "cell_type": "code",
   "execution_count": 11,
   "metadata": {},
   "outputs": [
    {
     "name": "stdout",
     "output_type": "stream",
     "text": [
      "16\n"
     ]
    }
   ],
   "source": [
    "# find the length of given string without using len function\n",
    "s = 'this is a string'\n",
    "cnt = 0\n",
    "for i in s:\n",
    "    cnt +=1\n",
    "print(cnt)"
   ]
  },
  {
   "cell_type": "code",
   "execution_count": 12,
   "metadata": {},
   "outputs": [
    {
     "data": {
      "text/plain": [
       "'protimpartho67'"
      ]
     },
     "execution_count": 12,
     "metadata": {},
     "output_type": "execute_result"
    }
   ],
   "source": [
    "# extract username from an email (protimpartho67@gmail.com) here username is protimpartho67\n",
    "# R1\n",
    "s = 'protimpartho67@gmail.com'\n",
    "s.split('@')[0]\n",
    "\n",
    "# R2\n",
    "pos = s.find('@')\n",
    "s[0:pos]"
   ]
  },
  {
   "cell_type": "code",
   "execution_count": 13,
   "metadata": {},
   "outputs": [
    {
     "name": "stdout",
     "output_type": "stream",
     "text": [
      "3\n"
     ]
    }
   ],
   "source": [
    "# count frequency of a particular character in a string -> hello, i am protim from dhaka here o = 3\n",
    "# R1\n",
    "s = 'hello, i am protim from dhaka'\n",
    "s.count('o')\n",
    "\n",
    "# R2\n",
    "cnt = 0\n",
    "for i in s:\n",
    "    if i == 'o':\n",
    "        cnt +=1\n",
    "\n",
    "print(cnt)\n"
   ]
  },
  {
   "cell_type": "code",
   "execution_count": 14,
   "metadata": {},
   "outputs": [
    {
     "name": "stdout",
     "output_type": "stream",
     "text": [
      "artho rotim\n"
     ]
    }
   ],
   "source": [
    "# remove particular character from a string\n",
    "str = 'partho protim'\n",
    "re = 'p'\n",
    "ans = ''\n",
    "\n",
    "for i in str:\n",
    "    if i != re:\n",
    "        ans +=i\n",
    "\n",
    "print(ans)"
   ]
  },
  {
   "cell_type": "code",
   "execution_count": 15,
   "metadata": {},
   "outputs": [
    {
     "name": "stdout",
     "output_type": "stream",
     "text": [
      "yes\n"
     ]
    }
   ],
   "source": [
    "# check given string palindrome or not -> wow, mom, madam, lol\n",
    "s = 'madam'\n",
    "is_palindrome = True\n",
    "\n",
    "for i in range(len(s) // 2):\n",
    "    if s[i] != s[len(s) - i - 1]:\n",
    "        is_palindrome = False\n",
    "        break\n",
    "\n",
    "if is_palindrome:\n",
    "    print(\"yes\")\n",
    "else:\n",
    "    print(\"no\")"
   ]
  },
  {
   "cell_type": "code",
   "execution_count": 16,
   "metadata": {},
   "outputs": [
    {
     "name": "stdout",
     "output_type": "stream",
     "text": [
      "['hello', 'this', 'is', 'anxious']\n"
     ]
    }
   ],
   "source": [
    "# count the number of a string without using split()\n",
    "s = 'hello this is anxious'\n",
    "ls = []\n",
    "temp = ''\n",
    "\n",
    "for i in s:\n",
    "    if i != ' ':\n",
    "        temp += i\n",
    "    else:\n",
    "        ls.append(temp)\n",
    "        temp = ''\n",
    "\n",
    "if temp:\n",
    "    ls.append(temp)\n",
    "    \n",
    "print(ls)"
   ]
  },
  {
   "cell_type": "code",
   "execution_count": 17,
   "metadata": {},
   "outputs": [
    {
     "name": "stdout",
     "output_type": "stream",
     "text": [
      "Hello This Is Anxious From Nothing\n"
     ]
    }
   ],
   "source": [
    "# convert string to title case without using title()\n",
    "str = 'hello this is anxious from nothing'\n",
    "ls = []\n",
    "\n",
    "for i in str.split(\" \"):\n",
    "    ls.append(i[0].upper() + i[1:].lower())\n",
    "\n",
    "print(\" \".join(ls))"
   ]
  },
  {
   "cell_type": "code",
   "execution_count": 18,
   "metadata": {},
   "outputs": [
    {
     "name": "stdout",
     "output_type": "stream",
     "text": [
      "<class 'str'>\n"
     ]
    }
   ],
   "source": [
    "# convert the integer to string\n",
    "n = 34562\n",
    "digit = '0123456789'\n",
    "ans = ''\n",
    "\n",
    "while n != 0:\n",
    "    ans = digit[n % 10] + ans\n",
    "    n //= 10\n",
    "\n",
    "print(type(ans))"
   ]
  }
 ],
 "metadata": {
  "kernelspec": {
   "display_name": "Python 3",
   "language": "python",
   "name": "python3"
  },
  "language_info": {
   "codemirror_mode": {
    "name": "ipython",
    "version": 3
   },
   "file_extension": ".py",
   "mimetype": "text/x-python",
   "name": "python",
   "nbconvert_exporter": "python",
   "pygments_lexer": "ipython3",
   "version": "3.13.0"
  }
 },
 "nbformat": 4,
 "nbformat_minor": 2
}
