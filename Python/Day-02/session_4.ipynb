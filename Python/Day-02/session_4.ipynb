{
 "cells": [
  {
   "cell_type": "code",
   "execution_count": 1,
   "metadata": {},
   "outputs": [
    {
     "name": "stdout",
     "output_type": "stream",
     "text": [
      "20\n",
      "25.5\n",
      "True\n",
      "[1, 8, 9, 3]\n",
      "140717210985416\n",
      "\n",
      "140717210985448\n",
      "140717210985480\n",
      "140717210985512\n",
      "140717210985448\n",
      "140717210985480\n",
      "140717210985512\n"
     ]
    }
   ],
   "source": [
    "# ------------------ Python Lists (dynamic array-multiple item under 1 name)\n",
    "\n",
    "ls = [20, 25.5, True, [1, 8, 9, 3]]\n",
    "for i in ls:\n",
    "    print(i)\n",
    "'''\n",
    "Arrays VS List\n",
    "1. Fixed - Dynamic\n",
    "2. Heterogenous -> store different data type\n",
    "3. list execution time more\n",
    "4. list occupied more space\n",
    "\n",
    "List --> Referential array (store pointer address) \n",
    "'''\n",
    "a = 2\n",
    "print(id(2)) # give me memory address\n",
    "ls = [3, 4, 5]\n",
    "print()\n",
    "print(id(ls[0]))\n",
    "print(id(ls[1]))\n",
    "print(id(ls[2]))\n",
    "print(id(3))\n",
    "print(id(4))\n",
    "print(id(5))"
   ]
  },
  {
   "cell_type": "code",
   "execution_count": 2,
   "metadata": {},
   "outputs": [
    {
     "name": "stdout",
     "output_type": "stream",
     "text": [
      "[11, 2, 3, [8, 5], 101]\n"
     ]
    }
   ],
   "source": [
    "# ----------------- Characteristic of list\n",
    "\n",
    "# mutable / dynamic / nested\n",
    "ls = [1, 2, 3, [8, 5]]\n",
    "ls[0] = 11\n",
    "ls.append(101)\n",
    "print(ls)"
   ]
  },
  {
   "cell_type": "code",
   "execution_count": 3,
   "metadata": {},
   "outputs": [
    {
     "name": "stdout",
     "output_type": "stream",
     "text": [
      "[]\n",
      "[1, 2, 9, [6, 7]]\n",
      "[[[1, 2], [3, 4]], [[5, 6], [7, 8]]]\n",
      "[1, 2.5, True, (6+5j), 'hi']\n",
      "['n', 'i', 'c', 'e']\n"
     ]
    }
   ],
   "source": [
    "# ----------------- Creating a list\n",
    "\n",
    "# empty\n",
    "print([])\n",
    "\n",
    "# 1d\n",
    "ls = [1, 2, 3, 4]\n",
    "\n",
    "# 2d\n",
    "ls1 = [1, 2, 9, [6, 7]] # heterogenous (3 int, 1 list)\n",
    "print(ls1)\n",
    "\n",
    "# 3d\n",
    "ls2 = [\n",
    "    [\n",
    "        [1, 2],\n",
    "        [3, 4]\n",
    "    ],\n",
    "    [\n",
    "        [5, 6],\n",
    "        [7, 8]\n",
    "    ]\n",
    "] \n",
    "print(ls2) # homogenous (list inside list)\n",
    "\n",
    "# heterogenous\n",
    "ls4 = [1, 2.5, True, 6 + 5j, 'hi']\n",
    "print(ls4)\n",
    "\n",
    "# using type conversion\n",
    "print(list('nice'))"
   ]
  },
  {
   "cell_type": "code",
   "execution_count": 4,
   "metadata": {},
   "outputs": [
    {
     "name": "stdout",
     "output_type": "stream",
     "text": [
      "3\n",
      "9\n",
      "[10, 12]\n",
      "10\n",
      "12\n",
      "[[5, 6], [7, 8]]\n",
      "[5, 6]\n",
      "6\n",
      "[8, 4, 3]\n",
      "[9, 5, [10, 12]]\n",
      "[4, 9]\n",
      "[4, 9]\n",
      "[[10, 12], 5, 9, 2, 3, 4, 8]\n"
     ]
    }
   ],
   "source": [
    "# ---------------- Accessing item from list\n",
    "\n",
    "# indexing\n",
    "ls = [8, 4, 3, 2, 9, 5, [10, 12]]\n",
    "print(ls[2])\n",
    "print(ls[-3])\n",
    "print(ls[-1])\n",
    "print(ls[-1][0])\n",
    "print(ls[-1][-1])\n",
    "\n",
    "ls2 = [\n",
    "    [\n",
    "        [1, 2],\n",
    "        [3, 4]\n",
    "    ],\n",
    "    [\n",
    "        [5, 6],\n",
    "        [7, 8]\n",
    "    ]\n",
    "]\n",
    "print(ls2[1])\n",
    "print(ls2[1][0])\n",
    "print(ls2[1][0][1])\n",
    "\n",
    "# slicing\n",
    "ls = [8, 4, 3, 2, 9, 5, [10, 12]]\n",
    "print(ls[0:3])\n",
    "print(ls[-3:])\n",
    "print(ls[1:5:3])\n",
    "print(ls[1::3])\n",
    "print(ls[::-1])"
   ]
  },
  {
   "cell_type": "code",
   "execution_count": 5,
   "metadata": {},
   "outputs": [
    {
     "name": "stdout",
     "output_type": "stream",
     "text": [
      "[1, 4, 5, 6, 'wow', [33, 44]]\n",
      "[1, 4, 5, 6, 'wow', [33, 44], 9, 7, 8, 'D', 'h', 'a', 'k', 'a']\n",
      "[1, 4, 778, 5, 6, 'wow', [33, 44], 9, 7, 8, 'D', 'h', 'a', 'k', 'a']\n"
     ]
    }
   ],
   "source": [
    "# ------------------ Adding item to a list\n",
    "\n",
    "# append (add one item)\n",
    "ls = [1, 4, 5, 6]\n",
    "ls.append('wow')\n",
    "ls.append([33, 44])\n",
    "print(ls)\n",
    "\n",
    "# extend (add multiple item one by one) \n",
    "ls.extend([9, 7, 8])\n",
    "ls.extend('Dhaka')\n",
    "print(ls)\n",
    "\n",
    "# insert (add value in desire index)\n",
    "ls.insert(2, 778)\n",
    "print(ls)"
   ]
  },
  {
   "cell_type": "code",
   "execution_count": 6,
   "metadata": {},
   "outputs": [
    {
     "name": "stdout",
     "output_type": "stream",
     "text": [
      "['99', True, 8.8, 'attractive', 5, 4, 3]\n"
     ]
    }
   ],
   "source": [
    "# ----------------- Editing item in a list\n",
    "\n",
    "ls = [9, 8, 7, 6, 5, 4, 3]\n",
    "ls[0] = '99'\n",
    "ls[1:4] = [True, 8.8, 'attractive']\n",
    "print(ls)"
   ]
  },
  {
   "cell_type": "code",
   "execution_count": 7,
   "metadata": {},
   "outputs": [
    {
     "name": "stdout",
     "output_type": "stream",
     "text": [
      "[5]\n",
      "[21, 28, 23, 97]\n",
      "[9, 5, 8, 6]\n",
      "[]\n"
     ]
    }
   ],
   "source": [
    "# ---------------- Delete item from a list\n",
    "\n",
    "# del (delete using index)\n",
    "ls = [1, 2, 3, 4, 5]\n",
    "del ls[1]\n",
    "del ls[0:3]\n",
    "print(ls)\n",
    "\n",
    "# remove (delete using value)\n",
    "ls1 = [21, 28, 23, 37, 97]\n",
    "ls1.remove(37)\n",
    "print(ls1)\n",
    "\n",
    "# pop\n",
    "ls2 = [9, 7, 5, 8, 6, 3]\n",
    "ls2.pop()\n",
    "ls2.pop(1)\n",
    "print(ls2)\n",
    "\n",
    "# clear (list will be empty)\n",
    "ls3 = [9, 6, 7, 5]\n",
    "ls3.clear()\n",
    "print(ls3)"
   ]
  },
  {
   "cell_type": "code",
   "execution_count": 8,
   "metadata": {},
   "outputs": [
    {
     "name": "stdout",
     "output_type": "stream",
     "text": [
      "[1, 2, 3, 9, 8, 7]\n",
      "[1, 2, 3, 1, 2, 3, 1, 2, 3]\n",
      "False\n",
      "False\n",
      "1\n",
      "2\n",
      "3\n",
      "4\n",
      "[5, 6]\n",
      "[[1, 2], [3, 4]]\n",
      "[5, 6]\n",
      "[7, 8]\n"
     ]
    }
   ],
   "source": [
    "# ----------------- Operations on lists\n",
    "\n",
    "# arithmetic\n",
    "l1 = [1, 2, 3]\n",
    "l2 = [9, 8, 7]\n",
    "print(l1 + l2) # concat / merge\n",
    "print(l1 * 3)\n",
    "\n",
    "# membership (in / not in)\n",
    "l1 = [1, 2, 3, 4, 5]\n",
    "l2 = [1, 2, 3, 4, [5, 6]]\n",
    "print(323 in l2)\n",
    "print([5, 6] not in l2)\n",
    "\n",
    "# loops\n",
    "l2 = [1, 2, 3, 4, [5, 6]]\n",
    "for i in l2:\n",
    "    print(i)\n",
    "\n",
    "l3 = [[[1, 2], [3, 4]], [5, 6], [7, 8]]\n",
    "for i in l3:\n",
    "    print(i)"
   ]
  },
  {
   "cell_type": "code",
   "execution_count": 9,
   "metadata": {},
   "outputs": [
    {
     "name": "stdout",
     "output_type": "stream",
     "text": [
      "6\n",
      "4\n",
      "7\n",
      "[4, 5, 6, 7]\n",
      "[7, 6, 5, 4]\n",
      "2\n",
      "0\n",
      "2\n",
      "[0, 7, 5, 1, 2]\n",
      "[0, 1, 2, 5, 7]\n",
      "[2, 1, 5, 7]\n",
      "2131075828480\n",
      "[2, 1, 5, 7]\n",
      "2131050471936\n"
     ]
    }
   ],
   "source": [
    "# ------------- List functions\n",
    "\n",
    "# len/min/max\n",
    "l1 = [7, 6, 5, 4, [9, 8], 11]\n",
    "l2 = [7, 6, 5, 4]\n",
    "print(len(l1))\n",
    "print(min(l2))\n",
    "print(max(l2))\n",
    "print(sorted(l2))\n",
    "print(sorted(l2, reverse=True))\n",
    "\n",
    "# count (how many time value occur)\n",
    "ls = [1, 2, 3, 1, 4, 5]\n",
    "print(ls.count(1))\n",
    "\n",
    "# index\n",
    "print(ls.index(1)) # give first position if multiple value occur\n",
    "print(ls.index(3))\n",
    "\n",
    "# reverse\n",
    "ls = [2, 1, 5, 7, 0]\n",
    "ls.reverse() # make permanent changes\n",
    "print(ls)\n",
    "\n",
    "# sort\n",
    "ls.sort() # sort() make permanent changes but sorted() make temporary changes\n",
    "print(ls)\n",
    "\n",
    "# copy\n",
    "l1 = [2, 1, 5, 7]\n",
    "print(l1)\n",
    "print(id(l1))\n",
    "l2 = l1.copy()\n",
    "print(l2)\n",
    "print(id(l2))\n"
   ]
  },
  {
   "cell_type": "code",
   "execution_count": 10,
   "metadata": {},
   "outputs": [
    {
     "name": "stdout",
     "output_type": "stream",
     "text": [
      "[1, 2, 3, 4, 5, 6, 7, 8, 9, 10]\n",
      "[1, 2, 3, 4, 5, 6, 7, 8, 9, 10]\n",
      "[-6, -9, -12]\n"
     ]
    },
    {
     "data": {
      "text/plain": [
       "[5, 6, 7, 8, 10, 12, 14, 16, 15, 18, 21, 24, 20, 24, 28, 32]"
      ]
     },
     "execution_count": 10,
     "metadata": {},
     "output_type": "execute_result"
    }
   ],
   "source": [
    "# ----------------- List Comprehension\n",
    "\n",
    "# add 1 - 10 number in a list\n",
    "# R1\n",
    "l = []\n",
    "for i in range(1, 11):\n",
    "    l.append(i)\n",
    "print(l)\n",
    "\n",
    "# R2\n",
    "l2 = [i for i in range(1, 11)]\n",
    "print(l2)\n",
    "\n",
    "# scalar multiplication on vector\n",
    "# R1\n",
    "v = [2, 3, 4]\n",
    "s = -3\n",
    "# print(v * s)\n",
    "x = []\n",
    "for i in v:\n",
    "    x.append(i * s)\n",
    "\n",
    "print(x)\n",
    "\n",
    "# R2\n",
    "[s * i for i in v]\n",
    "\n",
    "# add square\n",
    "l = [1, 2, 3, 4, 5]\n",
    "[i * i for i in l]\n",
    "\n",
    "# print all number that are divisible by 5 in range 1 to 50\n",
    "[i for i in range(1, 51) if i % 5 == 0]\n",
    "\n",
    "# find languages which start with p\n",
    "languages = ['java', 'python', 'php', 'c', 'javascript']\n",
    "[i for i in languages if i.startswith('p')]\n",
    "\n",
    "# nested if with comprehension list\n",
    "# add new list from my_fruits -> if fruits exists in basket and also start with 'a\n",
    "basket = ['apple', 'guava', 'cherry', 'banana']\n",
    "my_fruits = ['apple', 'kiwi', 'grapes', 'banana']\n",
    "\n",
    "[i for i in my_fruits if i in basket if i.startswith('a')]\n",
    "\n",
    "# print 3*3 matrix using list comprehension\n",
    "[[i*j for i in range(1,4)] for j in range(1, 4)]\n",
    "\n",
    "# Cartesian product\n",
    "l1 = [1, 2, 3, 4]\n",
    "l2 = [5, 6, 7, 8]\n",
    "\n",
    "[i*j for i in l1 for j in l2]"
   ]
  },
  {
   "cell_type": "code",
   "execution_count": 11,
   "metadata": {},
   "outputs": [
    {
     "name": "stdout",
     "output_type": "stream",
     "text": [
      "9\n",
      "8\n",
      "7\n",
      "6\n",
      "5\n",
      "4\n",
      "9\n",
      "8\n",
      "7\n",
      "6\n",
      "5\n",
      "4\n"
     ]
    }
   ],
   "source": [
    "# ------------------- 2 ways to traverse a list\n",
    "\n",
    "# item-wise\n",
    "ls = [9, 8, 7, 6, 5, 4]\n",
    "for i in ls:\n",
    "    print(i)\n",
    "\n",
    "# index-wise\n",
    "for i in range(0, len(ls)):\n",
    "    print(ls[i])"
   ]
  },
  {
   "cell_type": "code",
   "execution_count": 12,
   "metadata": {},
   "outputs": [
    {
     "data": {
      "text/plain": [
       "[0, 0, 0, 0]"
      ]
     },
     "execution_count": 12,
     "metadata": {},
     "output_type": "execute_result"
    }
   ],
   "source": [
    "# --------------------- zip function (iterator of tuple pair together)\n",
    "\n",
    "l1 = [1, 2, 3, 4]\n",
    "l2 = [-1, -2, -3, -4]\n",
    "\n",
    "list(zip(l1, l2))\n",
    "\n",
    "[i+j for i,j in list(zip(l1, l2))]"
   ]
  },
  {
   "cell_type": "code",
   "execution_count": 13,
   "metadata": {},
   "outputs": [
    {
     "name": "stdout",
     "output_type": "stream",
     "text": [
      "[1, 2, 3]\n",
      "[1, 2, 3]\n",
      "[1, 2, 3, 101]\n",
      "[1, 2, 3, 101]\n"
     ]
    }
   ],
   "source": [
    "# disadvantages of python\n",
    "'''\n",
    "1. Slow\n",
    "2. Take more memory\n",
    "3. Risky usages (cause mutable)\n",
    "'''\n",
    "\n",
    "a = [1, 2, 3]\n",
    "b = a\n",
    "\n",
    "print(a)\n",
    "print(b)\n",
    "\n",
    "a.append(101)\n",
    "\n",
    "print(a)\n",
    "print(b) # here i made changes in a but it also changes in b\n"
   ]
  }
 ],
 "metadata": {
  "kernelspec": {
   "display_name": "Python 3",
   "language": "python",
   "name": "python3"
  },
  "language_info": {
   "codemirror_mode": {
    "name": "ipython",
    "version": 3
   },
   "file_extension": ".py",
   "mimetype": "text/x-python",
   "name": "python",
   "nbconvert_exporter": "python",
   "pygments_lexer": "ipython3",
   "version": "3.13.0"
  }
 },
 "nbformat": 4,
 "nbformat_minor": 2
}
