{
 "cells": [
  {
   "cell_type": "code",
   "execution_count": 1,
   "metadata": {},
   "outputs": [
    {
     "name": "stdout",
     "output_type": "stream",
     "text": [
      "<class 'tuple'>\n",
      "<class 'tuple'>\n"
     ]
    }
   ],
   "source": [
    "# ------------------------- Tuple (immutable / allow duplicate)\n",
    "\n",
    "t1 = (2) # this is not single item tuple, this is int\n",
    "t1 = (2, ) # this is single item tuple\n",
    "print(type(t1))\n",
    "\n",
    "# homogeneous tuple\n",
    "t = (1, 2, 3, 4, 5)\n",
    "\n",
    "# heterogeneous tuple\n",
    "t = (1, False, 5.5, 'py')\n",
    "print(type(t))\n",
    "\n",
    "# nested tuple\n",
    "t = (1, 2, 3, 4, (7, 8))\n",
    "\n",
    "# using type conversion\n",
    "t = tuple('hello')"
   ]
  },
  {
   "cell_type": "code",
   "execution_count": 2,
   "metadata": {},
   "outputs": [],
   "source": [
    "# ------------------- Accessing item\n",
    "\n",
    "tp = (9, 1, 2, 8, 5, (55, 66))\n",
    "# indexing\n",
    "tp[0]\n",
    "tp[-2]\n",
    "\n",
    "# slicing\n",
    "tp[1:4:2]\n",
    "tp[::-1]\n",
    "tp[5][1]\n",
    "\n",
    "# edit, add\n",
    "# tp[1] = 101 # as tuple immutable hence not editable\n",
    "\n",
    "# del\n",
    "del tp # it work for delete entire tuple not work for particular item"
   ]
  },
  {
   "cell_type": "code",
   "execution_count": 3,
   "metadata": {},
   "outputs": [
    {
     "name": "stdout",
     "output_type": "stream",
     "text": [
      "(1, 2, 3, 4, 9, 8, 7, 6)\n",
      "(1, 2, 3, 4, 1, 2, 3, 4, 1, 2, 3, 4)\n",
      "True\n",
      "True\n",
      "1\n",
      "2\n",
      "3\n",
      "4\n"
     ]
    }
   ],
   "source": [
    "# -------------- Operations on tuple\n",
    "\n",
    "# + ans -\n",
    "t1 = (1, 2, 3, 4)\n",
    "t2 = (9, 8, 7, 6)\n",
    "\n",
    "print(t1 + t2) # merge\n",
    "print(t1 * 3)\n",
    "\n",
    "# membership\n",
    "print(1 in t1)\n",
    "print(1 not in t2)\n",
    "\n",
    "# iteration\n",
    "for i in t1:\n",
    "    print(i)"
   ]
  },
  {
   "cell_type": "code",
   "execution_count": 4,
   "metadata": {},
   "outputs": [
    {
     "name": "stdout",
     "output_type": "stream",
     "text": [
      "6\n",
      "58\n",
      "1\n",
      "9\n"
     ]
    },
    {
     "data": {
      "text/plain": [
       "0"
      ]
     },
     "execution_count": 4,
     "metadata": {},
     "output_type": "execute_result"
    }
   ],
   "source": [
    "# --------------- Tuple functions\n",
    "\n",
    "tp1 = (9, 1, 2, 8, 5, (55, 66))\n",
    "tp2 = (9, 1, 2, 9, 8, 5, 7, 8, 9)\n",
    "print(len(tp1))\n",
    "print(sum(tp2))\n",
    "print(min(tp2))\n",
    "print(max(tp2))\n",
    "sorted(tp2, reverse=True)\n",
    "tp2.count(9)\n",
    "tp2.index(9)"
   ]
  },
  {
   "cell_type": "code",
   "execution_count": 5,
   "metadata": {},
   "outputs": [
    {
     "name": "stdout",
     "output_type": "stream",
     "text": [
      "1 2 3\n",
      "22 11\n",
      "[3, 4, 5, 6]\n"
     ]
    },
    {
     "data": {
      "text/plain": [
       "((1, 9), (2, 8), (3, 7), (4, 6), (5, 5))"
      ]
     },
     "execution_count": 5,
     "metadata": {},
     "output_type": "execute_result"
    }
   ],
   "source": [
    "# tuple unpacking\n",
    "\n",
    "a, b, c = (1, 2, 3)\n",
    "print(a, b, c)\n",
    "\n",
    "# swap value\n",
    "a = 11\n",
    "b = 22\n",
    "a, b = b, a\n",
    "\n",
    "print(a, b)\n",
    "\n",
    "a, b, *other = (1, 2, 3, 4, 5, 6)\n",
    "print(other)\n",
    "\n",
    "# zip function\n",
    "t1 = (1, 2, 3, 4, 5)\n",
    "t2 = (9, 8, 7, 6, 5)\n",
    "\n",
    "tuple(zip(t1, t2))"
   ]
  },
  {
   "cell_type": "code",
   "execution_count": 6,
   "metadata": {},
   "outputs": [
    {
     "name": "stdout",
     "output_type": "stream",
     "text": [
      "<class 'set'>\n",
      "{1, 2, 4, 5}\n",
      "{1, 2.5, (9, 8), 'nice'}\n",
      "{1, 2, 3, 4}\n",
      "True\n"
     ]
    }
   ],
   "source": [
    "# ----------------------- Set (unordered collection of items / no duplicate / immutable)\n",
    "\n",
    "# empty\n",
    "s = set()\n",
    "print(type(s))\n",
    "\n",
    "# 1d\n",
    "s = {1, 2, 5, 4, 1}\n",
    "print(s)\n",
    "\n",
    "# homo & hetero\n",
    "s = {1, 2.5, False, 'nice'}\n",
    "s = {1, 2.5, True, 'nice', (9, 8)} # in output no true cause 1 == true other value is true ans it not contain duplicate value\n",
    "print(s)\n",
    "\n",
    "# type conversion\n",
    "s = set([1, 2, 3, 4])\n",
    "print(s)\n",
    "\n",
    "s1 = {1, 2, 3}\n",
    "s2 = {2, 3, 1}\n",
    "\n",
    "print(s1 == s2) # true cause check only value "
   ]
  },
  {
   "cell_type": "code",
   "execution_count": 7,
   "metadata": {},
   "outputs": [
    {
     "name": "stdout",
     "output_type": "stream",
     "text": [
      "{1, 2, 3, 21, 8, 9, 11}\n",
      "{1, 2, 3, 8, 9, 11, 21, 87, 23, 90}\n",
      "{1, 2, 3, 8, 9, 11, 21, 87, 23, 90}\n",
      "{1, 2, 3, 8, 9, 21, 87, 23, 90}\n",
      "{1, 2, 3, 8, 9, 87, 23, 90}\n",
      "{2, 3, 8, 9, 87, 23, 90}\n",
      "set()\n"
     ]
    }
   ],
   "source": [
    "# Access / slicing / editing not possible in set\n",
    "\n",
    "# adding item\n",
    "s = {11, 9, 1, 2, 8, 3}\n",
    "s.add(21) # add one value a a time where it will be added it decide hash value \n",
    "print(s)\n",
    "\n",
    "# update (add multiple value at a time)\n",
    "s.update([90, 87, 23])\n",
    "print(s)\n",
    "\n",
    "# delete item\n",
    "s1 = {1, 2, 3, 8, 9, 11, 21, 87, 23, 90}\n",
    "print(s1)\n",
    "# del s1\n",
    "# print(s1)\n",
    "\n",
    "# discard (delete one item)\n",
    "s1.discard(11)\n",
    "print(s1)\n",
    "\n",
    "s1.remove(21)\n",
    "print(s1)\n",
    "\n",
    "s1.pop() # random delete one item\n",
    "print(s1)\n",
    "\n",
    "s1.clear()\n",
    "print(s1)"
   ]
  },
  {
   "cell_type": "code",
   "execution_count": 8,
   "metadata": {},
   "outputs": [
    {
     "name": "stdout",
     "output_type": "stream",
     "text": [
      "{1, 2, 3, 4, 5, 6, 7, 8}\n",
      "{1, 2, 3, 4, 5, 6, 7, 8}\n",
      "{4, 5}\n",
      "{4, 5}\n",
      "1\n",
      "2\n",
      "3\n",
      "4\n",
      "5\n",
      "5\n",
      "1\n",
      "5\n"
     ]
    },
    {
     "data": {
      "text/plain": [
       "[5, 4, 3, 2, 1]"
      ]
     },
     "execution_count": 8,
     "metadata": {},
     "output_type": "execute_result"
    }
   ],
   "source": [
    "# --------------------- Set Operations\n",
    "\n",
    "s1 = {1, 2, 3, 4, 5}\n",
    "s2 = {4, 5, 6, 7, 8}\n",
    "\n",
    "# union (|) \n",
    "print(s1.union(s2))\n",
    "print(s2.union(s1))\n",
    "s1 | s2\n",
    "\n",
    "# intersection (&)\n",
    "print(s1.intersection(s2))\n",
    "print(s2.intersection(s1))\n",
    "s1 & s2\n",
    "\n",
    "# difference\n",
    "s1 - s2\n",
    "s2 - s1\n",
    "\n",
    "# symmetric difference (^) -> remove all common element\n",
    "s1 ^ s2\n",
    "s2 ^ s1\n",
    "\n",
    "# membership \n",
    "1 in s1\n",
    "1 not in s1\n",
    "\n",
    "# loops\n",
    "for i in s1:\n",
    "    print(i)\n",
    "\n",
    "print(len(s1))\n",
    "print(min(s1))\n",
    "print(max(s1))\n",
    "sorted(s1, reverse=True)"
   ]
  },
  {
   "cell_type": "code",
   "execution_count": 9,
   "metadata": {},
   "outputs": [
    {
     "name": "stdout",
     "output_type": "stream",
     "text": [
      "{1, 2, 3, 4, 5, 6, 7, 8}\n",
      "{4, 5, 6, 7, 8}\n",
      "{4, 5}\n",
      "{4, 5, 6, 7, 8}\n",
      "{1, 2, 3}\n",
      "{4, 5, 6, 7, 8}\n",
      "{1, 2, 3, 6, 7, 8}\n",
      "{4, 5, 6, 7, 8}\n"
     ]
    }
   ],
   "source": [
    "# union / update\n",
    "s1 = {1, 2, 3, 4, 5}\n",
    "s2 = {4, 5, 6, 7, 8}\n",
    "\n",
    "s1.union(s2)\n",
    "s1.update(s2)\n",
    "print(s1) # make permanent change in s1\n",
    "print(s2)\n",
    "\n",
    "# intersection / intersection_update\n",
    "s1 = {1, 2, 3, 4, 5}\n",
    "s2 = {4, 5, 6, 7, 8}\n",
    "\n",
    "s1.intersection(s2)\n",
    "s1.intersection_update(s2)\n",
    "print(s1) # make permanent change in s1\n",
    "print(s2)\n",
    "\n",
    "# difference / difference_update\n",
    "s1 = {1, 2, 3, 4, 5}\n",
    "s2 = {4, 5, 6, 7, 8}\n",
    "\n",
    "s1.difference(s2)\n",
    "s1.difference_update(s2)\n",
    "print(s1) # make permanent change in s1\n",
    "print(s2)\n",
    "\n",
    "# symmetric difference / symmetric_difference_update\n",
    "s1 = {1, 2, 3, 4, 5}\n",
    "s2 = {4, 5, 6, 7, 8}\n",
    "\n",
    "s1.symmetric_difference(s2)\n",
    "s1.symmetric_difference_update(s2)\n",
    "print(s1) # make permanent change in s1\n",
    "print(s2)"
   ]
  },
  {
   "cell_type": "code",
   "execution_count": 10,
   "metadata": {},
   "outputs": [
    {
     "name": "stdout",
     "output_type": "stream",
     "text": [
      "{8, 5, 6, 7}\n",
      "{8, 5, 6, 7}\n"
     ]
    }
   ],
   "source": [
    "# isdisjoint (there is no common element)\n",
    "s1 = {1, 2, 3, 4, 5}\n",
    "s2 = {4, 5, 6, 7, 8}\n",
    "\n",
    "s1.isdisjoint(s2)\n",
    "\n",
    "# issubset\n",
    "s1 = {1, 2, 3, 4, 5}\n",
    "s2 = {3, 4, 5}\n",
    "\n",
    "s1.issubset(s2) # false -> s1 is not subset of s2\n",
    "s2.issubset(s1) # true -> s2 is subset of s1\n",
    "\n",
    "# copy \n",
    "s1 = {8, 6, 7, 5}\n",
    "s2 = s1.copy()\n",
    "print(s1)\n",
    "print(s2)"
   ]
  },
  {
   "cell_type": "code",
   "execution_count": 11,
   "metadata": {},
   "outputs": [
    {
     "data": {
      "text/plain": [
       "frozenset({1, 2, 3, 4, 5, 6})"
      ]
     },
     "execution_count": 11,
     "metadata": {},
     "output_type": "execute_result"
    }
   ],
   "source": [
    "# ---------------- Frozen set (immutable version of python set)\n",
    "\n",
    "fs1 = frozenset([1, 2, 3])\n",
    "fs2 = frozenset([4, 5, 6])\n",
    "\n",
    "fs1 | fs2"
   ]
  },
  {
   "cell_type": "code",
   "execution_count": 12,
   "metadata": {},
   "outputs": [
    {
     "data": {
      "text/plain": [
       "{36, 49, 64, 81, 100}"
      ]
     },
     "execution_count": 12,
     "metadata": {},
     "output_type": "execute_result"
    }
   ],
   "source": [
    "# work -> all read functions\n",
    "# not work -> write functions\n",
    "\n",
    "# 2d set\n",
    "fs = frozenset([1, 2, frozenset([4, 5])])\n",
    "fs\n",
    "\n",
    "# set comprehensive\n",
    "{ i*i for i in range (1, 11) if i > 5}"
   ]
  },
  {
   "cell_type": "code",
   "execution_count": 13,
   "metadata": {},
   "outputs": [],
   "source": [
    "# --------------------- Dictionary (collection of keys value pair)\n",
    "\n",
    "''' \n",
    "- Mutable\n",
    "- keys cannot be duplicate\n",
    "- keys cannot be mutable item\n",
    "'''\n",
    "\n",
    "# empty dictionary\n",
    "d = {}\n",
    "\n",
    "# 1D dictionary\n",
    "d1 = { 'name' : 'partho' ,'gender' : 'male' }\n",
    "\n",
    "# with mixed keys\n",
    "d2 = {(1,2,3):1,'hello':'world'}\n",
    "\n",
    "# 2D dictionary -> JSON\n",
    "s = {\n",
    "    'name':'partho',\n",
    "     'college':'uiu',\n",
    "     'sem':4,\n",
    "     'subjects':{\n",
    "         'dsa':50,\n",
    "         'maths':67,\n",
    "         'english':34\n",
    "     }\n",
    "}\n",
    "\n",
    "# using sequence and dict function\n",
    "d4 = dict([('name','partho'),('age',21),(3,3)])\n",
    "\n",
    "# duplicate keys\n",
    "d5 = {\n",
    "    'name':'a',\n",
    "    'name':'b'\n",
    "}\n",
    "\n",
    "# mutable items as keys\n",
    "d6 = {\n",
    "    'name':'partho',\n",
    "    (1,2,3):2, # [1,2,3]:2 give me error cause tuple immutable\n",
    "}"
   ]
  },
  {
   "cell_type": "code",
   "execution_count": 14,
   "metadata": {},
   "outputs": [
    {
     "name": "stdout",
     "output_type": "stream",
     "text": [
      "{'name': 'partho', 'college': 'uiu', 'sem': 4, 'subjects': {'dsa': 50, 'maths': 67, 'english': 34, 'ds': 84}}\n"
     ]
    }
   ],
   "source": [
    "# Accessing item\n",
    "d = {\n",
    "    'name': 'a',\n",
    "    'value': 28\n",
    "}\n",
    "\n",
    "d['name']\n",
    "d['value']\n",
    "\n",
    "d.get('name')\n",
    "\n",
    "s = {\n",
    "    'name':'partho',\n",
    "     'college':'uiu',\n",
    "     'sem':4,\n",
    "     'subjects':{\n",
    "         'dsa':50,\n",
    "         'maths':67,\n",
    "         'english':34\n",
    "     }\n",
    "}\n",
    "\n",
    "s['subjects']['dsa']\n",
    "\n",
    "# edit \n",
    "s['subjects']['ds'] = 84\n",
    "print(s)"
   ]
  },
  {
   "cell_type": "code",
   "execution_count": 15,
   "metadata": {},
   "outputs": [
    {
     "name": "stdout",
     "output_type": "stream",
     "text": [
      "{'name': 'a', 'value': 28, 'gender': 'sigma male'}\n",
      "{'value': 28}\n",
      "{}\n"
     ]
    }
   ],
   "source": [
    "# Adding key-value \n",
    "\n",
    "d = {\n",
    "    'name': 'a',\n",
    "    'value': 28\n",
    "} \n",
    "\n",
    "d['gender'] = 'sigma male'\n",
    "d['weight'] = 63\n",
    "\n",
    "# remove key value pair\n",
    "\n",
    "d = {\n",
    "    'name': 'a', \n",
    "    'value': 28, \n",
    "    'gender': \n",
    "    'sigma male', \n",
    "    'weight': 63\n",
    "}\n",
    "\n",
    "d.pop('weight')\n",
    "print(d)\n",
    "\n",
    "d.popitem() # delete last item\n",
    "\n",
    "del d['name']\n",
    "print(d)\n",
    "\n",
    "d.clear()\n",
    "print(d)"
   ]
  },
  {
   "cell_type": "code",
   "execution_count": 16,
   "metadata": {},
   "outputs": [
    {
     "name": "stdout",
     "output_type": "stream",
     "text": [
      "name partho\n",
      "college uiu\n",
      "sem 4\n",
      "subjects {'dsa': 50, 'maths': 67, 'english': 34, 'ds': 84}\n"
     ]
    }
   ],
   "source": [
    "# Dictionary (everything about keys) Operation\n",
    "\n",
    "s = {\n",
    "    'name': 'partho', \n",
    "    'college': 'uiu', \n",
    "    'sem': 4, \n",
    "    'subjects': {\n",
    "        'dsa': 50, \n",
    "        'maths': 67, \n",
    "        'english': 34, \n",
    "        'ds': 84\n",
    "    }\n",
    "}\n",
    "\n",
    "# membership\n",
    "'partho' in s # false\n",
    "'name' in s # true\n",
    "\n",
    "# loops\n",
    "for i in s:\n",
    "    print(i, s[i])"
   ]
  },
  {
   "cell_type": "code",
   "execution_count": 17,
   "metadata": {},
   "outputs": [
    {
     "name": "stdout",
     "output_type": "stream",
     "text": [
      "4\n",
      "college\n",
      "subjects\n"
     ]
    }
   ],
   "source": [
    "# Dictionary function\n",
    "\n",
    "s = {\n",
    "    'name': 'partho', \n",
    "    'college': 'uiu', \n",
    "    'sem': 4, \n",
    "    'subjects': {\n",
    "        'dsa': 50, \n",
    "        'maths': 67, \n",
    "        'english': 34, \n",
    "        'ds': 84\n",
    "    }\n",
    "}\n",
    "\n",
    "print(len(s))\n",
    "sorted(s)\n",
    "sorted(s, reverse=True)\n",
    "print(min(s))\n",
    "print(max(s))"
   ]
  },
  {
   "cell_type": "code",
   "execution_count": 18,
   "metadata": {},
   "outputs": [
    {
     "name": "stdout",
     "output_type": "stream",
     "text": [
      "dict_items([('name', 'partho'), ('college', 'uiu'), ('sem', 4), ('subjects', {'dsa': 50, 'maths': 67, 'english': 34, 'ds': 84})])\n",
      "dict_keys(['name', 'college', 'sem', 'subjects'])\n",
      "dict_values(['partho', 'uiu', 4, {'dsa': 50, 'maths': 67, 'english': 34, 'ds': 84}])\n",
      "{1: 2, 3: 4, 4: 7, 6: 8}\n"
     ]
    }
   ],
   "source": [
    "# items / keys / values\n",
    "\n",
    "s = {\n",
    "    'name': 'partho', \n",
    "    'college': 'uiu', \n",
    "    'sem': 4, \n",
    "    'subjects': {\n",
    "        'dsa': 50, \n",
    "        'maths': 67, \n",
    "        'english': 34, \n",
    "        'ds': 84\n",
    "    }\n",
    "}\n",
    "\n",
    "print(s.items()) # ans in list of tuple\n",
    "print(s.keys())\n",
    "print(s.values())\n",
    "\n",
    "# update\n",
    "d1 = {\n",
    "    1:2, \n",
    "    3:4,\n",
    "    4:5\n",
    "}\n",
    "\n",
    "d2 = {\n",
    "    4:7,\n",
    "    6:8\n",
    "}\n",
    "\n",
    "d1.update(d2)\n",
    "print(d1)"
   ]
  },
  {
   "cell_type": "code",
   "execution_count": 19,
   "metadata": {},
   "outputs": [
    {
     "data": {
      "text/plain": [
       "{'dhaka': 300.0, 'bhola': 435.0, 'khulna': 280.5}"
      ]
     },
     "execution_count": 19,
     "metadata": {},
     "output_type": "execute_result"
    }
   ],
   "source": [
    "# dictionary comprehension\n",
    "# {key:value for i in iterable}\n",
    "\n",
    "# print first 10 number and their square\n",
    "\n",
    "{i:i*i for i in range(1, 11)}\n",
    "\n",
    "# using existing dict\n",
    "s = {\n",
    "    'dhaka': 200,\n",
    "    'bhola': 290,\n",
    "    'khulna': 187\n",
    "}\n",
    "\n",
    "{key:value * 1.5 for (key, value) in s.items()}"
   ]
  },
  {
   "cell_type": "code",
   "execution_count": 20,
   "metadata": {},
   "outputs": [
    {
     "data": {
      "text/plain": [
       "{'phone': 10, 'charger': 32}"
      ]
     },
     "execution_count": 20,
     "metadata": {},
     "output_type": "execute_result"
    }
   ],
   "source": [
    "# using zip function\n",
    "days = [\"Sunday\", \"Monday\",\"Tuesday\",\"Wednesday\",\"Thursday\",\"Friday\",\"Saturday\"]\n",
    "temp_C = [30.5,32.6,31.8,33.4,29.8,30.2,29.9]\n",
    "\n",
    "{i:j for(i, j) in zip(days, temp_C)}\n",
    "\n",
    "# using if condition\n",
    "products = {'phone':10,'laptop':0,'charger':32,'tablet':0}\n",
    "{key:value for (key, value) in products.items() if value > 0}"
   ]
  },
  {
   "cell_type": "code",
   "execution_count": 21,
   "metadata": {},
   "outputs": [
    {
     "data": {
      "text/plain": [
       "{2: {1: 2, 2: 4, 3: 6, 4: 8, 5: 10, 6: 12, 7: 14, 8: 16, 9: 18, 10: 20},\n",
       " 3: {1: 3, 2: 6, 3: 9, 4: 12, 5: 15, 6: 18, 7: 21, 8: 24, 9: 27, 10: 30},\n",
       " 4: {1: 4, 2: 8, 3: 12, 4: 16, 5: 20, 6: 24, 7: 28, 8: 32, 9: 36, 10: 40}}"
      ]
     },
     "execution_count": 21,
     "metadata": {},
     "output_type": "execute_result"
    }
   ],
   "source": [
    "# Nested comprehension\n",
    "# print 2-4 table\n",
    "\n",
    "{i:{j:i*j for j in range(1, 11)} for i in range(2, 5)}"
   ]
  },
  {
   "cell_type": "code",
   "execution_count": null,
   "metadata": {},
   "outputs": [],
   "source": []
  }
 ],
 "metadata": {
  "kernelspec": {
   "display_name": "Python 3",
   "language": "python",
   "name": "python3"
  },
  "language_info": {
   "codemirror_mode": {
    "name": "ipython",
    "version": 3
   },
   "file_extension": ".py",
   "mimetype": "text/x-python",
   "name": "python",
   "nbconvert_exporter": "python",
   "pygments_lexer": "ipython3",
   "version": "3.13.0"
  }
 },
 "nbformat": 4,
 "nbformat_minor": 2
}
