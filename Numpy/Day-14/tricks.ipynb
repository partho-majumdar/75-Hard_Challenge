{
 "cells": [
  {
   "cell_type": "code",
   "execution_count": 19,
   "metadata": {},
   "outputs": [],
   "source": [
    "import numpy as np # type: ignore"
   ]
  },
  {
   "cell_type": "code",
   "execution_count": 20,
   "metadata": {},
   "outputs": [
    {
     "name": "stdout",
     "output_type": "stream",
     "text": [
      "[[46 18 47 14]\n",
      " [27 89 34 25]\n",
      " [29 93 82 48]\n",
      " [12 44 12 12]\n",
      " [33 54 82 60]\n",
      " [81 77 77 17]]\n"
     ]
    },
    {
     "data": {
      "text/plain": [
       "array([[14, 18, 46, 47],\n",
       "       [25, 27, 34, 89],\n",
       "       [29, 48, 82, 93],\n",
       "       [12, 12, 12, 44],\n",
       "       [33, 54, 60, 82],\n",
       "       [17, 77, 77, 81]], dtype=int32)"
      ]
     },
     "execution_count": 20,
     "metadata": {},
     "output_type": "execute_result"
    }
   ],
   "source": [
    "# Sorting\n",
    "\n",
    "a = np.random.randint(1, 100, 15)\n",
    "b = np.random.randint(1, 100, 24).reshape(6, 4)\n",
    "\n",
    "np.sort(a) # sort in ascending\n",
    "np.sort(a)[::-1] # sort in descending\n",
    "\n",
    "np.sort(b) # row wise sorting\n",
    "print(b)\n",
    "np.sort(b, axis = 0) # row wise sorting \n",
    "np.sort(b, axis = 1) # col wise sorting "
   ]
  },
  {
   "cell_type": "code",
   "execution_count": 21,
   "metadata": {},
   "outputs": [
    {
     "name": "stdout",
     "output_type": "stream",
     "text": [
      "6\n"
     ]
    },
    {
     "data": {
      "text/plain": [
       "array([[54.,  6., 17., 36.,  1.],\n",
       "       [22., 14., 13., 16.,  1.],\n",
       "       [76., 25., 30., 81.,  1.],\n",
       "       [16., 69., 16.,  1.,  1.],\n",
       "       [ 9., 95., 83.,  7.,  1.],\n",
       "       [42., 64., 57., 85.,  1.]])"
      ]
     },
     "execution_count": 21,
     "metadata": {},
     "output_type": "execute_result"
    }
   ],
   "source": [
    "# Append\n",
    "\n",
    "a = np.random.randint(1, 100, 15)\n",
    "b = np.random.randint(1, 100, 24).reshape(6, 4)\n",
    "\n",
    "np.append(a, 202) # append 202 as last element in a \n",
    "print(b.shape[0])\n",
    "np.append(b, np.ones((b.shape[0], 1)), axis = 1) # append 1 in last col"
   ]
  },
  {
   "cell_type": "code",
   "execution_count": 22,
   "metadata": {},
   "outputs": [
    {
     "name": "stdout",
     "output_type": "stream",
     "text": [
      "[[0 1 2]\n",
      " [3 4 5]]\n",
      "[[ 6  7  8]\n",
      " [ 9 10 11]]\n"
     ]
    },
    {
     "data": {
      "text/plain": [
       "array([[ 0,  1,  2,  6,  7,  8],\n",
       "       [ 3,  4,  5,  9, 10, 11]])"
      ]
     },
     "execution_count": 22,
     "metadata": {},
     "output_type": "execute_result"
    }
   ],
   "source": [
    "# Concatenate\n",
    "\n",
    "a = np.arange(6).reshape(2, 3)\n",
    "b = np.arange(6, 12).reshape(2, 3)\n",
    "\n",
    "print(a)\n",
    "print(b)\n",
    "\n",
    "np.concatenate((a, b), axis = 0) # row wise -> vstack\n",
    "np.concatenate((a, b), axis = 1) # col wise -> hstack"
   ]
  },
  {
   "cell_type": "code",
   "execution_count": 23,
   "metadata": {},
   "outputs": [
    {
     "data": {
      "text/plain": [
       "array([1, 2, 3, 4, 5, 6, 7, 9])"
      ]
     },
     "execution_count": 23,
     "metadata": {},
     "output_type": "execute_result"
    }
   ],
   "source": [
    "# Unique item\n",
    "\n",
    "a = np.array([1, 2, 1, 2, 4, 5, 6, 5, 7, 9, 7, 3, 2])\n",
    "np.unique(a)"
   ]
  },
  {
   "cell_type": "code",
   "execution_count": 24,
   "metadata": {},
   "outputs": [
    {
     "name": "stdout",
     "output_type": "stream",
     "text": [
      "[[1 2]\n",
      " [3 4]\n",
      " [5 6]]\n",
      "\n",
      "\n",
      "[[[1 2]\n",
      "  [3 4]\n",
      "  [5 6]]]\n",
      "\n",
      "\n",
      "[[[1 2]]\n",
      "\n",
      " [[3 4]]\n",
      "\n",
      " [[5 6]]]\n"
     ]
    }
   ],
   "source": [
    "# Expand dimension\n",
    "\n",
    "a = np.arange(1, 7).reshape(3, 2)\n",
    "print(a)\n",
    "print('\\n')\n",
    "b = np.expand_dims(a, axis = 0)\n",
    "c = np.expand_dims(a, axis = 1)\n",
    "# print(a.shape, b.shape)\n",
    "\n",
    "print(b)\n",
    "print('\\n')\n",
    "print(c)"
   ]
  },
  {
   "cell_type": "code",
   "execution_count": 25,
   "metadata": {},
   "outputs": [
    {
     "data": {
      "text/plain": [
       "array([1, 0, 1, 1, 1, 0, 0, 1, 0, 1, 1, 1, 1, 1, 0, 0, 1, 0, 0, 0])"
      ]
     },
     "execution_count": 25,
     "metadata": {},
     "output_type": "execute_result"
    }
   ],
   "source": [
    "# Where value satisfy\n",
    "\n",
    "a = np.random.randint(1, 100, 20)\n",
    "np.where(a > 50) # return index only value > 50\n",
    "np.where(a > 50, 0, 1) # replace 0 where true and replace 1 where false"
   ]
  },
  {
   "cell_type": "code",
   "execution_count": 26,
   "metadata": {},
   "outputs": [
    {
     "name": "stdout",
     "output_type": "stream",
     "text": [
      "[ 4 68 65 17 27 98  1 43 11 84]\n",
      "[[15 42 14 54]\n",
      " [57 91 85 50]\n",
      " [53 87 97 66]]\n"
     ]
    },
    {
     "data": {
      "text/plain": [
       "array([2, 3, 0])"
      ]
     },
     "execution_count": 26,
     "metadata": {},
     "output_type": "execute_result"
    }
   ],
   "source": [
    "# Argmax / Argmin -> return max/min value index\n",
    "\n",
    "a = np.random.randint(1, 100, 10)\n",
    "b = np.random.randint(1, 100, 12).reshape(3, 4)\n",
    "print(a)\n",
    "print(b)\n",
    "np.argmax(a) # max value index\n",
    "np.argmin(a) # min value index\n",
    "\n",
    "np.argmax(b, axis = 0)\n",
    "np.argmin(b, axis = 1)"
   ]
  },
  {
   "cell_type": "code",
   "execution_count": 27,
   "metadata": {},
   "outputs": [
    {
     "name": "stdout",
     "output_type": "stream",
     "text": [
      "[89 29 49 18 48 21 52 40  3 97]\n",
      "[[13 71  1 26]\n",
      " [36 53 30  3]\n",
      " [13 67 18 33]]\n"
     ]
    },
    {
     "data": {
      "text/plain": [
       "array([[    13,    923,    923,  23998],\n",
       "       [    36,   1908,  57240, 171720],\n",
       "       [    13,    871,  15678, 517374]])"
      ]
     },
     "execution_count": 27,
     "metadata": {},
     "output_type": "execute_result"
    }
   ],
   "source": [
    "# Cumsum & Cumprod -> sum of previous all\n",
    "\n",
    "a = np.random.randint(1, 100, 10)\n",
    "b = np.random.randint(1, 100, 12).reshape(3, 4)\n",
    "print(a)\n",
    "print(b)\n",
    "\n",
    "np.cumsum(a)\n",
    "np.cumprod(a)\n",
    "\n",
    "np.cumsum(b, axis = 0) # row\n",
    "np.cumprod(b, axis = 1) # col"
   ]
  },
  {
   "cell_type": "code",
   "execution_count": 28,
   "metadata": {},
   "outputs": [
    {
     "name": "stdout",
     "output_type": "stream",
     "text": [
      "[23 74 35 68 14 90 18 92 74 84]\n",
      "[14 18 23 35 68 74 74 84 90 92]\n"
     ]
    },
    {
     "data": {
      "text/plain": [
       "np.float64(92.0)"
      ]
     },
     "execution_count": 28,
     "metadata": {},
     "output_type": "execute_result"
    }
   ],
   "source": [
    "# Percentile -> how many % people behind me\n",
    "\n",
    "a = np.random.randint(1, 100, 10)\n",
    "print(a)\n",
    "\n",
    "print(np.sort(a))\n",
    "np.percentile(a, 0) # min\n",
    "np.percentile(a, 50) # mid\n",
    "np.percentile(a, 100) # max"
   ]
  },
  {
   "cell_type": "code",
   "execution_count": 29,
   "metadata": {},
   "outputs": [
    {
     "name": "stdout",
     "output_type": "stream",
     "text": [
      "[63 82 99 35 10 58 66 77 30 12 25 56 51  5 64 28 67 95  8  3 26 71 99 95\n",
      " 60 94 64 29 64 47  7 13 66 20 54 38 42 42 41 41 57 94 29 87 46 67  6 21\n",
      " 44 77]\n"
     ]
    },
    {
     "data": {
      "text/plain": [
       "(array([5, 3, 7, 3, 7, 5, 9, 3, 2, 6]),\n",
       " array([  0,  10,  20,  30,  40,  50,  60,  70,  80,  90, 100]))"
      ]
     },
     "execution_count": 29,
     "metadata": {},
     "output_type": "execute_result"
    }
   ],
   "source": [
    "# Histogram -> frequency count in given range (bins)\n",
    "    \n",
    "a = np.random.randint(1, 100, 50)\n",
    "print(a)\n",
    "np.histogram(a, bins = [0, 10, 20, 30, 40, 50, 60, 70, 80, 90, 100])"
   ]
  },
  {
   "cell_type": "code",
   "execution_count": 30,
   "metadata": {},
   "outputs": [
    {
     "data": {
      "text/plain": [
       "array([[1.        , 0.25344572],\n",
       "       [0.25344572, 1.        ]])"
      ]
     },
     "execution_count": 30,
     "metadata": {},
     "output_type": "execute_result"
    }
   ],
   "source": [
    "# Corelation (ans lie in -1 to 1) & Coefficient\n",
    "\n",
    "salary = np.array([20000, 40000, 25000, 35000, 60000])\n",
    "experience = np.array([1, 3, 2, 4, 2])\n",
    "\n",
    "np.corrcoef(salary, experience)"
   ]
  },
  {
   "cell_type": "code",
   "execution_count": 31,
   "metadata": {},
   "outputs": [
    {
     "name": "stdout",
     "output_type": "stream",
     "text": [
      "[96 45 50 18 83 95 44 86 98 81 10 54 29 94 37 49 84 92  3 88]\n",
      "[10 20 30 40 50 60 70]\n"
     ]
    },
    {
     "data": {
      "text/plain": [
       "array([50, 10], dtype=int32)"
      ]
     },
     "execution_count": 31,
     "metadata": {},
     "output_type": "execute_result"
    }
   ],
   "source": [
    "# Isin -> search for multiple item\n",
    "\n",
    "a = np.random.randint(1, 100, 20);\n",
    "items = np.array([10, 20, 30, 40, 50, 60, 70])\n",
    "\n",
    "print(a)\n",
    "print(items)\n",
    "np.isin(a, items)\n",
    "a[np.isin(a, items)]"
   ]
  },
  {
   "cell_type": "code",
   "execution_count": 32,
   "metadata": {},
   "outputs": [
    {
     "name": "stdout",
     "output_type": "stream",
     "text": [
      "[84 35 17 47  6 56 74 64 93  5]\n",
      "[[74 35 52 16]\n",
      " [25 53 92 71]\n",
      " [30 86 96 15]]\n"
     ]
    },
    {
     "data": {
      "text/plain": [
       "array([[16, 52, 35, 74],\n",
       "       [71, 92, 53, 25],\n",
       "       [15, 96, 86, 30]], dtype=int32)"
      ]
     },
     "execution_count": 32,
     "metadata": {},
     "output_type": "execute_result"
    }
   ],
   "source": [
    "# Flip -> reverse\n",
    "\n",
    "a = np.random.randint(1, 100, 10)\n",
    "b = np.random.randint(1, 100, 12).reshape(3, 4)\n",
    "print(a)\n",
    "print(b)\n",
    "\n",
    "np.flip(a)\n",
    "np.flip(b) # row, col flip\n",
    "np.flip(b, axis = 0) # row flip\n",
    "np.flip(b, axis = 1) # col flip"
   ]
  },
  {
   "cell_type": "code",
   "execution_count": 33,
   "metadata": {},
   "outputs": [
    {
     "name": "stdout",
     "output_type": "stream",
     "text": [
      "[37 81 88 74 98 65 80 44  5 28]\n"
     ]
    },
    {
     "data": {
      "text/plain": [
       "array([100,  81, 300,  74,  98, 200,  80,  44,   5,  28], dtype=int32)"
      ]
     },
     "execution_count": 33,
     "metadata": {},
     "output_type": "execute_result"
    }
   ],
   "source": [
    "# Put -> replace specific element\n",
    "\n",
    "a = np.random.randint(1, 100, 10)\n",
    "print(a)\n",
    "\n",
    "np.put(a, [0, 5, 2], [100, 200, 300])\n",
    "a"
   ]
  },
  {
   "cell_type": "code",
   "execution_count": 34,
   "metadata": {},
   "outputs": [
    {
     "name": "stdout",
     "output_type": "stream",
     "text": [
      "[25  5 51 37 39 34 14 22 39 32]\n",
      "[[ 5 96  6  9]\n",
      " [71 13 33 53]\n",
      " [82 26 88 14]]\n"
     ]
    },
    {
     "data": {
      "text/plain": [
       "array([[71, 13, 33, 53],\n",
       "       [82, 26, 88, 14]], dtype=int32)"
      ]
     },
     "execution_count": 34,
     "metadata": {},
     "output_type": "execute_result"
    }
   ],
   "source": [
    "# Delete -> after delete return new array\n",
    "\n",
    "a = np.random.randint(1, 100, 10)\n",
    "b = np.random.randint(1, 100, 12).reshape(3, 4)\n",
    "print(a)\n",
    "print(b)\n",
    "\n",
    "np.delete(a, 0)\n",
    "np.delete(a, [0, 2, 3])\n",
    "np.delete(b, 0, axis = 0)"
   ]
  },
  {
   "cell_type": "code",
   "execution_count": 35,
   "metadata": {},
   "outputs": [
    {
     "name": "stderr",
     "output_type": "stream",
     "text": [
      "C:\\Users\\Asus\\AppData\\Local\\Temp\\ipykernel_21020\\1598237902.py:10: DeprecationWarning: `in1d` is deprecated. Use `np.isin` instead.\n",
      "  np.in1d(m, 2)\n"
     ]
    },
    {
     "data": {
      "text/plain": [
       "array([False,  True, False, False, False, False])"
      ]
     },
     "execution_count": 35,
     "metadata": {},
     "output_type": "execute_result"
    }
   ],
   "source": [
    "# Set function\n",
    "\n",
    "m = np.array([1, 2, 3, 4, 5, 6])\n",
    "n = np.array([3, 4, 5, 6, 7])\n",
    "\n",
    "np.union1d(m, n)\n",
    "np.intersect1d(m, n)\n",
    "np.setdiff1d(m, n) # element in m not n\n",
    "np.setxor1d(m, n) # remove common element\n",
    "np.in1d(m, 2)"
   ]
  },
  {
   "cell_type": "code",
   "execution_count": 36,
   "metadata": {},
   "outputs": [
    {
     "name": "stdout",
     "output_type": "stream",
     "text": [
      "[83 70 82 80 69 20 62 30 85 60 88 15 76 60 62 93 92 98 51 28]\n"
     ]
    },
    {
     "data": {
      "text/plain": [
       "array([66, 66, 66, 66, 66, 20, 62, 30, 66, 60, 66, 15, 66, 60, 62, 66, 66,\n",
       "       66, 51, 28], dtype=int32)"
      ]
     },
     "execution_count": 36,
     "metadata": {},
     "output_type": "execute_result"
    }
   ],
   "source": [
    "# Clip -> value in range\n",
    "\n",
    "b = np.random.randint(1, 100, 20)\n",
    "print(b)\n",
    "np.clip(b, a_min = 5, a_max = 66)"
   ]
  }
 ],
 "metadata": {
  "kernelspec": {
   "display_name": "Python 3",
   "language": "python",
   "name": "python3"
  },
  "language_info": {
   "codemirror_mode": {
    "name": "ipython",
    "version": 3
   },
   "file_extension": ".py",
   "mimetype": "text/x-python",
   "name": "python",
   "nbconvert_exporter": "python",
   "pygments_lexer": "ipython3",
   "version": "3.13.0"
  }
 },
 "nbformat": 4,
 "nbformat_minor": 2
}
