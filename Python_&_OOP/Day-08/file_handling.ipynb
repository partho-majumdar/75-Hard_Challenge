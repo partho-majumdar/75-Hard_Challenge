{
 "cells": [
  {
   "cell_type": "code",
   "execution_count": 17,
   "metadata": {},
   "outputs": [
    {
     "data": {
      "text/plain": [
       "'\\nFile I/O\\n1. Open file\\n2. Read / write\\n3. Close\\n'"
      ]
     },
     "execution_count": 17,
     "metadata": {},
     "output_type": "execute_result"
    }
   ],
   "source": [
    "'''\n",
    "File I/O\n",
    "1. Open file\n",
    "2. Read / write\n",
    "3. Close\n",
    "'''"
   ]
  },
  {
   "cell_type": "code",
   "execution_count": 18,
   "metadata": {},
   "outputs": [],
   "source": [
    "# If file is not created\n",
    "\n",
    "f = open('create.txt', 'w')\n",
    "f.write(\"there is no file and this file is created\")\n",
    "f.close()\n",
    "# f.write(\"i am trying to add close file\") # file is close hence this is not work"
   ]
  },
  {
   "cell_type": "code",
   "execution_count": 19,
   "metadata": {},
   "outputs": [],
   "source": [
    "# write multiline string\n",
    "\n",
    "f = open('multiline.txt', 'w')\n",
    "f.write('this is line 1')\n",
    "f.write('\\nthis is line 2')\n",
    "f.write('\\nthis is line 3')\n",
    "f.close()"
   ]
  },
  {
   "cell_type": "code",
   "execution_count": 20,
   "metadata": {},
   "outputs": [],
   "source": [
    "# write already exist file\n",
    "\n",
    "f = open('create.txt', 'w')\n",
    "f.write('i am adding text in already exist txt file')\n",
    "f.close()"
   ]
  },
  {
   "cell_type": "code",
   "execution_count": 21,
   "metadata": {},
   "outputs": [
    {
     "data": {
      "text/plain": [
       "'\\nall created file are in rom/hard disk when open() it take the file and load in the buffer ram (file read char by char)\\n\\nwhen close() file again went to the rom/hard disk\\n'"
      ]
     },
     "execution_count": 21,
     "metadata": {},
     "output_type": "execute_result"
    }
   ],
   "source": [
    "# how open() works \n",
    "\n",
    "'''\n",
    "all created file are in rom/hard disk when open() it take the file and load in the buffer ram (file read char by char)\n",
    "\n",
    "when close() file again went to the rom/hard disk\n",
    "'''"
   ]
  },
  {
   "cell_type": "code",
   "execution_count": 22,
   "metadata": {},
   "outputs": [],
   "source": [
    "# Problem with 'w' mode\n",
    "\n",
    "''' \n",
    "When use 'w' it remove old content and add new content\n",
    "hence use append ('a') mode\n",
    "'''\n",
    "\n",
    "f = open('multiline.txt', 'a')\n",
    "f.write('\\nthis line is add using append')\n",
    "f.close()"
   ]
  },
  {
   "cell_type": "code",
   "execution_count": 23,
   "metadata": {},
   "outputs": [],
   "source": [
    "# write many lines\n",
    "\n",
    "L = ['hello world\\n', 'this is inside list\\n', 'hi\\n', 'how are you', '\\ni am fine']\n",
    "f = open('manyline.txt', 'w')\n",
    "f.writelines(L)\n",
    "f.close()"
   ]
  },
  {
   "cell_type": "code",
   "execution_count": 24,
   "metadata": {},
   "outputs": [
    {
     "name": "stdout",
     "output_type": "stream",
     "text": [
      "this is li\n"
     ]
    }
   ],
   "source": [
    "# reading from file -> read(read all content), readline(read line by line)\n",
    "\n",
    "f = open('multiline.txt', 'r')\n",
    "# s2 = f.read()\n",
    "s2 = f.read(10) # read only 10 character\n",
    "print(s2)\n",
    "f.close()"
   ]
  },
  {
   "cell_type": "code",
   "execution_count": 25,
   "metadata": {},
   "outputs": [
    {
     "name": "stdout",
     "output_type": "stream",
     "text": [
      "this is line 1\n",
      "this is line 2\n",
      "\n"
     ]
    }
   ],
   "source": [
    "f = open('multiline.txt', 'r')\n",
    "print(f.readline(), end = '')\n",
    "print(f.readline()) # here add extra line in print cause print, readline both by default print line\n",
    "f.close()"
   ]
  },
  {
   "cell_type": "code",
   "execution_count": 26,
   "metadata": {},
   "outputs": [
    {
     "name": "stdout",
     "output_type": "stream",
     "text": [
      "this is line 1\n",
      " this is line 2\n",
      " this is line 3\n",
      " this line is add using append "
     ]
    }
   ],
   "source": [
    "# when use read and when use readline?\n",
    "''' \n",
    "readline -> when we have big content and not want to load memory everything at a time to print 10 line we have to call readline 10 times\n",
    "read -> when we have short content\n",
    "'''\n",
    "# read entire using readline\n",
    "f = open('multiline.txt', 'r')\n",
    "\n",
    "line = f.readline()\n",
    "while line != '':\n",
    "    print(line, end = ' ')\n",
    "    line = f.readline() \n",
    "    \n",
    "f.close()\n"
   ]
  },
  {
   "cell_type": "code",
   "execution_count": 27,
   "metadata": {},
   "outputs": [],
   "source": [
    "# Using context manager (with) -> 'with' keyword close the file as as the usage is over\n",
    "\n",
    "with open('create.txt', 'w') as f:\n",
    "    f.write(\"this line is write using with no need to add close cause with keyword automatic close file\")\n",
    "    # f.write() # error cause already close"
   ]
  },
  {
   "cell_type": "code",
   "execution_count": 28,
   "metadata": {},
   "outputs": [
    {
     "name": "stdout",
     "output_type": "stream",
     "text": [
      "this line is write using with no need to add close cause with keyword automatic close file\n"
     ]
    }
   ],
   "source": [
    "# read using 'with' keyword\n",
    "\n",
    "with open('create.txt', 'r') as f:\n",
    "    print(f.read())"
   ]
  },
  {
   "cell_type": "code",
   "execution_count": 29,
   "metadata": {},
   "outputs": [
    {
     "name": "stdout",
     "output_type": "stream",
     "text": [
      "this line \n",
      "is write u\n"
     ]
    }
   ],
   "source": [
    "# moving within a file\n",
    "\n",
    "with open('create.txt', 'r') as f:\n",
    "    print(f.read(10)) # print first 10 character\n",
    "    print(f.read(10)) # next 10 character -> buffer track full time how many character process \n",
    "\n",
    "# benefit -> load big file in memory (suppose first time load 2k char, next 2k, and so on until all char print)\n",
    "\n",
    "bigL = ['hello world ' for i in range(1000)]\n",
    "\n",
    "with open('big.txt', 'w') as f:\n",
    "    f.writelines(bigL)"
   ]
  },
  {
   "cell_type": "code",
   "execution_count": null,
   "metadata": {},
   "outputs": [
    {
     "name": "stdout",
     "output_type": "stream",
     "text": [
      "d hello wo***o world he***d hello wo***o world he***d hello wo***o world he***d hello wo***o world he***d hello wo***o world he***d hello wo***o world he***d hello wo***o world he***d hello wo***o world he***d hello wo***o world he***d hello wo***o world he***d hello wo***o world he***d hello wo***o world he***d hello wo***o world he***d hello wo***o world he***d hello wo***o world he***d hello wo***o world he***d hello wo***o world he***d hello wo***o world he***d hello wo***o world he***d hello wo***o world he***d hello wo***o world he***d hello wo***o world he***d hello wo***o world he***d hello wo***o world he***d hello wo***o world he***d hello wo***o world he***d hello wo***o world he***d hello wo***o world he***d hello wo***o world he***d hello wo***o world he***d hello wo***o world he***d hello wo***o world he***d hello wo***o world he***d hello wo***o world he***d hello wo***o world he***d hello wo***o world he***d hello wo***o world he***d hello wo***o world he***d hello wo***o world he***d hello wo***o world he***d hello wo***o world he***d hello wo***o world he***d hello wo***o world he***d hello wo***o world he***d hello wo***o world he***d hello wo***o world he***d hello wo***o world he***d hello wo***o world he***d hello wo***o world he***d hello wo***o world he***d hello wo***o world he***d hello wo***o world he***d hello wo***o world he***d hello wo***o world he***d hello wo***o world he***d hello wo***o world he***d hello wo***o world he***d hello wo***o world he***d hello wo***o world he***d hello wo***o world he***d hello wo***o world he***d hello wo***o world he***d hello wo***o world he***d hello wo***o world he***d hello wo***o world he***d hello wo***o world he***d hello wo***o world he***d hello wo***o world he***d hello wo***o world he***d hello wo***o world he***d hello wo***o world he***d hello wo***o world he***d hello wo***o world he***d hello wo***o world he***d hello wo***o world he***d hello wo***o world he***d hello wo***o world he***d hello wo***o world he***d hello wo***o world he***d hello wo***o world he***d hello wo***o world he***d hello wo***o world he***d hello wo***o world he***d hello wo***o world he***d hello wo***o world he***d hello wo***o world he***d hello wo***o world he***d hello wo***o world he***d hello wo***o world he***d hello wo***o world he***d hello wo***o world he***d hello wo***o world he***d hello wo***o world he***d hello wo***o world he***d hello wo***o world he***d hello wo***o world he***d hello wo***o world he***d hello wo***o world he***d hello wo***o world he***d hello wo***o world he***d hello wo***o world he***d hello wo***o world he***d hello wo***o world he***d hello wo***o world he***d hello wo***o world he***d hello wo***o world he***d hello wo***o world he***d hello wo***o world he***d hello wo***o world he***d hello wo***o world he***d hello wo***o world he***d hello wo***o world he***d hello wo***o world he***d hello wo***o world he***d hello wo***o world he***d hello wo***o world he***d hello wo***o world he***d hello wo***o world he***d hello wo***o world he***d hello wo***o world he***d hello wo***o world he***d hello wo***o world he***d hello wo***o world he***d hello wo***o world he***d hello wo***o world he***d hello wo***o world he***d hello wo***o world he***d hello wo***o world he***d hello wo***o world he***d hello wo***o world he***d hello wo***o world he***d hello wo***o world he***d hello wo***o world he***d hello wo***o world he***d hello wo***o world he***d hello wo***o world he***d hello wo***o world he***d hello wo***o world he***d hello wo***o world he***d hello wo***o world he***d hello wo***o world he***d hello wo***o world he***d hello wo***o world he***d hello wo***o world he***d hello wo***o world he***d hello wo***o world he***d hello wo***o world he***d hello wo***o world he***d hello wo***o world he***d hello wo***o world he***d hello wo***o world he***d hello wo***o world he***d hello wo***o world he***d hello wo***o world he***d hello wo***o world he***d hello wo***o world he***d hello wo***o world he***d hello wo***o world he***d hello wo***o world he***d hello wo***o world he***d hello wo***o world he***d hello wo***o world he***d hello wo***o world he***d hello wo***o world he***d hello wo***o world he***d hello wo***o world he***d hello wo***o world he***d hello wo***o world he***d hello wo***o world he***d hello wo***o world he***d hello wo***o world he***d hello wo***o world he***d hello wo***o world he***d hello wo***o world he***d hello wo***o world he***d hello wo***o world he***d hello wo***o world he***d hello wo***o world he***d hello wo***o world he***d hello wo***o world he***d hello wo***o world he***d hello wo***o world he***d hello wo***o world he***d hello wo***o world he***d hello wo***o world he***d hello wo***o world he***d hello wo***o world he***d hello wo***o world he***d hello wo***o world he***d hello wo***o world he***d hello wo***o world he***d hello wo***o world he***d hello wo***o world he***d hello wo***o world he***d hello wo***o world he***d hello wo***o world he***d hello wo***o world he***d hello wo***o world he***d hello wo***o world he***d hello wo***o world he***"
     ]
    }
   ],
   "source": [
    "# load big file in chunks\n",
    "\n",
    "with open('big.txt', 'r') as f:\n",
    "    chunk_size = 10 # size of each chunk to read\n",
    "\n",
    "    while len(f.read(chunk_size)) > 0:\n",
    "        print(f.read(chunk_size), end = '***')\n",
    "        f.read(chunk_size)"
   ]
  },
  {
   "cell_type": "code",
   "execution_count": null,
   "metadata": {},
   "outputs": [
    {
     "name": "stdout",
     "output_type": "stream",
     "text": [
      "this line \n",
      "10\n",
      "this line \n"
     ]
    }
   ],
   "source": [
    "# seek(move pointer) & tell (indicate where is my buffer right now)\n",
    "\n",
    "with open('create.txt', 'r') as f:\n",
    "    print(f.read(10))\n",
    "    print(f.tell()) # buffer point at 10th(as start from 0) char\n",
    "    f.seek(0) # move pointer to 0-index\n",
    "    print(f.read(10))\n"
   ]
  },
  {
   "cell_type": "code",
   "execution_count": 34,
   "metadata": {},
   "outputs": [],
   "source": [
    "# seek during write\n",
    "\n",
    "with open('create.txt', 'w') as f:\n",
    "    f.write('Hello world')\n",
    "    f.seek(0)\n",
    "    f.write('in')"
   ]
  },
  {
   "cell_type": "code",
   "execution_count": 35,
   "metadata": {},
   "outputs": [],
   "source": [
    "# Problem with text mode -> can not work with binary file / not good for other data(list, tuple, dict) type\n",
    "\n",
    "with open('img.jpg', 'r') as f:\n",
    "    # print(f.read()) # give me error\n",
    "    pass"
   ]
  },
  {
   "cell_type": "code",
   "execution_count": 36,
   "metadata": {},
   "outputs": [],
   "source": [
    "# working with binary('rb') file\n",
    "\n",
    "with open('img.jpg', 'rb') as f:\n",
    "    with open('new_img.txt', 'wb') as wf:\n",
    "        wf.write(f.read())"
   ]
  },
  {
   "cell_type": "code",
   "execution_count": 39,
   "metadata": {},
   "outputs": [
    {
     "name": "stdout",
     "output_type": "stream",
     "text": [
      "10\n"
     ]
    }
   ],
   "source": [
    "# working with other data type \n",
    "\n",
    "with open('create.txt', 'w') as f:\n",
    "    # f.write(5) # error can not store other data type\n",
    "    f.write('5')\n",
    "\n",
    "with open('create.txt', 'r') as f:\n",
    "    # f.write(5) # error can not store other data type\n",
    "    # print(f.read() + 5) # error cause int + char = error\n",
    "    print(int(f.read()) + 5)"
   ]
  },
  {
   "cell_type": "code",
   "execution_count": 38,
   "metadata": {},
   "outputs": [
    {
     "name": "stdout",
     "output_type": "stream",
     "text": [
      "{'name': 'partho', 'age': 21, 'gender': 'alpha male'}\n",
      "<class 'str'>\n"
     ]
    }
   ],
   "source": [
    "# do with complex data type\n",
    "\n",
    "d = {\n",
    "    'name': 'partho',\n",
    "    'age': 21,\n",
    "    'gender': 'alpha male'\n",
    "}\n",
    "\n",
    "with open('create.txt', 'w') as f:\n",
    "    # f.write(d) # error cause not allow other data type\n",
    "    f.write(str(d)) \n",
    "\n",
    "with open('create.txt', 'r') as f:\n",
    "    print(f.read())\n",
    "    print(type(f.read()))\n",
    "\n",
    "# so without string can not use other data type in file to solve this problem --> Serialization & Deserialization"
   ]
  },
  {
   "cell_type": "code",
   "execution_count": null,
   "metadata": {},
   "outputs": [],
   "source": [
    "''' \n",
    "Serialization --> converting python data type to JSON format\n",
    "Deserialization --> converting JSON to python data type\n",
    "'''\n",
    "\n",
    "# Serialization using JSON module\n",
    "# list\n",
    "L = [1, 2, 3, 4]\n",
    "import json\n",
    "\n",
    "with open('demo1.json', 'w') as f:\n",
    "    json.dump(L, f)"
   ]
  },
  {
   "cell_type": "code",
   "execution_count": 51,
   "metadata": {},
   "outputs": [],
   "source": [
    "# dict\n",
    "import json\n",
    "d = {\n",
    "    'name': 'partho',\n",
    "    'age': 21, \n",
    "    'gender': 'sigma male'\n",
    "}\n",
    "\n",
    "with open('demo2.json', 'w') as f:\n",
    "    json.dump(d, f, indent = 4)"
   ]
  },
  {
   "cell_type": "code",
   "execution_count": null,
   "metadata": {},
   "outputs": [
    {
     "name": "stdout",
     "output_type": "stream",
     "text": [
      "{'name': 'partho', 'age': 21, 'gender': 'sigma male'}\n",
      "<class 'dict'>\n"
     ]
    }
   ],
   "source": [
    "# deserialization --> JSON to python data type \n",
    "\n",
    "import json\n",
    "with open('demo2.json', 'r') as f:\n",
    "    d = json.load(f)\n",
    "    print(d) # no need type conversion\n",
    "    print(type(d))    "
   ]
  },
  {
   "cell_type": "code",
   "execution_count": null,
   "metadata": {},
   "outputs": [
    {
     "name": "stdout",
     "output_type": "stream",
     "text": [
      "(9, True, 'Nice', 4.5)\n"
     ]
    }
   ],
   "source": [
    "# serialization and deserialization with tuple\n",
    "\n",
    "import json\n",
    "\n",
    "tp = (9, True, 'Nice', 4.5)\n",
    "\n",
    "with open('demo3.json', 'w') as f:\n",
    "    json.dump(tp, f) # this store as list cause JSON doesn't have tuple type\n",
    "\n",
    "with open('demo3.json', 'r') as f:\n",
    "    print(tuple(json.load(f)))"
   ]
  },
  {
   "cell_type": "code",
   "execution_count": null,
   "metadata": {},
   "outputs": [],
   "source": [
    "# serialization and deserialization with nested dict\n",
    "\n",
    "import json\n",
    "d = {\n",
    "    'name': 'university',\n",
    "    'marks': [90, 45, 83, 61]\n",
    "}\n",
    "\n",
    "with open('demo4.json', 'w') as f:\n",
    "    json.dump(d, f)"
   ]
  },
  {
   "cell_type": "code",
   "execution_count": 69,
   "metadata": {},
   "outputs": [],
   "source": [
    "# Serialization and deserialization with custom object\n",
    "\n",
    "class Person:\n",
    "    def __init__(self, fname, lname, age, gender):\n",
    "        self.fname = fname\n",
    "        self.lname = lname\n",
    "        self.age = age\n",
    "        self.gender = gender\n",
    "\n",
    "p1 = Person('Partho', 'Majumdar', 21, 'alpha male')"
   ]
  },
  {
   "cell_type": "code",
   "execution_count": 80,
   "metadata": {},
   "outputs": [],
   "source": [
    "import json \n",
    "\n",
    "def show_object(p1):\n",
    "    if isinstance(p1, Person):\n",
    "        return \"{} {} age -> {} gender -> {}\".format(p1.fname, p1.lname, p1.age, p1.gender)\n",
    "\n",
    "with open('demo5.json', 'w') as f:\n",
    "    # json.dump(p1, f) # error, custom object not serializable specify python how to serialize\n",
    "    json.dump(p1, f, default = show_object) "
   ]
  },
  {
   "cell_type": "code",
   "execution_count": 83,
   "metadata": {},
   "outputs": [],
   "source": [
    "# as a dictionary\n",
    "\n",
    "import json \n",
    "\n",
    "def show_object(p1):\n",
    "    if isinstance(p1, Person):\n",
    "        return {\n",
    "            'name': p1.fname + ' ' + p1.lname,\n",
    "            'age': p1.age,\n",
    "            'gender': p1.gender\n",
    "        }\n",
    "\n",
    "with open('demo6.json', 'w') as f:\n",
    "    json.dump(p1, f, default = show_object, indent = 4)"
   ]
  },
  {
   "cell_type": "code",
   "execution_count": 87,
   "metadata": {},
   "outputs": [
    {
     "name": "stdout",
     "output_type": "stream",
     "text": [
      "{'name': 'Partho Majumdar', 'age': 21, 'gender': 'alpha male'}\n",
      "<class 'dict'>\n"
     ]
    }
   ],
   "source": [
    "# deserialization\n",
    "\n",
    "import json \n",
    "with open('demo6.json', 'r') as f:\n",
    "    d = json.load(f)\n",
    "    print(d)\n",
    "    print(type(d))"
   ]
  },
  {
   "cell_type": "code",
   "execution_count": 89,
   "metadata": {},
   "outputs": [],
   "source": [
    "''' \n",
    "** Pickling --> take my custom object in different file\n",
    "Python object convert into byte steam \n",
    "''' \n",
    "\n",
    "class Person:\n",
    "    def __init__(self, name, age):\n",
    "        self.name = name\n",
    "        self.age = age \n",
    "    \n",
    "    def display(self):\n",
    "        print('Hi my name is', self.name, 'i am', self.age)\n",
    "\n",
    "p1 = Person('Partho Majumdar', 21)"
   ]
  },
  {
   "cell_type": "code",
   "execution_count": 93,
   "metadata": {},
   "outputs": [],
   "source": [
    "# pickle dump\n",
    "\n",
    "import pickle\n",
    "with open('person.pkl', 'wb') as f:\n",
    "    pickle.dump(p1, f)"
   ]
  },
  {
   "cell_type": "code",
   "execution_count": 97,
   "metadata": {},
   "outputs": [
    {
     "name": "stdout",
     "output_type": "stream",
     "text": [
      "Hi my name is Partho Majumdar i am 21\n"
     ]
    }
   ],
   "source": [
    "# pickle load\n",
    "\n",
    "import pickle\n",
    "with open('person.pkl', 'rb') as f:\n",
    "    p = pickle.load(f)\n",
    "\n",
    "p.display()"
   ]
  },
  {
   "cell_type": "code",
   "execution_count": null,
   "metadata": {},
   "outputs": [],
   "source": [
    "''' \n",
    "Pickle VS JSON\n",
    "Pickle -> store data in binary format\n",
    "JSON -> store data in human readable format  \n",
    "''' "
   ]
  }
 ],
 "metadata": {
  "kernelspec": {
   "display_name": "Python 3",
   "language": "python",
   "name": "python3"
  },
  "language_info": {
   "codemirror_mode": {
    "name": "ipython",
    "version": 3
   },
   "file_extension": ".py",
   "mimetype": "text/x-python",
   "name": "python",
   "nbconvert_exporter": "python",
   "pygments_lexer": "ipython3",
   "version": "3.13.0"
  }
 },
 "nbformat": 4,
 "nbformat_minor": 2
}
