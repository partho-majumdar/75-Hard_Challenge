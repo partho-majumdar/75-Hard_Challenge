{
 "cells": [
  {
   "cell_type": "code",
   "execution_count": 1,
   "metadata": {},
   "outputs": [],
   "source": [
    "l = [1, 2, 3]\n",
    "# l.upper() # error -> 'list' object has no attribute 'upper'\n",
    "\n",
    "s = 'hello'\n",
    "# s.append('x') # error -> 'str' object has no attribute 'append'"
   ]
  },
  {
   "cell_type": "code",
   "execution_count": 2,
   "metadata": {},
   "outputs": [
    {
     "data": {
      "text/plain": [
       "'\\nEverything in python is a object\\nOOP -> give power to programmers to make his own datatype\\n\\n1. Class\\n2. Object\\n5. Encapsulation\\n4. Inheritance\\n3. Polymorphism\\n6. Abstraction\\n'"
      ]
     },
     "execution_count": 2,
     "metadata": {},
     "output_type": "execute_result"
    }
   ],
   "source": [
    "'''\n",
    "Everything in python is a object\n",
    "OOP -> give power to programmers to make his own datatype\n",
    "\n",
    "1. Class\n",
    "2. Object\n",
    "5. Encapsulation\n",
    "4. Inheritance\n",
    "3. Polymorphism\n",
    "6. Abstraction\n",
    "'''"
   ]
  },
  {
   "cell_type": "code",
   "execution_count": 3,
   "metadata": {},
   "outputs": [
    {
     "name": "stdout",
     "output_type": "stream",
     "text": [
      "<class 'list'>\n"
     ]
    },
    {
     "data": {
      "text/plain": [
       "[1, 2, 3, 4]"
      ]
     },
     "execution_count": 3,
     "metadata": {},
     "output_type": "execute_result"
    }
   ],
   "source": [
    "# --------------- Class (is a blueprint)\n",
    "# --------------- Object (instance of class)\n",
    "\n",
    "l = [1, 2, 3]\n",
    "print(type(l))\n",
    "\n",
    "\n",
    "''' \n",
    "all datatype(list, tuple, int, set, dict) are built in |class| & variable of data type is |object|\n",
    "here list = class and l = datatype\n",
    "car -> class, audi/bmw -> object\n",
    "\n",
    "Class \n",
    "    - Attribute / Data / Property\n",
    "    - Functions\n",
    "'''\n",
    "\n",
    "list([1, 2, 3, 4])"
   ]
  },
  {
   "cell_type": "code",
   "execution_count": 4,
   "metadata": {},
   "outputs": [],
   "source": [
    "# syntax to create an object\n",
    "\n",
    "# objectname = classname()\n",
    "\n",
    "L = list() # here L = objectname, list() = classname\n",
    "\n",
    "# class name -> Pascal case = HelloWorld"
   ]
  },
  {
   "cell_type": "code",
   "execution_count": 5,
   "metadata": {},
   "outputs": [
    {
     "name": "stdout",
     "output_type": "stream",
     "text": [
      "Enter valid number\n"
     ]
    }
   ],
   "source": [
    "# Small banking application\n",
    "\n",
    "class ATM:\n",
    "    # constructor -> function in class -> to run no need to call constructor, when create object it will execute automatically\n",
    "    def __init__(self):\n",
    "        self.pin = ''\n",
    "        self.balance = 0\n",
    "        self.menu()\n",
    "    \n",
    "    def menu(self):\n",
    "        user_input = input(\"\"\"\n",
    "            How can i help you?\n",
    "            1. For create pin\n",
    "            2. For change pin\n",
    "            3. For check balance\n",
    "            4. For withdraw\n",
    "            5. Exit\n",
    "        \"\"\")\n",
    "\n",
    "        if user_input == '1':\n",
    "            # create pin\n",
    "            self.create_pin()\n",
    "    \n",
    "        elif user_input == '2':\n",
    "            # change pin\n",
    "            self.change_pin()\n",
    "        \n",
    "        elif user_input == '3':\n",
    "            # check balance\n",
    "            self.check_balance()\n",
    "\n",
    "        elif user_input == '4':\n",
    "            # withdraw money\n",
    "            self.withdraw_money()\n",
    "\n",
    "        elif user_input == '5':                 \n",
    "            pass\n",
    "        \n",
    "        else:\n",
    "            print(\"Enter valid number\")\n",
    "\n",
    "    def create_pin(self):\n",
    "        user_pin = input(\"Enter your pin: \")\n",
    "        user_balance = int(input(\"Enter your balance: \"))\n",
    "        self.pin = user_pin\n",
    "        self.balance = user_balance\n",
    "        print(\"Pin successfully created\")\n",
    "        self.menu()\n",
    "\n",
    "    def change_pin(self):\n",
    "        old_pin = input(\"Enter old pin: \")\n",
    "        if old_pin == self.pin:\n",
    "            new_pin = input(\"Enter num pin: \")\n",
    "            self.pin = new_pin\n",
    "            print(\"New pin successfully changed\")\n",
    "            self.menu()\n",
    "        else:\n",
    "            print(\"pin cannot changed\")\n",
    "\n",
    "    def check_balance(self):\n",
    "        user_pin = input(\"Enter your pin: \")\n",
    "        if user_pin == self.pin:\n",
    "            print(\"Your balance is: \",self.balance)\n",
    "        else:\n",
    "            print(\"Wrong password\")\n",
    "        self.menu()\n",
    "\n",
    "    def withdraw_money(self):\n",
    "        user_pin = input(\"Enter your pin: \")\n",
    "        if user_pin == self.pin:\n",
    "            user_money = int(input(\"How much money want to withdraw: \"))\n",
    "            if user_money > self.balance:\n",
    "                print(\"Insufficient ballance\")\n",
    "                self.menu()\n",
    "            elif user_money <= self.balance:\n",
    "                self.balance -= user_money\n",
    "                print(user_money, \"tk successfully withdraw\")\n",
    "                print(\"Your new balance is: \",self.balance)\n",
    "                self.menu()\n",
    "        else:\n",
    "            print(\"Wrong password\")\n",
    "            self.menu()\n",
    "\n",
    "# creating object\n",
    "a = ATM()"
   ]
  },
  {
   "cell_type": "code",
   "execution_count": 6,
   "metadata": {},
   "outputs": [
    {
     "data": {
      "text/plain": [
       "'\\nMethod -> function inside class is known as method\\nFunction -> function outside class\\nConstructor -> special method, no need to call, when create object it will call automatically\\n            -> Benefit (those function i dont want to give control to user, i put this function inside constructor)\\n               used to configure connect to the database (task i want to do without asking user)\\n\\nGolden rule of oop --> data and function that are in inside function, only object can access everything\\nif anyone want to access function inside class, for that need object which is (|this|) keyword (self == current object that i create )\\n'"
      ]
     },
     "execution_count": 6,
     "metadata": {},
     "output_type": "execute_result"
    }
   ],
   "source": [
    "'''\n",
    "Method -> function inside class is known as method\n",
    "Function -> function outside class\n",
    "Constructor -> special method, no need to call, when create object it will call automatically\n",
    "            -> Benefit (those function i dont want to give control to user, i put this function inside constructor)\n",
    "               used to configure connect to the database (task i want to do without asking user)\n",
    "\n",
    "Golden rule of oop --> data and function that are in inside function, only object can access everything\n",
    "if anyone want to access function inside class, for that need object which is (|this|) keyword (self == current object that i create )\n",
    "'''\n",
    "\n",
    "# ---------------- Magic Method (Dunder Method) --> __nameOfMethod__"
   ]
  },
  {
   "cell_type": "code",
   "execution_count": 7,
   "metadata": {},
   "outputs": [
    {
     "name": "stdout",
     "output_type": "stream",
     "text": [
      "3/4\n",
      "5/7\n",
      "41/28\n",
      "1/28\n",
      "15/28\n",
      "21/20\n",
      "0.75\n",
      "0.7142857142857143\n"
     ]
    }
   ],
   "source": [
    "# Create own datatype\n",
    "\n",
    "class Fraction:\n",
    "    # parameterized constructor \n",
    "    def __init__(self, x, y):\n",
    "        self.num = x\n",
    "        self.den = y\n",
    "    \n",
    "    # magic(dunder) method automatic call for print\n",
    "    def __str__(self):\n",
    "        return '{}/{}'.format(self.num, self.den)\n",
    "    \n",
    "    # magic(dunder) method automatic call for '+'\n",
    "    def __add__(self, other):\n",
    "        new_num = (self.num * other.den) + (other.num * self.den)\n",
    "        new_den = self.den * other.den\n",
    "        return '{}/{}'.format(new_num, new_den)\n",
    "    \n",
    "    # magic(dunder) method automatic call for '-'\n",
    "    def __sub__(self, other):\n",
    "        new_num = (self.num * other.den) - (other.num * self.den)\n",
    "        new_den = self.den * other.den\n",
    "        return '{}/{}'.format(new_num, new_den)\n",
    "    \n",
    "    # magic(dunder) method automatic call for '*'\n",
    "    def __mul__(self, other):\n",
    "        new_num = (self.num * other.num)\n",
    "        new_den = self.den * other.den\n",
    "        return '{}/{}'.format(new_num, new_den)\n",
    "    \n",
    "    # magic(dunder) method automatic call for '/'\n",
    "    def __truediv__(self, other):\n",
    "        new_num = (self.num * other.den)\n",
    "        new_den = self.den * other.num\n",
    "        return '{}/{}'.format(new_num, new_den)\n",
    "    \n",
    "    def covert_to_dec(self):\n",
    "        return self.num / self.den\n",
    "    \n",
    "obj1 = Fraction(3, 4)\n",
    "obj2 = Fraction(5, 7)\n",
    "print(obj1)\n",
    "print(obj2)\n",
    "\n",
    "print(obj1 + obj2)\n",
    "print(obj1 - obj2)\n",
    "print(obj1 * obj2)\n",
    "print(obj1 / obj2)\n",
    "\n",
    "print(obj1.covert_to_dec())\n",
    "print(obj2.covert_to_dec())"
   ]
  }
 ],
 "metadata": {
  "kernelspec": {
   "display_name": "Python 3",
   "language": "python",
   "name": "python3"
  },
  "language_info": {
   "codemirror_mode": {
    "name": "ipython",
    "version": 3
   },
   "file_extension": ".py",
   "mimetype": "text/x-python",
   "name": "python",
   "nbconvert_exporter": "python",
   "pygments_lexer": "ipython3",
   "version": "3.13.0"
  }
 },
 "nbformat": 4,
 "nbformat_minor": 2
}
