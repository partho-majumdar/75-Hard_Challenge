{
 "cells": [
  {
   "cell_type": "code",
   "execution_count": 1,
   "metadata": {},
   "outputs": [
    {
     "name": "stdout",
     "output_type": "stream",
     "text": [
      "9\n",
      "1\n",
      "2\n",
      "8\n",
      "7\n",
      "5\n"
     ]
    }
   ],
   "source": [
    "# ------------------- iteration -> use a loop (take all the value in memory then work)\n",
    "\n",
    "ls = [9, 1, 2, 8, 7, 5]\n",
    "for i in ls:\n",
    "    print(i)"
   ]
  },
  {
   "cell_type": "code",
   "execution_count": null,
   "metadata": {},
   "outputs": [
    {
     "name": "stdout",
     "output_type": "stream",
     "text": [
      "0.046875\n",
      "8250.7109375\n"
     ]
    }
   ],
   "source": [
    "# --------------------- iterator -> take less memory (without having entire data in the memory take one and work with one then remove and so on) / iterator is helper of iteration \n",
    "\n",
    "import sys\n",
    "ls1 = range(1, 1000000) # iterator\n",
    "ls2 = [x for x in range(1, 1000000)]\n",
    "\n",
    "print(sys.getsizeof(ls1) / 1024)\n",
    "print(sys.getsizeof(ls2) / 1024)"
   ]
  },
  {
   "cell_type": "code",
   "execution_count": 3,
   "metadata": {},
   "outputs": [
    {
     "data": {
      "text/plain": [
       "list_iterator"
      ]
     },
     "execution_count": 3,
     "metadata": {},
     "output_type": "execute_result"
    }
   ],
   "source": [
    "#----------------------- iterable (is an object which one can iterate over)\n",
    "\n",
    "''' \n",
    "\n",
    "--> if i run loop on anything this is iterable\n",
    "--> list and range are iterable \n",
    "--> iterable give me iterator -> using \"iter()\" method\n",
    "--> iterable has only \"__iter__\" \n",
    "--> iterator has \"__iter__\", \"__next__\" \n",
    "\n",
    "'''\n",
    "\n",
    "l = [3, 4, 5, 6]\n",
    "iter(l) # iterator\n",
    "type(iter(l))"
   ]
  },
  {
   "cell_type": "code",
   "execution_count": 4,
   "metadata": {},
   "outputs": [
    {
     "data": {
      "text/plain": [
       "' \\n--> Every iterator is also an iterable\\n--> But not all iterable are iterator (previous example ls1, ls2)\\n'"
      ]
     },
     "execution_count": 4,
     "metadata": {},
     "output_type": "execute_result"
    }
   ],
   "source": [
    "''' \n",
    "--> Every iterator is also an iterable\n",
    "--> But not all iterable are iterator (previous example ls1, ls2)\n",
    "'''"
   ]
  },
  {
   "cell_type": "code",
   "execution_count": 5,
   "metadata": {},
   "outputs": [
    {
     "data": {
      "text/plain": [
       "['__class__',\n",
       " '__class_getitem__',\n",
       " '__contains__',\n",
       " '__delattr__',\n",
       " '__delitem__',\n",
       " '__dir__',\n",
       " '__doc__',\n",
       " '__eq__',\n",
       " '__format__',\n",
       " '__ge__',\n",
       " '__getattribute__',\n",
       " '__getitem__',\n",
       " '__getstate__',\n",
       " '__gt__',\n",
       " '__hash__',\n",
       " '__init__',\n",
       " '__init_subclass__',\n",
       " '__ior__',\n",
       " '__iter__',\n",
       " '__le__',\n",
       " '__len__',\n",
       " '__lt__',\n",
       " '__ne__',\n",
       " '__new__',\n",
       " '__or__',\n",
       " '__reduce__',\n",
       " '__reduce_ex__',\n",
       " '__repr__',\n",
       " '__reversed__',\n",
       " '__ror__',\n",
       " '__setattr__',\n",
       " '__setitem__',\n",
       " '__sizeof__',\n",
       " '__str__',\n",
       " '__subclasshook__',\n",
       " 'clear',\n",
       " 'copy',\n",
       " 'fromkeys',\n",
       " 'get',\n",
       " 'items',\n",
       " 'keys',\n",
       " 'pop',\n",
       " 'popitem',\n",
       " 'setdefault',\n",
       " 'update',\n",
       " 'values']"
      ]
     },
     "execution_count": 5,
     "metadata": {},
     "output_type": "execute_result"
    }
   ],
   "source": [
    "a =  5\n",
    "\n",
    "dir (a)\n",
    "\n",
    "q  = {\n",
    "    'a': 1,\n",
    "    'b': 29, \n",
    "    'name': 'sigma'\n",
    "}  \n",
    "\n",
    "dir(q)"
   ]
  },
  {
   "cell_type": "code",
   "execution_count": 6,
   "metadata": {},
   "outputs": [
    {
     "data": {
      "text/plain": [
       "['__and__',\n",
       " '__class__',\n",
       " '__class_getitem__',\n",
       " '__contains__',\n",
       " '__delattr__',\n",
       " '__dir__',\n",
       " '__doc__',\n",
       " '__eq__',\n",
       " '__format__',\n",
       " '__ge__',\n",
       " '__getattribute__',\n",
       " '__getstate__',\n",
       " '__gt__',\n",
       " '__hash__',\n",
       " '__iand__',\n",
       " '__init__',\n",
       " '__init_subclass__',\n",
       " '__ior__',\n",
       " '__isub__',\n",
       " '__iter__',\n",
       " '__ixor__',\n",
       " '__le__',\n",
       " '__len__',\n",
       " '__lt__',\n",
       " '__ne__',\n",
       " '__new__',\n",
       " '__or__',\n",
       " '__rand__',\n",
       " '__reduce__',\n",
       " '__reduce_ex__',\n",
       " '__repr__',\n",
       " '__ror__',\n",
       " '__rsub__',\n",
       " '__rxor__',\n",
       " '__setattr__',\n",
       " '__sizeof__',\n",
       " '__str__',\n",
       " '__sub__',\n",
       " '__subclasshook__',\n",
       " '__xor__',\n",
       " 'add',\n",
       " 'clear',\n",
       " 'copy',\n",
       " 'difference',\n",
       " 'difference_update',\n",
       " 'discard',\n",
       " 'intersection',\n",
       " 'intersection_update',\n",
       " 'isdisjoint',\n",
       " 'issubset',\n",
       " 'issuperset',\n",
       " 'pop',\n",
       " 'remove',\n",
       " 'symmetric_difference',\n",
       " 'symmetric_difference_update',\n",
       " 'union',\n",
       " 'update']"
      ]
     },
     "execution_count": 6,
     "metadata": {},
     "output_type": "execute_result"
    }
   ],
   "source": [
    "tp = (2, 3, 6, 9)\n",
    "dir(tp)\n",
    "\n",
    "st = {1, 3, 9, 9}\n",
    "dir(st)"
   ]
  },
  {
   "cell_type": "code",
   "execution_count": 7,
   "metadata": {},
   "outputs": [
    {
     "data": {
      "text/plain": [
       "4"
      ]
     },
     "execution_count": 7,
     "metadata": {},
     "output_type": "execute_result"
    }
   ],
   "source": [
    "# How for loop works\n",
    "\n",
    "num = [6, 5, 4]\n",
    "\n",
    "# Step-1 (fetch the iterator using iter function)\n",
    "iter_num = iter(num)\n",
    "\n",
    "# Step-2 (next -> give me where it is now)\n",
    "next(iter_num)\n",
    "next(iter_num)\n",
    "next(iter_num)\n",
    "# next(iter_num) # StopIteration error \n"
   ]
  },
  {
   "cell_type": "code",
   "execution_count": 8,
   "metadata": {},
   "outputs": [
    {
     "name": "stdout",
     "output_type": "stream",
     "text": [
      "6\n",
      "1\n",
      "3\n",
      "4\n"
     ]
    }
   ],
   "source": [
    "# Making out own for loop \n",
    "\n",
    "def my_for_loop(iterable):\n",
    "    iterator = iter(iterable)\n",
    "\n",
    "    while True:\n",
    "        try:\n",
    "            print(next(iterator))\n",
    "        except StopIteration:\n",
    "            break\n",
    "\n",
    "a1 = [5, 4, 3, 2, 1]\n",
    "a2 = range(1, 10)\n",
    "a3 = {9, 8, 7, 5, 3} \n",
    "a4 = {\n",
    "    'n1': 10,\n",
    "    'n2': 30\n",
    "}\n",
    "a5 = (6, 1, 3, 4)\n",
    "\n",
    "my_for_loop(a5)"
   ]
  },
  {
   "cell_type": "code",
   "execution_count": 9,
   "metadata": {},
   "outputs": [
    {
     "name": "stdout",
     "output_type": "stream",
     "text": [
      "2150703429280\n",
      "2150703429280\n"
     ]
    }
   ],
   "source": [
    "# Confusing part\n",
    "\n",
    "ls = [9, 5, 1, 4]\n",
    "\n",
    "iter_1 = iter(ls)\n",
    "iter_2 = iter(iter_1) # return himself\n",
    "\n",
    "print(id(iter_1))\n",
    "print(id(iter_2)) "
   ]
  },
  {
   "cell_type": "code",
   "execution_count": 10,
   "metadata": {},
   "outputs": [
    {
     "name": "stdout",
     "output_type": "stream",
     "text": [
      "1\n",
      "2\n",
      "3\n",
      "4\n",
      "<class '__main__.my_range'>\n",
      "<class '__main__.my_range_iterator'>\n"
     ]
    }
   ],
   "source": [
    "# create our own range() function\n",
    "\n",
    "class my_range:\n",
    "    def __init__(self, start, end):\n",
    "        self.start = start\n",
    "        self.end = end\n",
    "    \n",
    "    def __iter__(self):\n",
    "        return my_range_iterator(self) # here self is my_range object\n",
    "\n",
    "class my_range_iterator:\n",
    "    def __init__(self, iterable_obj):\n",
    "        self.iterable = iterable_obj\n",
    "\n",
    "    def __iter__(self): # when I iter() an iterator it return himself\n",
    "        return self\n",
    "\n",
    "    def __next__(self):\n",
    "        if self.iterable.start >= self.iterable.end:\n",
    "            raise StopIteration\n",
    "\n",
    "        current = self.iterable.start\n",
    "        self.iterable.start += 1\n",
    "        return current\n",
    "\n",
    "for i in my_range(1, 5):\n",
    "    print(i)\n",
    "\n",
    "x = my_range(1, 10)\n",
    "print(type(x))\n",
    "print(type(iter(x)))"
   ]
  },
  {
   "cell_type": "code",
   "execution_count": 11,
   "metadata": {},
   "outputs": [
    {
     "name": "stdout",
     "output_type": "stream",
     "text": [
      "first statement\n",
      "second statement\n",
      "third statement\n"
     ]
    }
   ],
   "source": [
    "# ----------------------- Generators (simple way of creating iterators) -> no return / yield statement\n",
    "\n",
    "def gen_demo():\n",
    "    yield \"first statement\" \n",
    "    yield \"second statement\"\n",
    "    yield \"third statement\"\n",
    "\n",
    "# R-1\n",
    "gen = gen_demo() # this is generator object here I am using next() I got all yield value\n",
    "print(next(gen))\n",
    "print(next(gen))\n",
    "print(next(gen))\n",
    "# print(next(gen)) # error\n",
    "\n",
    "# R-2\n",
    "for i in gen:\n",
    "    print(i)"
   ]
  },
  {
   "cell_type": "code",
   "execution_count": 12,
   "metadata": {},
   "outputs": [
    {
     "name": "stdout",
     "output_type": "stream",
     "text": [
      "first statement\n",
      "second statement\n",
      "third statement\n"
     ]
    },
    {
     "data": {
      "text/plain": [
       "'\\nIn python tutor --> when \"gen\" object created function not call, function call when \"gen\" object use next (when for loop run then function call)\\n\\nnormal function -> execute once, done his job and remove from memory\\ngenerator -> do his job partially and when removed from memory it remember what he did in last time, when call 2nd time it start from where it end last time\\n'"
      ]
     },
     "execution_count": 12,
     "metadata": {},
     "output_type": "execute_result"
    }
   ],
   "source": [
    "# Difference between yield and return \n",
    "\n",
    "# ----------------------- Generators (simple way of creating iterators) -> no return / yield statement\n",
    "\n",
    "def gen_demo():\n",
    "    yield \"first statement\"\n",
    "    yield \"second statement\"\n",
    "    yield \"third statement\"\n",
    "\n",
    "gen = gen_demo()\n",
    "\n",
    "for i in gen:\n",
    "    print(i)\n",
    "\n",
    "'''\n",
    "In python tutor --> when \"gen\" object created function not call, function call when \"gen\" object use next (when for loop run then function call)\n",
    "\n",
    "normal function -> execute once, done his job and remove from memory\n",
    "generator -> do his job partially and when removed from memory it remember what he did in last time, when call 2nd time it start from where it end last time\n",
    "'''"
   ]
  },
  {
   "cell_type": "code",
   "execution_count": 13,
   "metadata": {},
   "outputs": [
    {
     "name": "stdout",
     "output_type": "stream",
     "text": [
      "1\n",
      "4\n",
      "9\n",
      "\n",
      "\n",
      "16\n",
      "25\n",
      "36\n",
      "49\n",
      "64\n",
      "81\n",
      "100\n"
     ]
    }
   ],
   "source": [
    "def square(num):\n",
    "    for i in range(1, num + 1):\n",
    "        yield i ** 2\n",
    "\n",
    "gen = square(10)\n",
    "\n",
    "print(next(gen))\n",
    "print(next(gen))\n",
    "print(next(gen))\n",
    "\n",
    "print('\\n')\n",
    "\n",
    "for i in gen:\n",
    "    print(i) # start print from 4 = 16 ........"
   ]
  },
  {
   "cell_type": "code",
   "execution_count": 14,
   "metadata": {},
   "outputs": [
    {
     "name": "stdout",
     "output_type": "stream",
     "text": [
      "15\n",
      "16\n",
      "17\n",
      "18\n",
      "19\n",
      "20\n"
     ]
    }
   ],
   "source": [
    "# Range function using generator\n",
    "\n",
    "def my_range1(start, end):\n",
    "    for i in range(start, end):\n",
    "        yield i\n",
    "\n",
    "for i in my_range1(15, 21):\n",
    "    print(i)"
   ]
  },
  {
   "cell_type": "code",
   "execution_count": 15,
   "metadata": {},
   "outputs": [
    {
     "name": "stdout",
     "output_type": "stream",
     "text": [
      "[1, 4, 9, 16, 25, 36, 49, 64, 81, 100, 121, 144, 169, 196, 225, 256, 289, 324, 361, 400, 441, 484, 529, 576, 625, 676, 729, 784, 841, 900, 961, 1024, 1089, 1156, 1225, 1296, 1369, 1444, 1521, 1600, 1681, 1764, 1849, 1936, 2025, 2116, 2209, 2304, 2401, 2500, 2601, 2704, 2809, 2916, 3025, 3136, 3249, 3364, 3481, 3600, 3721, 3844, 3969, 4096, 4225, 4356, 4489, 4624, 4761, 4900, 5041, 5184, 5329, 5476, 5625, 5776, 5929, 6084, 6241, 6400, 6561, 6724, 6889, 7056, 7225, 7396, 7569, 7744, 7921, 8100, 8281, 8464, 8649, 8836, 9025, 9216, 9409, 9604, 9801, 10000]\n",
      "1, 4, 9, 16, 25, 36, 49, 64, 81, 100, 121, 144, 169, 196, 225, 256, 289, 324, 361, 400, 441, 484, 529, 576, 625, 676, 729, 784, 841, 900, 961, 1024, 1089, 1156, 1225, 1296, 1369, 1444, 1521, 1600, 1681, 1764, 1849, 1936, 2025, 2116, 2209, 2304, 2401, 2500, 2601, 2704, 2809, 2916, 3025, 3136, 3249, 3364, 3481, 3600, 3721, 3844, 3969, 4096, 4225, 4356, 4489, 4624, 4761, 4900, 5041, 5184, 5329, 5476, 5625, 5776, 5929, 6084, 6241, 6400, 6561, 6724, 6889, 7056, 7225, 7396, 7569, 7744, 7921, 8100, 8281, 8464, 8649, 8836, 9025, 9216, 9409, 9604, 9801, 10000, "
     ]
    }
   ],
   "source": [
    "# Generator Expression \n",
    "\n",
    "ls = [i ** 2 for i in range(1, 101)]\n",
    "print(ls)\n",
    "\n",
    "gen = (i ** 2 for i in range(1, 101))\n",
    "for i in gen:\n",
    "    print(i, end = ', ')"
   ]
  },
  {
   "cell_type": "code",
   "execution_count": 16,
   "metadata": {},
   "outputs": [
    {
     "data": {
      "text/plain": [
       "'\\n\\nBenefit of generator\\n    --> easy implementation\\n    --> take less memory\\n    --> work with infinite value (cause it take one value at a time hence can handle infinite value)\\n    --> chaining generator\\n\\n '"
      ]
     },
     "execution_count": 16,
     "metadata": {},
     "output_type": "execute_result"
    }
   ],
   "source": [
    "'''\n",
    "\n",
    "Benefit of generator\n",
    "    --> easy implementation\n",
    "    --> take less memory\n",
    "    --> work with infinite value (cause it take one value at a time hence can handle infinite value)\n",
    "    --> chaining generator\n",
    "\n",
    " '''"
   ]
  }
 ],
 "metadata": {
  "kernelspec": {
   "display_name": "Python 3",
   "language": "python",
   "name": "python3"
  },
  "language_info": {
   "codemirror_mode": {
    "name": "ipython",
    "version": 3
   },
   "file_extension": ".py",
   "mimetype": "text/x-python",
   "name": "python",
   "nbconvert_exporter": "python",
   "pygments_lexer": "ipython3",
   "version": "3.12.5"
  }
 },
 "nbformat": 4,
 "nbformat_minor": 2
}
