{
 "cells": [
  {
   "cell_type": "code",
   "execution_count": 1,
   "metadata": {},
   "outputs": [
    {
     "name": "stdout",
     "output_type": "stream",
     "text": [
      "Dhaka 1212 Bangladesh\n",
      "Khulna 1012 Bangladesh\n"
     ]
    }
   ],
   "source": [
    "# -------------- Class Relationship (Aggregation / Inheritance)\n",
    "# Aggregation (has a relationship) -> one class owns other class\n",
    "\n",
    "class Customer:\n",
    "    def __init__(self, name, gender, address):\n",
    "        self.name = name\n",
    "        self.gender = gender\n",
    "        self.address = address\n",
    "    \n",
    "    def print_address(self):\n",
    "        # print(self.address.city, self.address.pin, self.address.state)\n",
    "        # print(self.address.get_city(), self.address.pin, self.address.state)\n",
    "        print(self.address._Address__city, self.address.pin, self.address.state)\n",
    "\n",
    "    def edit_profile(self, new_name, new_city, new_pin, new_state):\n",
    "        self.name = new_name \n",
    "        self.address.edit_address(new_city, new_pin, new_state)\n",
    "\n",
    "class Address:\n",
    "    def __init__(self, city, pin, state):\n",
    "        self.__city = city # in aggression private variable not access\n",
    "        self.city = city\n",
    "        self.pin = pin\n",
    "        self.state = state\n",
    "    \n",
    "    def  get_city(self):\n",
    "        return self.__city\n",
    "    \n",
    "    def edit_address(self, new_city, new_pin, new_state):\n",
    "        self.__city = new_city\n",
    "        self.pin = new_pin\n",
    "        self.state = new_state\n",
    "\n",
    "add1 = Address('Dhaka', 1212, 'Bangladesh')\n",
    "c1 = Customer('aaa', 'male', add1)\n",
    "c1.print_address()\n",
    "\n",
    "c1.edit_profile(\"bbb\", \"Khulna\", 1012, \"Bangladesh\")\n",
    "c1.print_address()"
   ]
  },
  {
   "cell_type": "code",
   "execution_count": 2,
   "metadata": {},
   "outputs": [
    {
     "name": "stdout",
     "output_type": "stream",
     "text": [
      "login from user\n",
      "aaa\n"
     ]
    }
   ],
   "source": [
    "# -------------------- Inheritance (Child access parent property)\n",
    "\n",
    "# parent class\n",
    "class User:\n",
    "    def __init__(self):\n",
    "        self.name = \"aaa\"\n",
    "    \n",
    "    def login(self):\n",
    "        print(\"login from user\")\n",
    "\n",
    "# child class\n",
    "class Student(User):\n",
    "    def __init__(self):\n",
    "        super().__init__() # super() -> call the parent class constructor\n",
    "        self.rollno = 102\n",
    "\n",
    "    def enroll(self):\n",
    "        print(\"enroll into the course\")\n",
    "\n",
    "u1 = User()\n",
    "s1 = Student()\n",
    "s1.login()\n",
    "print(s1.name)"
   ]
  },
  {
   "cell_type": "code",
   "execution_count": 3,
   "metadata": {},
   "outputs": [
    {
     "name": "stdout",
     "output_type": "stream",
     "text": [
      "Inside phone constructor\n",
      "Buying a phone\n"
     ]
    }
   ],
   "source": [
    "'''\n",
    "What get inherited\n",
    "1. Constructor\n",
    "2. Non private attribute\n",
    "3. Non private method\n",
    "'''\n",
    "\n",
    "class Phone:\n",
    "    def __init__(self, price, brand, camera):\n",
    "        print(\"Inside phone constructor\")\n",
    "        self.price = price\n",
    "        self.brand = brand\n",
    "        self.camera = camera\n",
    "    \n",
    "    def buy(self):\n",
    "        print(\"Buying a phone\")\n",
    "\n",
    "class Smartphone(Phone):\n",
    "    pass\n",
    "\n",
    "s1 = Smartphone(24000, 'Samsung', 12)\n",
    "s1.buy()"
   ]
  },
  {
   "cell_type": "code",
   "execution_count": 4,
   "metadata": {},
   "outputs": [
    {
     "name": "stdout",
     "output_type": "stream",
     "text": [
      "Inside smartphone constructor\n"
     ]
    }
   ],
   "source": [
    "'''\n",
    "- If there is no constructor for child, parent constructor  will call\n",
    "- If child has constructor, parent will never call (for that use super() keyword)\n",
    "'''\n",
    "\n",
    "class Phone:\n",
    "    def __init__(self, price, brand, camera):\n",
    "        print(\"Inside phone constructor\")\n",
    "        self.__price = price\n",
    "        self.brand = brand\n",
    "        self.camera = camera\n",
    "    \n",
    "    def buy(self):\n",
    "        print(\"Buying a phone\")\n",
    "\n",
    "class Smartphone(Phone):\n",
    "    def __init__(self, os, ram):\n",
    "        # super().__init__()\n",
    "        print(\"Inside smartphone constructor\")\n",
    "        self.os = os\n",
    "        self.ram = ram\n",
    "\n",
    "    def buy(self):\n",
    "        print(\"Buying a smartphone\")\n",
    "\n",
    "s1 = Smartphone('Samsung', 8)\n",
    "# s1.brand # error cause child has constructor and brand from parent constructor"
   ]
  },
  {
   "cell_type": "code",
   "execution_count": 5,
   "metadata": {},
   "outputs": [
    {
     "name": "stdout",
     "output_type": "stream",
     "text": [
      "Inside phone constructor\n"
     ]
    }
   ],
   "source": [
    "# Child can not access private members of class\n",
    "\n",
    "class Phone:\n",
    "    def __init__(self, price, brand, camera):\n",
    "        print(\"Inside phone constructor\")\n",
    "        self.__price = price\n",
    "        self.brand = brand\n",
    "        self.camera = camera\n",
    "\n",
    "    def __show(self):\n",
    "        print(self.__price)\n",
    "\n",
    "class Smartphone(Phone):\n",
    "    def check(self):\n",
    "        print(self.__price)\n",
    "\n",
    "s1 = Smartphone(25000, 'Pixel', 12)\n",
    "# s1.check() # error\n",
    "# s1.__show() # error"
   ]
  },
  {
   "cell_type": "code",
   "execution_count": 6,
   "metadata": {},
   "outputs": [
    {
     "name": "stdout",
     "output_type": "stream",
     "text": [
      "100\n",
      "This is in child class\n"
     ]
    }
   ],
   "source": [
    "class Parent:\n",
    "    def __init__(self, num):\n",
    "        self.__num = num\n",
    "\n",
    "    def get_num(self):\n",
    "        return self.__num\n",
    "\n",
    "class Child(Parent):\n",
    "    def show(self):\n",
    "        print(\"This is in child class\")\n",
    "\n",
    "s1 = Child(100)\n",
    "print(s1.get_num())\n",
    "s1.show()"
   ]
  },
  {
   "cell_type": "code",
   "execution_count": 7,
   "metadata": {},
   "outputs": [
    {
     "name": "stdout",
     "output_type": "stream",
     "text": [
      "Child: Val: 100\n"
     ]
    }
   ],
   "source": [
    "class Parent:\n",
    "    def __init__(self, num):\n",
    "        self.__num = num\n",
    "\n",
    "    def get_num(self):\n",
    "        return self.__num\n",
    "\n",
    "class Child(Parent):\n",
    "    def __init__(self, val, num):\n",
    "        self.__val = val\n",
    "\n",
    "    def get_val(self):\n",
    "        return self.__val\n",
    "        \n",
    "son = Child(100, 10)\n",
    "# print(\"Parent: Num:\", son.get_num()) # this line give error cause as child has constructor so parent constructor will not call\n",
    "print(\"Child: Val:\", son.get_val())"
   ]
  },
  {
   "cell_type": "code",
   "execution_count": 8,
   "metadata": {},
   "outputs": [
    {
     "name": "stdout",
     "output_type": "stream",
     "text": [
      "class A : 100\n"
     ]
    }
   ],
   "source": [
    "class A:\n",
    "    def __init__(self):\n",
    "        self.var1 = 100\n",
    "\n",
    "    def display1(self, var1):\n",
    "        # self.var1 = var1 # for that it print 200\n",
    "        print(\"class A :\", self.var1) # here parameter var1 != self.var1 so it print 100\n",
    "\n",
    "class B(A):\n",
    "    def display2(self, var1):\n",
    "        print(\"class B :\", self.var1)\n",
    "\n",
    "obj = B()\n",
    "obj.display1(200)"
   ]
  },
  {
   "cell_type": "code",
   "execution_count": 9,
   "metadata": {},
   "outputs": [
    {
     "name": "stdout",
     "output_type": "stream",
     "text": [
      "Inside phone constructor\n",
      "Buying a smartphone\n"
     ]
    }
   ],
   "source": [
    "# Method Overriding (if parent and child has same method then child method will always run)\n",
    "\n",
    "class Phone:\n",
    "    def __init__(self, price, brand, camera):\n",
    "        print (\"Inside phone constructor\")\n",
    "        self.__price = price\n",
    "        self.brand = brand\n",
    "        self.camera = camera\n",
    "\n",
    "    def buy(self):\n",
    "        print (\"Buying a phone\")\n",
    "\n",
    "class SmartPhone(Phone):\n",
    "    def buy(self):\n",
    "        print (\"Buying a smartphone\")\n",
    "\n",
    "s = SmartPhone(20000, \"Apple\", 13)\n",
    "s.buy()"
   ]
  },
  {
   "cell_type": "code",
   "execution_count": 10,
   "metadata": {},
   "outputs": [
    {
     "name": "stdout",
     "output_type": "stream",
     "text": [
      "Inside phone constructor\n",
      "Buying a smartphone\n",
      "Buying a phone\n"
     ]
    }
   ],
   "source": [
    "# super() -> call parent method\n",
    "\n",
    "class Phone:\n",
    "    def __init__(self, price, brand, camera):\n",
    "        print (\"Inside phone constructor\")\n",
    "        self.__price = price\n",
    "        self.brand = brand\n",
    "        self.camera = camera\n",
    "\n",
    "    def buy(self):\n",
    "        print (\"Buying a phone\")\n",
    "\n",
    "class SmartPhone(Phone):\n",
    "    def buy(self):\n",
    "        print (\"Buying a smartphone\")\n",
    "        # syntax to call parent buy method\n",
    "        super().buy()\n",
    "\n",
    "s = SmartPhone(20000, \"Apple\", 13)\n",
    "s.buy()"
   ]
  },
  {
   "cell_type": "code",
   "execution_count": 11,
   "metadata": {},
   "outputs": [
    {
     "name": "stdout",
     "output_type": "stream",
     "text": [
      "Inside smartphone constructor\n",
      "Inside phone constructor\n",
      "Inside smartphone constructor\n",
      "Android\n",
      "Samsung\n",
      "20000\n"
     ]
    }
   ],
   "source": [
    "# super() -> constructor\n",
    "\n",
    "class Phone:\n",
    "    def __init__(self, price, brand, camera):\n",
    "        print(\"Inside phone constructor\")\n",
    "        self.__price = price\n",
    "        self.brand = brand\n",
    "        self.camera = camera\n",
    "\n",
    "class SmartPhone(Phone):\n",
    "    def __init__(self, price, brand, camera, os, ram):\n",
    "        print('Inside smartphone constructor')\n",
    "        super().__init__(price, brand, camera)\n",
    "        self.os = os\n",
    "        self.ram = ram\n",
    "        print(\"Inside smartphone constructor\")\n",
    "\n",
    "s = SmartPhone(20000, \"Samsung\", 12, \"Android\", 2)\n",
    "\n",
    "print(s.os)\n",
    "print(s.brand)\n",
    "print(s._Phone__price) # this type of naughty work not do in job"
   ]
  },
  {
   "cell_type": "code",
   "execution_count": 12,
   "metadata": {},
   "outputs": [
    {
     "name": "stdout",
     "output_type": "stream",
     "text": [
      "Inside phone constructor\n"
     ]
    }
   ],
   "source": [
    "# using super(always use inside child class) outside the class give error\n",
    "\n",
    "class Phone:\n",
    "    def __init__(self, price, brand, camera):\n",
    "        print (\"Inside phone constructor\")\n",
    "        self.__price = price\n",
    "        self.brand = brand\n",
    "        self.camera = camera\n",
    "\n",
    "    def buy(self):\n",
    "        print (\"Buying a phone\")\n",
    "\n",
    "class SmartPhone(Phone):\n",
    "    def buy(self):\n",
    "        print (\"Buying a smartphone\")\n",
    "        # syntax to call parent ka buy method\n",
    "        super().buy()\n",
    "\n",
    "s = SmartPhone(20000, \"Apple\", 13)\n",
    "\n",
    "# s.super().buy() # error"
   ]
  },
  {
   "cell_type": "code",
   "execution_count": 13,
   "metadata": {},
   "outputs": [
    {
     "name": "stdout",
     "output_type": "stream",
     "text": [
      "Inside phone constructor\n",
      "Buying a smartphone\n"
     ]
    },
    {
     "data": {
      "text/plain": [
       "' \\n1. Super() cannot use outside the class\\n2. Super() cannot access attribute\\n3. Super() used in child class\\n'"
      ]
     },
     "execution_count": 13,
     "metadata": {},
     "output_type": "execute_result"
    }
   ],
   "source": [
    "# super keyword only access method not attribute\n",
    "\n",
    "class Phone:\n",
    "    def __init__(self, price, brand, camera):\n",
    "        print (\"Inside phone constructor\")\n",
    "        self.__price = price\n",
    "        self.brand = brand\n",
    "        self.camera = camera\n",
    "\n",
    "    def buy(self):\n",
    "        print (\"Buying a phone\")\n",
    "\n",
    "class SmartPhone(Phone):\n",
    "    def buy(self):\n",
    "        print (\"Buying a smartphone\")\n",
    "        # print(super().brand) # super cannot access attribute\n",
    "\n",
    "s = SmartPhone(20000, \"Apple\", 13)\n",
    "s.buy()\n",
    "\n",
    "''' \n",
    "1. Super() cannot use outside the class\n",
    "2. Super() cannot access attribute\n",
    "3. Super() used in child class\n",
    "'''"
   ]
  },
  {
   "cell_type": "code",
   "execution_count": 14,
   "metadata": {},
   "outputs": [
    {
     "name": "stdout",
     "output_type": "stream",
     "text": [
      "100\n",
      "200\n"
     ]
    }
   ],
   "source": [
    "# Practice - 01\n",
    "\n",
    "class Parent:\n",
    "    def __init__(self, num):\n",
    "      self.__num = num\n",
    "\n",
    "    def get_num(self):\n",
    "      return self.__num\n",
    "\n",
    "class Child(Parent):\n",
    "    def __init__(self, num, val):\n",
    "      super().__init__(num)\n",
    "      self.__val = val\n",
    "\n",
    "    def get_val(self):\n",
    "      return self.__val\n",
    "      \n",
    "son = Child(100,200)\n",
    "print(son.get_num())\n",
    "print(son.get_val())"
   ]
  },
  {
   "cell_type": "code",
   "execution_count": 15,
   "metadata": {},
   "outputs": [
    {
     "name": "stdout",
     "output_type": "stream",
     "text": [
      "100\n",
      "200\n"
     ]
    }
   ],
   "source": [
    "# Practice - 02\n",
    "\n",
    "class Parent:\n",
    "    def __init__(self):\n",
    "        self.num = 100\n",
    "\n",
    "class Child(Parent):\n",
    "    def __init__(self):\n",
    "        super().__init__()\n",
    "        self.var = 200\n",
    "        \n",
    "    def show(self):\n",
    "        print(self.num)\n",
    "        print(self.var)\n",
    "\n",
    "son = Child()\n",
    "son.show()"
   ]
  },
  {
   "cell_type": "code",
   "execution_count": 16,
   "metadata": {},
   "outputs": [
    {
     "name": "stdout",
     "output_type": "stream",
     "text": [
      "Child: 10\n"
     ]
    }
   ],
   "source": [
    "# Practice - 03\n",
    "\n",
    "class Parent:\n",
    "    def __init__(self):\n",
    "        self.__num = 100\n",
    "\n",
    "    def show(self):\n",
    "        print(\"Parent:\", self.__num)\n",
    "\n",
    "class Child(Parent):\n",
    "    def __init__(self):\n",
    "        super().__init__()\n",
    "        self.__var = 10\n",
    "\n",
    "    def show(self):\n",
    "        print(\"Child:\", self.__var)\n",
    "\n",
    "obj = Child()\n",
    "obj.show() # overriding"
   ]
  },
  {
   "cell_type": "code",
   "execution_count": 17,
   "metadata": {},
   "outputs": [
    {
     "name": "stdout",
     "output_type": "stream",
     "text": [
      "Inside phone constructor\n",
      "Buying a phone\n"
     ]
    }
   ],
   "source": [
    "# Types of inheritance\n",
    "\n",
    "# single inheritance\n",
    "class Phone:\n",
    "    def __init__(self, price, brand, camera):\n",
    "        print (\"Inside phone constructor\")\n",
    "        self.__price = price\n",
    "        self.brand = brand\n",
    "        self.camera = camera\n",
    "\n",
    "    def buy(self):\n",
    "        print (\"Buying a phone\")\n",
    "\n",
    "class SmartPhone(Phone):\n",
    "    pass\n",
    "\n",
    "s1 = SmartPhone(1000, \"Apple\", \"13px\")\n",
    "s1.buy()"
   ]
  },
  {
   "cell_type": "code",
   "execution_count": 18,
   "metadata": {},
   "outputs": [
    {
     "name": "stdout",
     "output_type": "stream",
     "text": [
      "Inside phone constructor\n",
      "Buying a phone\n",
      "Product customer review\n"
     ]
    }
   ],
   "source": [
    "# multilevel (child can access all upper levels method and attribute)\n",
    "\n",
    "class Product:\n",
    "    def review(self):\n",
    "        print (\"Product customer review\")\n",
    "\n",
    "class Phone(Product):\n",
    "    def __init__(self, price, brand, camera):\n",
    "        print (\"Inside phone constructor\")\n",
    "        self.__price = price\n",
    "        self.brand = brand\n",
    "        self.camera = camera\n",
    "\n",
    "    def buy(self):\n",
    "        print (\"Buying a phone\")\n",
    "\n",
    "class SmartPhone(Phone):\n",
    "    pass\n",
    "\n",
    "s = SmartPhone(20000, \"Apple\", 12)\n",
    "\n",
    "s.buy()\n",
    "s.review()"
   ]
  },
  {
   "cell_type": "code",
   "execution_count": 19,
   "metadata": {},
   "outputs": [
    {
     "name": "stdout",
     "output_type": "stream",
     "text": [
      "Inside phone constructor\n",
      "Buying a phone\n",
      "Inside phone constructor\n",
      "Buying a phone\n"
     ]
    }
   ],
   "source": [
    "# Hierarchical (one parent multiple children)\n",
    "\n",
    "class Phone:\n",
    "    def __init__(self, price, brand, camera):\n",
    "        print (\"Inside phone constructor\")\n",
    "        self.__price = price\n",
    "        self.brand = brand\n",
    "        self.camera = camera\n",
    "\n",
    "    def buy(self):\n",
    "        print (\"Buying a phone\")\n",
    "\n",
    "class SmartPhone(Phone):\n",
    "    pass\n",
    "\n",
    "class FeaturePhone(Phone):\n",
    "    pass\n",
    "\n",
    "s1 = SmartPhone(1000,\"Apple\",\"13px\")\n",
    "s1.buy()\n",
    "f1 = FeaturePhone(10,\"Lava\",\"1px\")\n",
    "f1.buy()"
   ]
  },
  {
   "cell_type": "code",
   "execution_count": 20,
   "metadata": {},
   "outputs": [
    {
     "name": "stdout",
     "output_type": "stream",
     "text": [
      "Inside phone constructor\n",
      "Buying a phone\n",
      "Customer review\n"
     ]
    }
   ],
   "source": [
    "# Multiple (java not allow cause ambiguity) python allow -> one child has multiple parent\n",
    "\n",
    "class Phone:\n",
    "    def __init__(self, price, brand, camera):\n",
    "        print (\"Inside phone constructor\")\n",
    "        self.__price = price\n",
    "        self.brand = brand\n",
    "        self.camera = camera\n",
    "\n",
    "    def buy(self):\n",
    "        print (\"Buying a phone\")\n",
    "\n",
    "class Product:\n",
    "    def review(self):\n",
    "        print (\"Customer review\")\n",
    "\n",
    "class SmartPhone(Phone, Product):\n",
    "    pass\n",
    "\n",
    "s = SmartPhone(20000, \"Apple\", 12)\n",
    "s.buy()\n",
    "s.review()"
   ]
  },
  {
   "cell_type": "code",
   "execution_count": 21,
   "metadata": {},
   "outputs": [
    {
     "name": "stdout",
     "output_type": "stream",
     "text": [
      "Inside phone constructor\n",
      "Buying a phone\n"
     ]
    }
   ],
   "source": [
    "# the diamond problem\n",
    "# https://stackoverflow.com/questions/56361048/what-is-the-diamond-problem-in-python-and-why-its-not-appear-in-python2\n",
    "\n",
    "class Phone:\n",
    "    def __init__(self, price, brand, camera):\n",
    "        print (\"Inside phone constructor\")\n",
    "        self.__price = price\n",
    "        self.brand = brand\n",
    "        self.camera = camera\n",
    "\n",
    "    def buy(self):\n",
    "        print (\"Buying a phone\")\n",
    "\n",
    "class Product:\n",
    "    def buy(self):\n",
    "        print (\"Product buy method\")\n",
    "\n",
    "# method resolution order\n",
    "class SmartPhone(Phone, Product): # which lie first it print first (here output: Buying a phone)\n",
    "# class SmartPhone(Product, Phone): # here output: Product buy method\n",
    "    pass\n",
    "\n",
    "s = SmartPhone(20000, \"Apple\", 12)\n",
    "s.buy()"
   ]
  },
  {
   "cell_type": "code",
   "execution_count": 22,
   "metadata": {},
   "outputs": [
    {
     "name": "stdout",
     "output_type": "stream",
     "text": [
      "70\n"
     ]
    }
   ],
   "source": [
    "# Practice - 01\n",
    "\n",
    "class A:\n",
    "    def m1(self):\n",
    "        return 20\n",
    "\n",
    "class B(A):\n",
    "    def m1(self):\n",
    "        return 30\n",
    "\n",
    "    def m2(self):\n",
    "        return 40\n",
    "\n",
    "class C(B):\n",
    "    def m2(self):\n",
    "        return 20\n",
    "    \n",
    "obj1 = A()\n",
    "obj2 = B()\n",
    "obj3 = C()\n",
    "print(obj1.m1() + obj3.m1()+ obj3.m2())"
   ]
  },
  {
   "cell_type": "code",
   "execution_count": 23,
   "metadata": {},
   "outputs": [],
   "source": [
    "# Practice - 02\n",
    "\n",
    "class A:\n",
    "    def m1(self):\n",
    "        return 20\n",
    "\n",
    "class B(A):\n",
    "    def m1(self):\n",
    "        val=super().m1()+30\n",
    "        return val\n",
    "\n",
    "class C(B):\n",
    "    def m1(self):\n",
    "        val = self.m1() + 20 # because of method overriding m1() call again and again hence recursion error\n",
    "        return val\n",
    "    \n",
    "obj = C()\n",
    "# print(obj.m1())"
   ]
  },
  {
   "cell_type": "code",
   "execution_count": 24,
   "metadata": {},
   "outputs": [],
   "source": [
    "# ---------------- Polymorphism (same thing behave different in different scenario)\n",
    "# Method Overriding (in inheritance parent and child has same method when object call child method will execute)\n",
    "# Method Overloading\n",
    "# Operator Overloading"
   ]
  },
  {
   "cell_type": "code",
   "execution_count": 25,
   "metadata": {},
   "outputs": [
    {
     "name": "stdout",
     "output_type": "stream",
     "text": [
      "12.56\n",
      "12\n"
     ]
    }
   ],
   "source": [
    "# Method overloading (make code clean) -> same name with multiple parameter -> not work in python\n",
    "\n",
    "class Shape:\n",
    "  def area(self, radius):\n",
    "    return 3.14 * radius * radius\n",
    "  \n",
    "  def area(self, l, b):\n",
    "    return l * b\n",
    "\n",
    "s = Shape()\n",
    "\n",
    "# s.area(1)\n",
    "# s.area(1, 3)\n",
    "\n",
    "class Shape:\n",
    "  def area(self,a,b=0):\n",
    "    if b == 0:\n",
    "      return 3.14*a*a\n",
    "    else:\n",
    "      return a*b\n",
    "\n",
    "s = Shape()\n",
    "print(s.area(2))\n",
    "print(s.area(3,4))"
   ]
  },
  {
   "cell_type": "code",
   "execution_count": 26,
   "metadata": {},
   "outputs": [
    {
     "data": {
      "text/plain": [
       "[1, 2, 3, 4, 5]"
      ]
     },
     "execution_count": 26,
     "metadata": {},
     "output_type": "execute_result"
    }
   ],
   "source": [
    "# Operator overloading (same operator but work different)\n",
    "\n",
    "'hello' + 'world'\n",
    "2 + 3\n",
    "[1, 2, 3] + [4, 5]"
   ]
  },
  {
   "cell_type": "code",
   "execution_count": 27,
   "metadata": {},
   "outputs": [],
   "source": [
    "# ----------------- Abstraction (hidden)\n",
    "# Abstract class -> there is minimum one abstract method\n",
    "# abstractmethod is deprecated use classmethod\n",
    "\n",
    "from abc import ABC, abstractclassmethod \n",
    "\n",
    "class BankApp(ABC):\n",
    "    def database(self):\n",
    "        print(\"connected to database\")\n",
    "    \n",
    "    @abstractclassmethod\n",
    "    def security(self):\n",
    "        pass"
   ]
  },
  {
   "cell_type": "code",
   "execution_count": 28,
   "metadata": {},
   "outputs": [],
   "source": [
    "class MobileApp(BankApp):\n",
    "    def mobile_login(self):\n",
    "        print(\"login into mobile\")\n",
    "\n",
    "    def security(self):\n",
    "        print(\"mobile security\")"
   ]
  },
  {
   "cell_type": "code",
   "execution_count": 29,
   "metadata": {},
   "outputs": [
    {
     "name": "stdout",
     "output_type": "stream",
     "text": [
      "connected to database\n",
      "mobile security\n"
     ]
    }
   ],
   "source": [
    "mob = MobileApp()\n",
    "mob.database()\n",
    "mob.security() # method overriding\n",
    "# bnk = BankApp() # error cause cannot make object of abstract class"
   ]
  }
 ],
 "metadata": {
  "kernelspec": {
   "display_name": "Python 3",
   "language": "python",
   "name": "python3"
  },
  "language_info": {
   "codemirror_mode": {
    "name": "ipython",
    "version": 3
   },
   "file_extension": ".py",
   "mimetype": "text/x-python",
   "name": "python",
   "nbconvert_exporter": "python",
   "pygments_lexer": "ipython3",
   "version": "3.13.0"
  }
 },
 "nbformat": 4,
 "nbformat_minor": 2
}
