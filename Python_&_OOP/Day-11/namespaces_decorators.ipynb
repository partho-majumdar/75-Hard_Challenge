{
 "cells": [
  {
   "cell_type": "code",
   "execution_count": 1,
   "metadata": {},
   "outputs": [
    {
     "data": {
      "text/plain": [
       "' \\nNamespaces -> namespaces are dictionary of keys(identifier) and values(objects)\\n\\n4 type of namespaces\\n    - builtin\\n    - global\\n    - enclosing\\n    - local\\n\\nScope -> were Namespaces accessible\\n\\nLEGB Rule -> Local, Enclosing, Global, Builtin (if name not found LEGB python raise NameError exception)\\n\\n'"
      ]
     },
     "execution_count": 1,
     "metadata": {},
     "output_type": "execute_result"
    }
   ],
   "source": [
    "''' \n",
    "Namespaces -> namespaces are dictionary of keys(identifier) and values(objects)\n",
    "\n",
    "4 type of namespaces\n",
    "    - builtin\n",
    "    - global\n",
    "    - enclosing\n",
    "    - local\n",
    "\n",
    "Scope -> were Namespaces accessible\n",
    "\n",
    "LEGB Rule -> Local, Enclosing, Global, Builtin (if name not found LEGB python raise NameError exception)\n",
    "\n",
    "''' "
   ]
  },
  {
   "cell_type": "code",
   "execution_count": 2,
   "metadata": {},
   "outputs": [
    {
     "name": "stdout",
     "output_type": "stream",
     "text": [
      "3\n",
      "2\n"
     ]
    }
   ],
   "source": [
    "# Local & Global\n",
    "\n",
    "a = 2 # global\n",
    "\n",
    "def temp():\n",
    "    b = 3 # local\n",
    "    print(b)\n",
    "\n",
    "temp()\n",
    "print(a)"
   ]
  },
  {
   "cell_type": "code",
   "execution_count": 3,
   "metadata": {},
   "outputs": [
    {
     "name": "stdout",
     "output_type": "stream",
     "text": [
      "3\n",
      "2\n"
     ]
    }
   ],
   "source": [
    "# Local & Global Same Name but  in different scope\n",
    "\n",
    "a = 2 # global\n",
    "\n",
    "def temp():\n",
    "    a = 3 # local\n",
    "    print(a)\n",
    "\n",
    "temp()\n",
    "print(a)"
   ]
  },
  {
   "cell_type": "code",
   "execution_count": 4,
   "metadata": {},
   "outputs": [
    {
     "name": "stdout",
     "output_type": "stream",
     "text": [
      "2\n",
      "2\n"
     ]
    }
   ],
   "source": [
    "# local doesn't have but global has \n",
    "\n",
    "a = 2 # global\n",
    "\n",
    "def temp():\n",
    "    print(a)\n",
    "\n",
    "temp()\n",
    "print(a)"
   ]
  },
  {
   "cell_type": "code",
   "execution_count": 5,
   "metadata": {},
   "outputs": [
    {
     "name": "stdout",
     "output_type": "stream",
     "text": [
      "2\n",
      "2\n"
     ]
    }
   ],
   "source": [
    "# cannot editing global from local\n",
    "\n",
    "a = 2 # global\n",
    "\n",
    "def temp():\n",
    "    # a += 1 # error\n",
    "    print(a)\n",
    "\n",
    "temp()\n",
    "print(a)"
   ]
  },
  {
   "cell_type": "code",
   "execution_count": 6,
   "metadata": {},
   "outputs": [
    {
     "name": "stdout",
     "output_type": "stream",
     "text": [
      "3\n",
      "3\n"
     ]
    }
   ],
   "source": [
    "# global created local\n",
    "\n",
    "a = 2 # global\n",
    "\n",
    "def temp():\n",
    "    global a\n",
    "    a += 1\n",
    "    print(a)\n",
    "\n",
    "temp()\n",
    "print(a)"
   ]
  },
  {
   "cell_type": "code",
   "execution_count": 7,
   "metadata": {},
   "outputs": [
    {
     "name": "stdout",
     "output_type": "stream",
     "text": [
      "1\n",
      "1\n"
     ]
    }
   ],
   "source": [
    "def temp():\n",
    "    global c\n",
    "    # c += 1 # error cause local can not edit global variable\n",
    "    c = 1\n",
    "    print(c)\n",
    "\n",
    "temp()\n",
    "print(c)"
   ]
  },
  {
   "cell_type": "code",
   "execution_count": 8,
   "metadata": {},
   "outputs": [
    {
     "name": "stdout",
     "output_type": "stream",
     "text": [
      "2\n",
      "5\n"
     ]
    }
   ],
   "source": [
    "# function parameter is local\n",
    "\n",
    "def temp(z):\n",
    "    print(z)\n",
    "\n",
    "a = 5\n",
    "temp(2)\n",
    "print(a)"
   ]
  },
  {
   "cell_type": "code",
   "execution_count": 9,
   "metadata": {},
   "outputs": [
    {
     "data": {
      "text/plain": [
       "['ArithmeticError',\n",
       " 'AssertionError',\n",
       " 'AttributeError',\n",
       " 'BaseException',\n",
       " 'BaseExceptionGroup',\n",
       " 'BlockingIOError',\n",
       " 'BrokenPipeError',\n",
       " 'BufferError',\n",
       " 'BytesWarning',\n",
       " 'ChildProcessError',\n",
       " 'ConnectionAbortedError',\n",
       " 'ConnectionError',\n",
       " 'ConnectionRefusedError',\n",
       " 'ConnectionResetError',\n",
       " 'DeprecationWarning',\n",
       " 'EOFError',\n",
       " 'Ellipsis',\n",
       " 'EncodingWarning',\n",
       " 'EnvironmentError',\n",
       " 'Exception',\n",
       " 'ExceptionGroup',\n",
       " 'False',\n",
       " 'FileExistsError',\n",
       " 'FileNotFoundError',\n",
       " 'FloatingPointError',\n",
       " 'FutureWarning',\n",
       " 'GeneratorExit',\n",
       " 'IOError',\n",
       " 'ImportError',\n",
       " 'ImportWarning',\n",
       " 'IndentationError',\n",
       " 'IndexError',\n",
       " 'InterruptedError',\n",
       " 'IsADirectoryError',\n",
       " 'KeyError',\n",
       " 'KeyboardInterrupt',\n",
       " 'LookupError',\n",
       " 'MemoryError',\n",
       " 'ModuleNotFoundError',\n",
       " 'NameError',\n",
       " 'None',\n",
       " 'NotADirectoryError',\n",
       " 'NotImplemented',\n",
       " 'NotImplementedError',\n",
       " 'OSError',\n",
       " 'OverflowError',\n",
       " 'PendingDeprecationWarning',\n",
       " 'PermissionError',\n",
       " 'ProcessLookupError',\n",
       " 'PythonFinalizationError',\n",
       " 'RecursionError',\n",
       " 'ReferenceError',\n",
       " 'ResourceWarning',\n",
       " 'RuntimeError',\n",
       " 'RuntimeWarning',\n",
       " 'StopAsyncIteration',\n",
       " 'StopIteration',\n",
       " 'SyntaxError',\n",
       " 'SyntaxWarning',\n",
       " 'SystemError',\n",
       " 'SystemExit',\n",
       " 'TabError',\n",
       " 'TimeoutError',\n",
       " 'True',\n",
       " 'TypeError',\n",
       " 'UnboundLocalError',\n",
       " 'UnicodeDecodeError',\n",
       " 'UnicodeEncodeError',\n",
       " 'UnicodeError',\n",
       " 'UnicodeTranslateError',\n",
       " 'UnicodeWarning',\n",
       " 'UserWarning',\n",
       " 'ValueError',\n",
       " 'Warning',\n",
       " 'WindowsError',\n",
       " 'ZeroDivisionError',\n",
       " '_IncompleteInputError',\n",
       " '__IPYTHON__',\n",
       " '__build_class__',\n",
       " '__debug__',\n",
       " '__doc__',\n",
       " '__import__',\n",
       " '__loader__',\n",
       " '__name__',\n",
       " '__package__',\n",
       " '__spec__',\n",
       " 'abs',\n",
       " 'aiter',\n",
       " 'all',\n",
       " 'anext',\n",
       " 'any',\n",
       " 'ascii',\n",
       " 'bin',\n",
       " 'bool',\n",
       " 'breakpoint',\n",
       " 'bytearray',\n",
       " 'bytes',\n",
       " 'callable',\n",
       " 'chr',\n",
       " 'classmethod',\n",
       " 'compile',\n",
       " 'complex',\n",
       " 'copyright',\n",
       " 'credits',\n",
       " 'delattr',\n",
       " 'dict',\n",
       " 'dir',\n",
       " 'display',\n",
       " 'divmod',\n",
       " 'enumerate',\n",
       " 'eval',\n",
       " 'exec',\n",
       " 'execfile',\n",
       " 'filter',\n",
       " 'float',\n",
       " 'format',\n",
       " 'frozenset',\n",
       " 'get_ipython',\n",
       " 'getattr',\n",
       " 'globals',\n",
       " 'hasattr',\n",
       " 'hash',\n",
       " 'help',\n",
       " 'hex',\n",
       " 'id',\n",
       " 'input',\n",
       " 'int',\n",
       " 'isinstance',\n",
       " 'issubclass',\n",
       " 'iter',\n",
       " 'len',\n",
       " 'license',\n",
       " 'list',\n",
       " 'locals',\n",
       " 'map',\n",
       " 'max',\n",
       " 'memoryview',\n",
       " 'min',\n",
       " 'next',\n",
       " 'object',\n",
       " 'oct',\n",
       " 'open',\n",
       " 'ord',\n",
       " 'pow',\n",
       " 'print',\n",
       " 'property',\n",
       " 'range',\n",
       " 'repr',\n",
       " 'reversed',\n",
       " 'round',\n",
       " 'runfile',\n",
       " 'set',\n",
       " 'setattr',\n",
       " 'slice',\n",
       " 'sorted',\n",
       " 'staticmethod',\n",
       " 'str',\n",
       " 'sum',\n",
       " 'super',\n",
       " 'tuple',\n",
       " 'type',\n",
       " 'vars',\n",
       " 'zip']"
      ]
     },
     "execution_count": 9,
     "metadata": {},
     "output_type": "execute_result"
    }
   ],
   "source": [
    "# built in scope\n",
    "\n",
    "import builtins\n",
    "dir(builtins)"
   ]
  },
  {
   "cell_type": "code",
   "execution_count": 10,
   "metadata": {},
   "outputs": [
    {
     "name": "stdout",
     "output_type": "stream",
     "text": [
      "Inner function\n",
      "Outer function\n",
      "Main function\n"
     ]
    }
   ],
   "source": [
    "# enclosing scope -> inside nested function\n",
    "\n",
    "def outer():\n",
    "    def inner():\n",
    "        print(\"Inner function\")\n",
    "    \n",
    "    inner()\n",
    "    print(\"Outer function\")\n",
    "\n",
    "outer()\n",
    "print(\"Main function\")\n",
    "\n",
    "# main -> global, inner -> local, outer -> enclosing/non-local"
   ]
  },
  {
   "cell_type": "code",
   "execution_count": 11,
   "metadata": {},
   "outputs": [
    {
     "name": "stdout",
     "output_type": "stream",
     "text": [
      "4\n",
      "Outer function\n",
      "Main function\n"
     ]
    }
   ],
   "source": [
    "def outer():\n",
    "    a = 3\n",
    "    def inner():\n",
    "        a = 4\n",
    "        print(a)\n",
    "    \n",
    "    inner()\n",
    "    print(\"Outer function\")\n",
    "    # print(\"Outer function\", a)\n",
    "\n",
    "a = 1\n",
    "outer()\n",
    "print(\"Main function\")"
   ]
  },
  {
   "cell_type": "code",
   "execution_count": 12,
   "metadata": {},
   "outputs": [
    {
     "name": "stdout",
     "output_type": "stream",
     "text": [
      "inner 2\n",
      "Outer 2\n",
      "Main function\n"
     ]
    }
   ],
   "source": [
    "# non-local keyword\n",
    "\n",
    "def outer():\n",
    "    a = 1\n",
    "    def inner():\n",
    "        nonlocal a\n",
    "        a += 1 # no error \n",
    "        # a += 1 # can not edit local (edit if use nonlocal)\n",
    "        print(\"inner\", a)\n",
    "    \n",
    "    inner()\n",
    "    print(\"Outer\", a)\n",
    "\n",
    "a = 1\n",
    "outer()\n",
    "print(\"Main function\")"
   ]
  },
  {
   "cell_type": "code",
   "execution_count": 13,
   "metadata": {},
   "outputs": [
    {
     "data": {
      "text/plain": [
       "'\\ndef func():\\n    print(\"hello\")\\n\\na = func\\na()\\n\\ndel func\\nfunc()\\n'"
      ]
     },
     "execution_count": 13,
     "metadata": {},
     "output_type": "execute_result"
    }
   ],
   "source": [
    "# -------------------- Decorator (a function that receive another function as input and add some functionality to it and return it)\n",
    "\n",
    "''' \n",
    "Python function is first class citizen \n",
    "2 type o Decorator\n",
    "    - Built in (@staticmethod, @classmethod, @abstractmethod, @property)\n",
    "    - User defined \n",
    "\n",
    "\n",
    "--> In python function is first class citizen\n",
    "        -> function store in variable\n",
    "        -> Pass function as argument\n",
    "        -> return function from another function\n",
    "\n",
    "'''\n",
    "\n",
    "'''\n",
    "def func():\n",
    "    print(\"hello\")\n",
    "\n",
    "a = func\n",
    "a()\n",
    "\n",
    "del func\n",
    "func()\n",
    "'''"
   ]
  },
  {
   "cell_type": "code",
   "execution_count": 14,
   "metadata": {},
   "outputs": [
    {
     "data": {
      "text/plain": [
       "4"
      ]
     },
     "execution_count": 14,
     "metadata": {},
     "output_type": "execute_result"
    }
   ],
   "source": [
    "def modify(func, num):\n",
    "    return func(num)\n",
    "\n",
    "def square(num):\n",
    "    return num ** 2\n",
    "\n",
    "modify(square, 2)"
   ]
  },
  {
   "cell_type": "code",
   "execution_count": 15,
   "metadata": {},
   "outputs": [
    {
     "name": "stdout",
     "output_type": "stream",
     "text": [
      "***********************************************\n",
      "this is inside hello function\n",
      "***********************************************\n",
      "***********************************************\n",
      "this is inside display function\n",
      "***********************************************\n"
     ]
    }
   ],
   "source": [
    "def my_decorator(func):\n",
    "    def wrapper():\n",
    "        print('***********************************************')\n",
    "        func()\n",
    "        print('***********************************************')\n",
    "    return wrapper\n",
    "\n",
    "def hello():\n",
    "    print(\"this is inside hello function\")\n",
    "\n",
    "def display():\n",
    "    print(\"this is inside display function\")\n",
    "\n",
    "a = my_decorator(hello)\n",
    "a()\n",
    "\n",
    "b = my_decorator(display)\n",
    "b()"
   ]
  },
  {
   "cell_type": "code",
   "execution_count": 16,
   "metadata": {},
   "outputs": [
    {
     "name": "stdout",
     "output_type": "stream",
     "text": [
      "***********************************************\n",
      "this is inside hello function\n",
      "***********************************************\n"
     ]
    },
    {
     "data": {
      "text/plain": [
       "' \\nWhen \"my_decorator\" function return \"wrapper\" function, my_decorator should be dead but not and func() --> hello() \\n'"
      ]
     },
     "execution_count": 16,
     "metadata": {},
     "output_type": "execute_result"
    }
   ],
   "source": [
    "# closure -> child function can access parent function variable after parent function has finished executing \n",
    "\n",
    "def my_decorator(func):\n",
    "    def wrapper():\n",
    "        print('***********************************************')\n",
    "        func()\n",
    "        print('***********************************************')\n",
    "    return wrapper\n",
    "\n",
    "def hello():\n",
    "    print(\"this is inside hello function\")\n",
    "\n",
    "a = my_decorator(hello)\n",
    "a()\n",
    "\n",
    "''' \n",
    "When \"my_decorator\" function return \"wrapper\" function, my_decorator should be dead but not and func() --> hello() \n",
    "'''"
   ]
  },
  {
   "cell_type": "code",
   "execution_count": 17,
   "metadata": {},
   "outputs": [
    {
     "name": "stdout",
     "output_type": "stream",
     "text": [
      "***********************************************\n",
      "this is inside hello function\n",
      "***********************************************\n"
     ]
    }
   ],
   "source": [
    "# better syntax\n",
    "\n",
    "def my_decorator(func):\n",
    "    def wrapper():\n",
    "        print('***********************************************')\n",
    "        func()\n",
    "        print('***********************************************')\n",
    "    return wrapper\n",
    "\n",
    "@my_decorator\n",
    "def hello():\n",
    "    print(\"this is inside hello function\")\n",
    "\n",
    "hello()"
   ]
  },
  {
   "cell_type": "code",
   "execution_count": 18,
   "metadata": {},
   "outputs": [
    {
     "name": "stdout",
     "output_type": "stream",
     "text": [
      "This is hello world\n"
     ]
    },
    {
     "name": "stdout",
     "output_type": "stream",
     "text": [
      "time taken by function hello 2.0007400512695312 sec\n",
      "this is inside display function\n",
      "time taken by function display 4.000746250152588 sec\n"
     ]
    }
   ],
   "source": [
    "# Decorator example (print execution time of any function)\n",
    "\n",
    "import time \n",
    "def timer(func):\n",
    "    def wrapper():\n",
    "        start = time.time()\n",
    "        func()\n",
    "        print(\"time taken by function\", func.__name__, time.time() - start, 'sec')\n",
    "    return wrapper\n",
    "\n",
    "@timer\n",
    "def hello():\n",
    "    print(\"This is hello world\")\n",
    "    time.sleep(2)\n",
    "\n",
    "@timer\n",
    "def display():\n",
    "    print(\"this is inside display function\")\n",
    "    time.sleep(4)\n",
    "\n",
    "hello()\n",
    "display()"
   ]
  },
  {
   "cell_type": "code",
   "execution_count": 19,
   "metadata": {},
   "outputs": [
    {
     "name": "stdout",
     "output_type": "stream",
     "text": [
      "This is hello world\n",
      "time taken by function hello 2.0006020069122314 sec\n"
     ]
    }
   ],
   "source": [
    "# Decorator example (print execution time of any function)\n",
    "\n",
    "import time \n",
    "def timer(func):\n",
    "    def wrapper():\n",
    "        start = time.time()\n",
    "        func()\n",
    "        print(\"time taken by function\", func.__name__, time.time() - start, 'sec')\n",
    "    return wrapper\n",
    "\n",
    "@timer\n",
    "def hello():\n",
    "    print(\"This is hello world\")\n",
    "    time.sleep(2)\n",
    "\n",
    "@timer\n",
    "def square(num):\n",
    "    time.sleep(1)\n",
    "    return num ** 2\n",
    "\n",
    "hello()\n",
    "# square(2) # code fataa cause --> decorator return wrapper and we call wrapper, and use func() to execute square but func() has no parameter so this decorator only work for one kind of function (who has no input)"
   ]
  },
  {
   "cell_type": "code",
   "execution_count": 20,
   "metadata": {},
   "outputs": [
    {
     "name": "stdout",
     "output_type": "stream",
     "text": [
      "This is hello world\n",
      "Time taken by function hello 2.0004937648773193 sec\n",
      "4\n",
      "Time taken by function square 1.0008962154388428 sec\n",
      "81\n",
      "Time taken by function power 1.0010271072387695 sec\n"
     ]
    }
   ],
   "source": [
    "# Decorator example (print execution time of any function)\n",
    "\n",
    "import time \n",
    "def timer(func):\n",
    "    def wrapper(*args):\n",
    "        start = time.time()\n",
    "        func(*args)\n",
    "        print(\"Time taken by function\", func.__name__, time.time() - start, 'sec')\n",
    "    return wrapper\n",
    "\n",
    "@timer\n",
    "def hello():\n",
    "    print(\"This is hello world\")\n",
    "    time.sleep(2)\n",
    "\n",
    "@timer\n",
    "def square(num):\n",
    "    time.sleep(1)\n",
    "    print(num ** 2)\n",
    "\n",
    "@timer\n",
    "def power(a, b):\n",
    "    time.sleep(1)\n",
    "    print(a ** b)\n",
    "\n",
    "hello()\n",
    "square(2)\n",
    "power(3, 4)"
   ]
  },
  {
   "cell_type": "code",
   "execution_count": 21,
   "metadata": {},
   "outputs": [
    {
     "name": "stdout",
     "output_type": "stream",
     "text": [
      "2025\n",
      "hello partho\n"
     ]
    },
    {
     "data": {
      "text/plain": [
       "' \\nFlow --> \"function\" goes to \"Decorator\", \\n     -> \"Decorator\" return \"Wrapper\", \\n     -> I am calling \"Wrapper\", \\n     -> \"Wrapper\" execute, \\n     -> and I got output\\n'"
      ]
     },
     "execution_count": 21,
     "metadata": {},
     "output_type": "execute_result"
    }
   ],
   "source": [
    "# Decorator example (automatic check data type valid or not) / give input in decorator \n",
    "\n",
    "def sanity_check(data_type):\n",
    "    def outer_wrapper(func):\n",
    "        def inner_wrapper(*args):\n",
    "            # if type(args[0]) == data_type: # args is tuple so take 0 index = int\n",
    "            if type(*args) == data_type:\n",
    "                func(*args)\n",
    "            \n",
    "            else:\n",
    "                raise TypeError('invalid  data type')\n",
    "\n",
    "        return inner_wrapper\n",
    "    return outer_wrapper\n",
    "\n",
    "@sanity_check(int)\n",
    "def square(num):\n",
    "    print(num ** 2)\n",
    "\n",
    "@sanity_check(str)\n",
    "def greet(name):\n",
    "    print(\"hello\", name)\n",
    "\n",
    "square(45)\n",
    "greet('partho')\n",
    "\n",
    "''' \n",
    "Flow --> \"function\" goes to \"Decorator\", \n",
    "     -> \"Decorator\" return \"Wrapper\", \n",
    "     -> I am calling \"Wrapper\", \n",
    "     -> \"Wrapper\" execute, \n",
    "     -> and I got output\n",
    "'''"
   ]
  },
  {
   "cell_type": "code",
   "execution_count": null,
   "metadata": {},
   "outputs": [],
   "source": []
  }
 ],
 "metadata": {
  "kernelspec": {
   "display_name": "Python 3",
   "language": "python",
   "name": "python3"
  },
  "language_info": {
   "codemirror_mode": {
    "name": "ipython",
    "version": 3
   },
   "file_extension": ".py",
   "mimetype": "text/x-python",
   "name": "python",
   "nbconvert_exporter": "python",
   "pygments_lexer": "ipython3",
   "version": "3.13.0"
  }
 },
 "nbformat": 4,
 "nbformat_minor": 2
}
