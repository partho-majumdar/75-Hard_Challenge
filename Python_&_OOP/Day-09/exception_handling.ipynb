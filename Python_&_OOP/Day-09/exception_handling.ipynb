{
 "cells": [
  {
   "cell_type": "code",
   "execution_count": 12,
   "metadata": {},
   "outputs": [
    {
     "name": "stdout",
     "output_type": "stream",
     "text": [
      "this is sample.txt\n"
     ]
    }
   ],
   "source": [
    "'''  \n",
    "--> Whenever feel code \"fatega\" use try except method\n",
    "\n",
    "2 stage error\n",
    "1. During Compilation -> Syntax error \n",
    "        - not written according to program rule\n",
    "        - error raised by compiler\n",
    "        - solve by debugging\n",
    "\n",
    "print 'Hello world'\n",
    "if a == 3\n",
    "    print(4)\n",
    "\n",
    "IndexError -> access invalid index\n",
    "ModuleNotFound -> when module not found\n",
    "KeyError -> in dictionary when key is not found\n",
    "TypeError -> applied to an object of an inappropriate type (5 + 'p')\n",
    "ValueError -> int('a')\n",
    "NameError -> print(k) -> object could not be found\n",
    "AttributeError -> [1, 2, 3].upper()\n",
    "\n",
    "\n",
    "2. During Execution -> Exceptions (things go wrong during execution/runtime of the program)\n",
    "        - raised by python runtime\n",
    "        - tackle on the fly\n",
    "        - memory overflow \n",
    "        - divided by 0\n",
    "        - database error\n",
    "\n",
    "how need to handle exception?? --> Try except block\n",
    "'''\n",
    "\n",
    "with open('sample.txt', 'w') as f:\n",
    "    f.write('this is sample.txt')\n",
    "\n",
    "with open('sample.txt', 'r') as f:\n",
    "    print(f.read())"
   ]
  },
  {
   "cell_type": "code",
   "execution_count": 13,
   "metadata": {},
   "outputs": [
    {
     "name": "stdout",
     "output_type": "stream",
     "text": [
      "file not found\n"
     ]
    }
   ],
   "source": [
    "# try expect demo\n",
    "\n",
    "try:\n",
    "    with open('sample1.txt', 'r') as f:\n",
    "        print(f.read())\n",
    "except:\n",
    "    print('file not found')"
   ]
  },
  {
   "cell_type": "code",
   "execution_count": 14,
   "metadata": {},
   "outputs": [
    {
     "name": "stdout",
     "output_type": "stream",
     "text": [
      "this is sample.txt\n",
      "name 'p' is not defined\n",
      "<built-in method with_traceback of NameError object at 0x0000021605D0B4C0>\n"
     ]
    }
   ],
   "source": [
    "# catching specific exception\n",
    "\n",
    "try:\n",
    "    with open('sample.txt', 'r') as f:\n",
    "        print(f.read())\n",
    "        print(p) # this should give me error but not \n",
    "\n",
    "except Exception as e:\n",
    "    # print(\"some error occurred\")\n",
    "    print(e) # give me cause of error \n",
    "    print(e.with_traceback) # give me error name "
   ]
  },
  {
   "cell_type": "code",
   "execution_count": 15,
   "metadata": {},
   "outputs": [
    {
     "name": "stdout",
     "output_type": "stream",
     "text": [
      "file not found\n"
     ]
    }
   ],
   "source": [
    "# catching specific exception\n",
    "\n",
    "try:\n",
    "    with open('sample1.txt', 'r') as f:\n",
    "        print(f.read())\n",
    "        # print(p)\n",
    "\n",
    "except FileNotFoundError:\n",
    "    print(\"file not found\")\n",
    "\n",
    "except NameError:\n",
    "    print('variable not defined')\n",
    "\n",
    "except Exception as e:\n",
    "    print(e) # give me cause of error \n",
    "    print(e.with_traceback) # give me error name "
   ]
  },
  {
   "cell_type": "code",
   "execution_count": 16,
   "metadata": {},
   "outputs": [
    {
     "name": "stdout",
     "output_type": "stream",
     "text": [
      "File not found\n"
     ]
    }
   ],
   "source": [
    "# else -> print anything after successfully try run -> here write those code who \"fatega\" nehi\n",
    "''' \n",
    "--> When try successfully triggered then else triggered\n",
    "--> if except run then else not run\n",
    "'''\n",
    "\n",
    "try:\n",
    "    f = open('sample1.txt', 'r')\n",
    "\n",
    "except FileNotFoundError:\n",
    "    print(\"File not found\")\n",
    "\n",
    "except Exception:\n",
    "    print('some error')\n",
    "\n",
    "else:\n",
    "    print(f.read())"
   ]
  },
  {
   "cell_type": "code",
   "execution_count": 17,
   "metadata": {},
   "outputs": [
    {
     "name": "stdout",
     "output_type": "stream",
     "text": [
      "this is sample.txt\n",
      "This line must print\n"
     ]
    }
   ],
   "source": [
    "# finally --> at any cost finally will run \n",
    "\n",
    "try:\n",
    "    f = open('sample.txt', 'r')\n",
    "\n",
    "except FileNotFoundError:\n",
    "    print(\"File not found\")\n",
    "\n",
    "except Exception:\n",
    "    print('some error')\n",
    "\n",
    "else:\n",
    "    print(f.read())\n",
    "\n",
    "finally:\n",
    "    print(\"This line must print\")"
   ]
  },
  {
   "cell_type": "code",
   "execution_count": 18,
   "metadata": {},
   "outputs": [
    {
     "name": "stdout",
     "output_type": "stream",
     "text": [
      "File not found\n",
      "This line must print\n"
     ]
    }
   ],
   "source": [
    "# finally --> at any cost finally will run \n",
    "\n",
    "try:\n",
    "    # f = open('sample.txt', 'r')\n",
    "    f = open('sample1.txt', 'r')\n",
    "\n",
    "except FileNotFoundError:\n",
    "    print(\"File not found\")\n",
    "\n",
    "except Exception:\n",
    "    print('some error')\n",
    "\n",
    "else:\n",
    "    print(f.read())\n",
    "\n",
    "finally:\n",
    "    print(\"This line must print\")"
   ]
  },
  {
   "cell_type": "code",
   "execution_count": 19,
   "metadata": {},
   "outputs": [
    {
     "data": {
      "text/plain": [
       "' \\nmanually raised exception using the raise keyword\\nException is class (all error are class)\\n-> When raise Exception we make and object of \"exception\" class and this object goes to \"except\"\\n\\n'"
      ]
     },
     "execution_count": 19,
     "metadata": {},
     "output_type": "execute_result"
    }
   ],
   "source": [
    "# raise exception --> exception raised when error occurred in runtime \n",
    "''' \n",
    "manually raised exception using the raise keyword\n",
    "Exception is class (all error are class)\n",
    "-> When raise Exception we make and object of \"exception\" class and this object goes to \"except\"\n",
    "\n",
    "'''\n",
    "# raise FileNotFoundError ('this is raise')"
   ]
  },
  {
   "cell_type": "code",
   "execution_count": 20,
   "metadata": {},
   "outputs": [
    {
     "name": "stdout",
     "output_type": "stream",
     "text": [
      "Insufficient balance\n"
     ]
    }
   ],
   "source": [
    "class Bank:\n",
    "    def __init__(self, balance):\n",
    "        self.balance = balance\n",
    "\n",
    "    def withdraw(self, amount):\n",
    "        if amount < 0:\n",
    "            raise Exception(\"amount can not be -ve\")\n",
    "\n",
    "        if amount > self.balance:\n",
    "            raise Exception(\"Insufficient balance\")\n",
    "        \n",
    "        self.balance = self.balance - amount\n",
    "\n",
    "obj = Bank(10000)\n",
    "try:\n",
    "    obj.withdraw(20300)\n",
    "\n",
    "except Exception as e:\n",
    "    print(e)\n",
    "\n",
    "else:\n",
    "    print(obj.balance)"
   ]
  },
  {
   "cell_type": "code",
   "execution_count": 21,
   "metadata": {},
   "outputs": [
    {
     "name": "stdout",
     "output_type": "stream",
     "text": [
      "Insufficient balance\n"
     ]
    }
   ],
   "source": [
    "# Creating custom exception (must inherit from \"Exception\" class)\n",
    "\n",
    "class MyException(Exception):\n",
    "    def __init__(self, message):\n",
    "        # print(message)\n",
    "        super().__init__(message)\n",
    "\n",
    "class Bank:\n",
    "    def __init__(self, balance):\n",
    "        self.balance = balance\n",
    "\n",
    "    def withdraw(self, amount):\n",
    "        if amount < 0:\n",
    "            raise MyException(\"amount can not be -ve\")\n",
    "\n",
    "        if amount > self.balance:\n",
    "            raise MyException(\"Insufficient balance\")\n",
    "        \n",
    "        self.balance = self.balance - amount\n",
    "\n",
    "obj = Bank(10000)\n",
    "try:\n",
    "    obj.withdraw(23000)\n",
    "\n",
    "except Exception as e:\n",
    "    print(e)\n",
    "\n",
    "else:\n",
    "    print(obj.balance)\n"
   ]
  },
  {
   "cell_type": "code",
   "execution_count": 22,
   "metadata": {},
   "outputs": [
    {
     "name": "stdout",
     "output_type": "stream",
     "text": [
      "this is security error\n",
      "logout\n",
      "database connection closed\n"
     ]
    }
   ],
   "source": [
    "# Why need custom exception -> application based error\n",
    "\n",
    "class SecurityError(Exception):\n",
    "    def __init__(self, message):\n",
    "        print(message)\n",
    "\n",
    "    def logout(message):\n",
    "        print(\"logout\")\n",
    "\n",
    "class Google:\n",
    "    def __init__(self, name, email, password, device):\n",
    "        self.name = name \n",
    "        self.email = email\n",
    "        self.password = password\n",
    "        self.device = device\n",
    "\n",
    "    def login(self, email, password, device):\n",
    "        if device != self.device:\n",
    "            raise SecurityError(\"this is security error\")\n",
    "        if email == self.email and password == self.password:\n",
    "            print(\"welcome\")\n",
    "        else:\n",
    "            print(\"login error\")\n",
    "        \n",
    "\n",
    "obj = Google('partho', 'pmajumdar@gmail.com', '123', 'samsung')\n",
    "\n",
    "try:\n",
    "    obj.login('pmajumdar@gmail.com', '123', 'pixel')\n",
    "\n",
    "except SecurityError as e:\n",
    "    e.logout()\n",
    "\n",
    "else:\n",
    "    print(obj.name)\n",
    "\n",
    "finally:\n",
    "    print(\"database connection closed\")"
   ]
  }
 ],
 "metadata": {
  "kernelspec": {
   "display_name": "Python 3",
   "language": "python",
   "name": "python3"
  },
  "language_info": {
   "codemirror_mode": {
    "name": "ipython",
    "version": 3
   },
   "file_extension": ".py",
   "mimetype": "text/x-python",
   "name": "python",
   "nbconvert_exporter": "python",
   "pygments_lexer": "ipython3",
   "version": "3.12.5"
  }
 },
 "nbformat": 4,
 "nbformat_minor": 2
}
