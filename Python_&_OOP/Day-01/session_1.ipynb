{
 "cells": [
  {
   "cell_type": "code",
   "execution_count": 1,
   "metadata": {},
   "outputs": [
    {
     "name": "stdout",
     "output_type": "stream",
     "text": [
      "101 nice True 14.5\n",
      "101/nice/True/14.5\n",
      "this is fist line - this is second line\n",
      "10 20 30\n",
      "5 5 5\n"
     ]
    }
   ],
   "source": [
    "# --------------------- Python output\n",
    "\n",
    "print(101, \"nice\", True, 14.5)  # why space cause inbuilt sep = \" \"\n",
    "print(101, \"nice\", True, 14.5, sep = \"/\")\n",
    "\n",
    "print(\"this is fist line\", end = \" - \")\n",
    "print(\"this is second line\")\n",
    "\n",
    "a, b, c = 10, 20, 30\n",
    "print(a, b, c)\n",
    "\n",
    "a = b = c = 5\n",
    "print(a, b, c)"
   ]
  },
  {
   "cell_type": "code",
   "execution_count": 2,
   "metadata": {},
   "outputs": [
    {
     "name": "stdout",
     "output_type": "stream",
     "text": [
      "200000000.0\n",
      "1\n",
      "1.7e+308\n",
      "True False\n",
      "this is string\n",
      "(5+6j)\n",
      "[2, 3, 4, 5, 6]\n",
      "(7, 5, 4, 2, 1)\n",
      "{1, 3, 5, 6, 8}\n",
      "{'name': 'Partho', 'age': 21, 'gender': 'male'}\n"
     ]
    }
   ],
   "source": [
    "# -------------------- Data Type\n",
    "\n",
    "print(2e8)  # 2*10^8\n",
    "print(1)  # integer\n",
    "print(1.7e308)  # decimal\n",
    "print(True, False)  # boolean\n",
    "print(\"this is string\")  # string\n",
    "print(5 + 6j)  # this is complex number\n",
    "print([2, 3, 4, 5, 6])  # list\n",
    "print((7, 5, 4, 2, 1))  # tuple\n",
    "print({8, 1, 5, 6, 3})  # sets -> print in ascending sorted order\n",
    "print({\"name\": \"Partho\", \"age\": 21, \"gender\": \"male\"})  # dictionary -> key-value pair"
   ]
  },
  {
   "cell_type": "code",
   "execution_count": 3,
   "metadata": {},
   "outputs": [
    {
     "name": "stdout",
     "output_type": "stream",
     "text": [
      "<class 'int'>\n",
      "<class 'float'>\n",
      "<class 'complex'>\n",
      "<class 'list'>\n"
     ]
    }
   ],
   "source": [
    "# ------------------ Type\n",
    "\n",
    "print(type(3))\n",
    "print(type(3.9))\n",
    "print(type(5 + 3j))\n",
    "print(type([1, 2, 3, 4]))"
   ]
  },
  {
   "cell_type": "code",
   "execution_count": 4,
   "metadata": {},
   "outputs": [
    {
     "name": "stdout",
     "output_type": "stream",
     "text": [
      "23\n",
      "5\n",
      "Partho\n"
     ]
    }
   ],
   "source": [
    "# --------------- Variable -> store value for future use\n",
    "\n",
    "name = \"Partho\"\n",
    "age = 21\n",
    "print(age + 2)  # 23\n",
    "\n",
    "# -------------- Dynamic typing -> when declare variable don't tell data type, interpreter decide what will be the data type\n",
    "# -------------- Static typing -> declare variable in c/c++\n",
    "\n",
    "a = 5\n",
    "print(a)  # 5\n",
    "a = \"Partho\"\n",
    "print(a)  # Partho\n",
    "# -> here \"a\" is not fixed data type it is known as: \"Dynamic Binding\" and c/c++ follow \"Static Binding\""
   ]
  },
  {
   "cell_type": "code",
   "execution_count": 5,
   "metadata": {},
   "outputs": [
    {
     "data": {
      "text/plain": [
       "'\\nCompilation: convert your code to binary (0, 1) language \\ninbuilt reserved keyword -> not use this keyword as variable\\n\\nidentifier -> variable name, function name, class name\\n    - can not start with digit (1name: error, name1: work)\\n    - special character underscore (_) can be used\\n    - identifier can not be keyword (for, while, True, False, if, else)\\n'"
      ]
     },
     "execution_count": 5,
     "metadata": {},
     "output_type": "execute_result"
    }
   ],
   "source": [
    "# ------------------ Keyword & Identifier\n",
    "\n",
    "\"\"\"\n",
    "Compilation: convert your code to binary (0, 1) language \n",
    "inbuilt reserved keyword -> not use this keyword as variable\n",
    "\n",
    "identifier -> variable name, function name, class name\n",
    "    - can not start with digit (1name: error, name1: work)\n",
    "    - special character underscore (_) can be used\n",
    "    - identifier can not be keyword (for, while, True, False, if, else)\n",
    "\"\"\""
   ]
  },
  {
   "cell_type": "code",
   "execution_count": 6,
   "metadata": {},
   "outputs": [
    {
     "name": "stdout",
     "output_type": "stream",
     "text": [
      "11.5\n",
      "<class 'int'> <class 'float'>\n",
      "9\n"
     ]
    }
   ],
   "source": [
    "# ------------------ Type Conversion (does not create permanent changes, original as it is, create new value in memory)\n",
    "\n",
    "print(5 + 6.5)\n",
    "print(type(5), type(6.5))  # this is implicit type conversion\n",
    "\n",
    "print((int)(\"4\") + 5)  # this is explicit type conversion\n",
    "# int(4+5j) -> can not convert complex to int"
   ]
  },
  {
   "cell_type": "code",
   "execution_count": 7,
   "metadata": {},
   "outputs": [
    {
     "name": "stdout",
     "output_type": "stream",
     "text": [
      "3.14 0.0\n",
      "None\n"
     ]
    }
   ],
   "source": [
    "# ------------------ Literal (value of variable)\n",
    "\n",
    "a = 0b1010  # binary literal\n",
    "b = 102  # decimal literal\n",
    "c = 0o256  # octal literal\n",
    "d = 0x12C  # hexadecimal literal\n",
    "\n",
    "# float literal\n",
    "float_1 = 10.4\n",
    "float_2 = 1.5e2  # 1.5 * 10^2\n",
    "float_3 = 1.5e-3  # 1.5 * 10^-3\n",
    "\n",
    "# complex literal\n",
    "x = 3.14j\n",
    "print(x.imag, x.real)\n",
    "\n",
    "p = None\n",
    "print(p)"
   ]
  }
 ],
 "metadata": {
  "kernelspec": {
   "display_name": "Python 3",
   "language": "python",
   "name": "python3"
  },
  "language_info": {
   "codemirror_mode": {
    "name": "ipython",
    "version": 3
   },
   "file_extension": ".py",
   "mimetype": "text/x-python",
   "name": "python",
   "nbconvert_exporter": "python",
   "pygments_lexer": "ipython3",
   "version": "3.13.0"
  }
 },
 "nbformat": 4,
 "nbformat_minor": 2
}
