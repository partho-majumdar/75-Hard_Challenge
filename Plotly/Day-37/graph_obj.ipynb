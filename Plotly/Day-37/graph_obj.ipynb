{
 "cells": [
  {
   "cell_type": "code",
   "execution_count": 1,
   "metadata": {},
   "outputs": [],
   "source": [
    "import numpy as np\n",
    "import pandas as pd\n",
    "import plotly.express as px\n",
    "import plotly.graph_objs as go\n",
    "import plotly.offline as pyo"
   ]
  },
  {
   "cell_type": "code",
   "execution_count": 2,
   "metadata": {},
   "outputs": [
    {
     "data": {
      "text/plain": [
       "' \\nInteractive visualization in the form of HTML files\\nDrawback -> cannot work with live data source for that use \"DASH\"\\n'"
      ]
     },
     "execution_count": 2,
     "metadata": {},
     "output_type": "execute_result"
    }
   ],
   "source": [
    "''' \n",
    "Interactive visualization in the form of HTML files\n",
    "Drawback -> cannot work with live data source for that use \"DASH\"\n",
    "'''"
   ]
  },
  {
   "cell_type": "code",
   "execution_count": 3,
   "metadata": {},
   "outputs": [],
   "source": [
    "match = pd.read_csv(\"./matches.csv\")\n",
    "delivery = pd.read_csv(\"./deliveries.csv\")\n",
    "\n",
    "ipl = delivery.merge(match, left_on='match_id', right_on='id')"
   ]
  },
  {
   "cell_type": "code",
   "execution_count": 4,
   "metadata": {},
   "outputs": [
    {
     "data": {
      "text/html": [
       "<div>\n",
       "<style scoped>\n",
       "    .dataframe tbody tr th:only-of-type {\n",
       "        vertical-align: middle;\n",
       "    }\n",
       "\n",
       "    .dataframe tbody tr th {\n",
       "        vertical-align: top;\n",
       "    }\n",
       "\n",
       "    .dataframe thead th {\n",
       "        text-align: right;\n",
       "    }\n",
       "</style>\n",
       "<table border=\"1\" class=\"dataframe\">\n",
       "  <thead>\n",
       "    <tr style=\"text-align: right;\">\n",
       "      <th></th>\n",
       "      <th>match_id</th>\n",
       "      <th>inning</th>\n",
       "      <th>batting_team</th>\n",
       "      <th>bowling_team</th>\n",
       "      <th>over</th>\n",
       "      <th>ball</th>\n",
       "      <th>batter</th>\n",
       "      <th>bowler</th>\n",
       "      <th>non_striker</th>\n",
       "      <th>batsman_runs</th>\n",
       "      <th>...</th>\n",
       "      <th>toss_decision</th>\n",
       "      <th>winner</th>\n",
       "      <th>result</th>\n",
       "      <th>result_margin</th>\n",
       "      <th>target_runs</th>\n",
       "      <th>target_overs</th>\n",
       "      <th>super_over</th>\n",
       "      <th>method</th>\n",
       "      <th>umpire1</th>\n",
       "      <th>umpire2</th>\n",
       "    </tr>\n",
       "  </thead>\n",
       "  <tbody>\n",
       "    <tr>\n",
       "      <th>0</th>\n",
       "      <td>335982</td>\n",
       "      <td>1</td>\n",
       "      <td>Kolkata Knight Riders</td>\n",
       "      <td>Royal Challengers Bangalore</td>\n",
       "      <td>0</td>\n",
       "      <td>1</td>\n",
       "      <td>SC Ganguly</td>\n",
       "      <td>P Kumar</td>\n",
       "      <td>BB McCullum</td>\n",
       "      <td>0</td>\n",
       "      <td>...</td>\n",
       "      <td>field</td>\n",
       "      <td>Kolkata Knight Riders</td>\n",
       "      <td>runs</td>\n",
       "      <td>140.0</td>\n",
       "      <td>223.0</td>\n",
       "      <td>20.0</td>\n",
       "      <td>N</td>\n",
       "      <td>NaN</td>\n",
       "      <td>Asad Rauf</td>\n",
       "      <td>RE Koertzen</td>\n",
       "    </tr>\n",
       "    <tr>\n",
       "      <th>1</th>\n",
       "      <td>335982</td>\n",
       "      <td>1</td>\n",
       "      <td>Kolkata Knight Riders</td>\n",
       "      <td>Royal Challengers Bangalore</td>\n",
       "      <td>0</td>\n",
       "      <td>2</td>\n",
       "      <td>BB McCullum</td>\n",
       "      <td>P Kumar</td>\n",
       "      <td>SC Ganguly</td>\n",
       "      <td>0</td>\n",
       "      <td>...</td>\n",
       "      <td>field</td>\n",
       "      <td>Kolkata Knight Riders</td>\n",
       "      <td>runs</td>\n",
       "      <td>140.0</td>\n",
       "      <td>223.0</td>\n",
       "      <td>20.0</td>\n",
       "      <td>N</td>\n",
       "      <td>NaN</td>\n",
       "      <td>Asad Rauf</td>\n",
       "      <td>RE Koertzen</td>\n",
       "    </tr>\n",
       "    <tr>\n",
       "      <th>2</th>\n",
       "      <td>335982</td>\n",
       "      <td>1</td>\n",
       "      <td>Kolkata Knight Riders</td>\n",
       "      <td>Royal Challengers Bangalore</td>\n",
       "      <td>0</td>\n",
       "      <td>3</td>\n",
       "      <td>BB McCullum</td>\n",
       "      <td>P Kumar</td>\n",
       "      <td>SC Ganguly</td>\n",
       "      <td>0</td>\n",
       "      <td>...</td>\n",
       "      <td>field</td>\n",
       "      <td>Kolkata Knight Riders</td>\n",
       "      <td>runs</td>\n",
       "      <td>140.0</td>\n",
       "      <td>223.0</td>\n",
       "      <td>20.0</td>\n",
       "      <td>N</td>\n",
       "      <td>NaN</td>\n",
       "      <td>Asad Rauf</td>\n",
       "      <td>RE Koertzen</td>\n",
       "    </tr>\n",
       "    <tr>\n",
       "      <th>3</th>\n",
       "      <td>335982</td>\n",
       "      <td>1</td>\n",
       "      <td>Kolkata Knight Riders</td>\n",
       "      <td>Royal Challengers Bangalore</td>\n",
       "      <td>0</td>\n",
       "      <td>4</td>\n",
       "      <td>BB McCullum</td>\n",
       "      <td>P Kumar</td>\n",
       "      <td>SC Ganguly</td>\n",
       "      <td>0</td>\n",
       "      <td>...</td>\n",
       "      <td>field</td>\n",
       "      <td>Kolkata Knight Riders</td>\n",
       "      <td>runs</td>\n",
       "      <td>140.0</td>\n",
       "      <td>223.0</td>\n",
       "      <td>20.0</td>\n",
       "      <td>N</td>\n",
       "      <td>NaN</td>\n",
       "      <td>Asad Rauf</td>\n",
       "      <td>RE Koertzen</td>\n",
       "    </tr>\n",
       "    <tr>\n",
       "      <th>4</th>\n",
       "      <td>335982</td>\n",
       "      <td>1</td>\n",
       "      <td>Kolkata Knight Riders</td>\n",
       "      <td>Royal Challengers Bangalore</td>\n",
       "      <td>0</td>\n",
       "      <td>5</td>\n",
       "      <td>BB McCullum</td>\n",
       "      <td>P Kumar</td>\n",
       "      <td>SC Ganguly</td>\n",
       "      <td>0</td>\n",
       "      <td>...</td>\n",
       "      <td>field</td>\n",
       "      <td>Kolkata Knight Riders</td>\n",
       "      <td>runs</td>\n",
       "      <td>140.0</td>\n",
       "      <td>223.0</td>\n",
       "      <td>20.0</td>\n",
       "      <td>N</td>\n",
       "      <td>NaN</td>\n",
       "      <td>Asad Rauf</td>\n",
       "      <td>RE Koertzen</td>\n",
       "    </tr>\n",
       "  </tbody>\n",
       "</table>\n",
       "<p>5 rows × 37 columns</p>\n",
       "</div>"
      ],
      "text/plain": [
       "   match_id  inning           batting_team                 bowling_team  over  \\\n",
       "0    335982       1  Kolkata Knight Riders  Royal Challengers Bangalore     0   \n",
       "1    335982       1  Kolkata Knight Riders  Royal Challengers Bangalore     0   \n",
       "2    335982       1  Kolkata Knight Riders  Royal Challengers Bangalore     0   \n",
       "3    335982       1  Kolkata Knight Riders  Royal Challengers Bangalore     0   \n",
       "4    335982       1  Kolkata Knight Riders  Royal Challengers Bangalore     0   \n",
       "\n",
       "   ball       batter   bowler  non_striker  batsman_runs  ...  toss_decision  \\\n",
       "0     1   SC Ganguly  P Kumar  BB McCullum             0  ...          field   \n",
       "1     2  BB McCullum  P Kumar   SC Ganguly             0  ...          field   \n",
       "2     3  BB McCullum  P Kumar   SC Ganguly             0  ...          field   \n",
       "3     4  BB McCullum  P Kumar   SC Ganguly             0  ...          field   \n",
       "4     5  BB McCullum  P Kumar   SC Ganguly             0  ...          field   \n",
       "\n",
       "                  winner result  result_margin target_runs target_overs  \\\n",
       "0  Kolkata Knight Riders   runs          140.0       223.0         20.0   \n",
       "1  Kolkata Knight Riders   runs          140.0       223.0         20.0   \n",
       "2  Kolkata Knight Riders   runs          140.0       223.0         20.0   \n",
       "3  Kolkata Knight Riders   runs          140.0       223.0         20.0   \n",
       "4  Kolkata Knight Riders   runs          140.0       223.0         20.0   \n",
       "\n",
       "  super_over  method    umpire1      umpire2  \n",
       "0          N     NaN  Asad Rauf  RE Koertzen  \n",
       "1          N     NaN  Asad Rauf  RE Koertzen  \n",
       "2          N     NaN  Asad Rauf  RE Koertzen  \n",
       "3          N     NaN  Asad Rauf  RE Koertzen  \n",
       "4          N     NaN  Asad Rauf  RE Koertzen  \n",
       "\n",
       "[5 rows x 37 columns]"
      ]
     },
     "execution_count": 4,
     "metadata": {},
     "output_type": "execute_result"
    }
   ],
   "source": [
    "ipl.head()"
   ]
  },
  {
   "cell_type": "code",
   "execution_count": 5,
   "metadata": {},
   "outputs": [],
   "source": [
    "# ---------------- Scatter plot\n",
    "# batsman avg (x-axis) and batsman strike rate(y-axis) top 50 batsman of all time \n",
    "\n",
    "ipl.groupby('batter')['batsman_runs'].sum().sort_values(ascending=False).head(50).reset_index()\n",
    "top50 = ipl.groupby('batter')['batsman_runs'].sum().sort_values(ascending=False).head(50).index.to_list()\n",
    "new_ipl = ipl[ipl['batter'].isin(top50)]"
   ]
  },
  {
   "cell_type": "code",
   "execution_count": 6,
   "metadata": {},
   "outputs": [
    {
     "data": {
      "text/html": [
       "<div>\n",
       "<style scoped>\n",
       "    .dataframe tbody tr th:only-of-type {\n",
       "        vertical-align: middle;\n",
       "    }\n",
       "\n",
       "    .dataframe tbody tr th {\n",
       "        vertical-align: top;\n",
       "    }\n",
       "\n",
       "    .dataframe thead th {\n",
       "        text-align: right;\n",
       "    }\n",
       "</style>\n",
       "<table border=\"1\" class=\"dataframe\">\n",
       "  <thead>\n",
       "    <tr style=\"text-align: right;\">\n",
       "      <th></th>\n",
       "      <th>batter</th>\n",
       "      <th>batsman_runs</th>\n",
       "    </tr>\n",
       "  </thead>\n",
       "  <tbody>\n",
       "    <tr>\n",
       "      <th>0</th>\n",
       "      <td>AB de Villiers</td>\n",
       "      <td>148.580442</td>\n",
       "    </tr>\n",
       "    <tr>\n",
       "      <th>1</th>\n",
       "      <td>AD Russell</td>\n",
       "      <td>164.224422</td>\n",
       "    </tr>\n",
       "    <tr>\n",
       "      <th>2</th>\n",
       "      <td>AJ Finch</td>\n",
       "      <td>123.349057</td>\n",
       "    </tr>\n",
       "    <tr>\n",
       "      <th>3</th>\n",
       "      <td>AM Rahane</td>\n",
       "      <td>120.321410</td>\n",
       "    </tr>\n",
       "    <tr>\n",
       "      <th>4</th>\n",
       "      <td>AT Rayudu</td>\n",
       "      <td>124.584527</td>\n",
       "    </tr>\n",
       "  </tbody>\n",
       "</table>\n",
       "</div>"
      ],
      "text/plain": [
       "           batter  batsman_runs\n",
       "0  AB de Villiers    148.580442\n",
       "1      AD Russell    164.224422\n",
       "2        AJ Finch    123.349057\n",
       "3       AM Rahane    120.321410\n",
       "4       AT Rayudu    124.584527"
      ]
     },
     "execution_count": 6,
     "metadata": {},
     "output_type": "execute_result"
    }
   ],
   "source": [
    "# Calculate strike rate \n",
    "\n",
    "runs = new_ipl.groupby(\"batter\")['batsman_runs'].sum()\n",
    "balls = new_ipl.groupby(\"batter\")['batsman_runs'].count()\n",
    "sr = ((runs/balls) * 100).reset_index()\n",
    "sr.head()"
   ]
  },
  {
   "cell_type": "code",
   "execution_count": 7,
   "metadata": {},
   "outputs": [],
   "source": [
    "# calculating avg\n",
    "\n",
    "out = ipl[ipl['player_dismissed'].isin(top50)]\n",
    "no_of_outs = out['player_dismissed'].value_counts()\n",
    "avg = (runs/no_of_outs).reset_index()\n",
    "avg.head()\n",
    "avg.rename(columns={\n",
    "    'index': 'batter',\n",
    "    0: 'avg' \n",
    "}, inplace=True)"
   ]
  },
  {
   "cell_type": "code",
   "execution_count": 8,
   "metadata": {},
   "outputs": [],
   "source": [
    "avg = avg.merge(sr, on = 'batter')"
   ]
  },
  {
   "cell_type": "code",
   "execution_count": 9,
   "metadata": {},
   "outputs": [
    {
     "data": {
      "text/html": [
       "<div>\n",
       "<style scoped>\n",
       "    .dataframe tbody tr th:only-of-type {\n",
       "        vertical-align: middle;\n",
       "    }\n",
       "\n",
       "    .dataframe tbody tr th {\n",
       "        vertical-align: top;\n",
       "    }\n",
       "\n",
       "    .dataframe thead th {\n",
       "        text-align: right;\n",
       "    }\n",
       "</style>\n",
       "<table border=\"1\" class=\"dataframe\">\n",
       "  <thead>\n",
       "    <tr style=\"text-align: right;\">\n",
       "      <th></th>\n",
       "      <th>batter</th>\n",
       "      <th>avg</th>\n",
       "      <th>batsman_runs</th>\n",
       "    </tr>\n",
       "  </thead>\n",
       "  <tbody>\n",
       "    <tr>\n",
       "      <th>0</th>\n",
       "      <td>AB de Villiers</td>\n",
       "      <td>39.853846</td>\n",
       "      <td>148.580442</td>\n",
       "    </tr>\n",
       "    <tr>\n",
       "      <th>1</th>\n",
       "      <td>AD Russell</td>\n",
       "      <td>28.930233</td>\n",
       "      <td>164.224422</td>\n",
       "    </tr>\n",
       "    <tr>\n",
       "      <th>2</th>\n",
       "      <td>AJ Finch</td>\n",
       "      <td>24.904762</td>\n",
       "      <td>123.349057</td>\n",
       "    </tr>\n",
       "    <tr>\n",
       "      <th>3</th>\n",
       "      <td>AM Rahane</td>\n",
       "      <td>30.142857</td>\n",
       "      <td>120.321410</td>\n",
       "    </tr>\n",
       "    <tr>\n",
       "      <th>4</th>\n",
       "      <td>AT Rayudu</td>\n",
       "      <td>28.051613</td>\n",
       "      <td>124.584527</td>\n",
       "    </tr>\n",
       "  </tbody>\n",
       "</table>\n",
       "</div>"
      ],
      "text/plain": [
       "           batter        avg  batsman_runs\n",
       "0  AB de Villiers  39.853846    148.580442\n",
       "1      AD Russell  28.930233    164.224422\n",
       "2        AJ Finch  24.904762    123.349057\n",
       "3       AM Rahane  30.142857    120.321410\n",
       "4       AT Rayudu  28.051613    124.584527"
      ]
     },
     "execution_count": 9,
     "metadata": {},
     "output_type": "execute_result"
    }
   ],
   "source": [
    "avg.head()"
   ]
  },
  {
   "cell_type": "code",
   "execution_count": 10,
   "metadata": {},
   "outputs": [
    {
     "data": {
      "text/plain": [
       "'myfile.html'"
      ]
     },
     "execution_count": 10,
     "metadata": {},
     "output_type": "execute_result"
    }
   ],
   "source": [
    "# draw scatter plot\n",
    "\n",
    "trace = go.Scatter(x = avg['avg'], y = avg['batsman_runs'], mode='markers', text=avg['batter'],\n",
    "                    marker={'color': '#00a65a'}\n",
    "                    )\n",
    "data = [trace]\n",
    "layout = go.Layout(title='Batsman runs vs Strike rate', xaxis={'title': 'Batsman runs'}, yaxis={'title': 'Strike rate'})\n",
    "fig = go.Figure(data=data, layout=layout)\n",
    "pyo.plot(fig, filename = 'myfile.html')"
   ]
  },
  {
   "cell_type": "code",
   "execution_count": 11,
   "metadata": {},
   "outputs": [],
   "source": [
    "# ----------------------- Line chart \n",
    "\n",
    "# year by year batsman performance\n",
    "\n",
    "single = ipl[ipl['batter'] == 'V Kohli']\n",
    "performance = single.groupby('season')['batsman_runs'].sum()\n",
    "performance = performance.reset_index()\n",
    "\n",
    "\n",
    "single1 = ipl[ipl['batter'] == 'MS Dhoni']\n",
    "performance1 = single1.groupby('season')['batsman_runs'].sum()\n",
    "performance1 = performance1.reset_index()"
   ]
  },
  {
   "cell_type": "code",
   "execution_count": 12,
   "metadata": {},
   "outputs": [
    {
     "data": {
      "text/plain": [
       "'temp-plot.html'"
      ]
     },
     "execution_count": 12,
     "metadata": {},
     "output_type": "execute_result"
    }
   ],
   "source": [
    "\n",
    "trace = go.Scatter(x = performance['season'], y = performance['batsman_runs'], mode='lines', name ='V Kohli')\n",
    "trace1 = go.Scatter(x = performance1['season'], y = performance1['batsman_runs'], mode='lines', name ='MS Dohni')\n",
    "data = [trace, trace1]\n",
    "layout = go.Layout(title = 'Year by Year Performance',\n",
    "                   xaxis = {'title': 'Season'},\n",
    "                   yaxis = {'title': 'Total runs'}\n",
    "                   )\n",
    "                   \n",
    "fig1 = go.Figure(data=data, layout=layout)\n",
    "\n",
    "pyo.plot(fig1)"
   ]
  },
  {
   "cell_type": "code",
   "execution_count": 13,
   "metadata": {},
   "outputs": [],
   "source": [
    "# Multiple line plot\n",
    "\n",
    "def batsman_com(*name):\n",
    "    data = []\n",
    "    for i in name:\n",
    "        single = ipl[ipl['batter'] == i]\n",
    "        performance = single.groupby('season')['batsman_runs'].sum().reset_index()\n",
    "        trace = go.Scatter(x = performance['season'], y = performance['batsman_runs'], mode='lines', name = i)\n",
    "        data.append(trace)\n",
    "\n",
    "    layout = go.Layout(title='Batsman run comparator',\n",
    "                        xaxis={'title': 'Season'},\n",
    "                        yaxis={'title': 'Runs'}\n",
    "                        )\n",
    "    fig = go.Figure(data=data, layout=layout)\n",
    "    pyo.plot(fig, filename = 'year_by_year.html')"
   ]
  },
  {
   "cell_type": "code",
   "execution_count": 14,
   "metadata": {},
   "outputs": [],
   "source": [
    "batsman_com('V Kohli', 'MS Dhoni', 'RG Sharma', 'DA Warner')"
   ]
  },
  {
   "cell_type": "code",
   "execution_count": 15,
   "metadata": {},
   "outputs": [],
   "source": [
    "# ------------------------ Bar plot\n",
    "\n",
    "top10 = ipl.groupby('batter')['batsman_runs'].sum().sort_values(ascending=False).head(10).index.to_list()\n",
    "top10_df = ipl[ipl['batter'].isin(top10)]"
   ]
  },
  {
   "cell_type": "code",
   "execution_count": 16,
   "metadata": {},
   "outputs": [],
   "source": [
    "top10_score = top10_df.groupby('batter')['batsman_runs'].sum().reset_index()"
   ]
  },
  {
   "cell_type": "code",
   "execution_count": 17,
   "metadata": {},
   "outputs": [
    {
     "data": {
      "text/html": [
       "<div>\n",
       "<style scoped>\n",
       "    .dataframe tbody tr th:only-of-type {\n",
       "        vertical-align: middle;\n",
       "    }\n",
       "\n",
       "    .dataframe tbody tr th {\n",
       "        vertical-align: top;\n",
       "    }\n",
       "\n",
       "    .dataframe thead th {\n",
       "        text-align: right;\n",
       "    }\n",
       "</style>\n",
       "<table border=\"1\" class=\"dataframe\">\n",
       "  <thead>\n",
       "    <tr style=\"text-align: right;\">\n",
       "      <th></th>\n",
       "      <th>batter</th>\n",
       "      <th>batsman_runs</th>\n",
       "    </tr>\n",
       "  </thead>\n",
       "  <tbody>\n",
       "    <tr>\n",
       "      <th>0</th>\n",
       "      <td>AB de Villiers</td>\n",
       "      <td>5181</td>\n",
       "    </tr>\n",
       "    <tr>\n",
       "      <th>1</th>\n",
       "      <td>CH Gayle</td>\n",
       "      <td>4997</td>\n",
       "    </tr>\n",
       "    <tr>\n",
       "      <th>2</th>\n",
       "      <td>DA Warner</td>\n",
       "      <td>6567</td>\n",
       "    </tr>\n",
       "    <tr>\n",
       "      <th>3</th>\n",
       "      <td>KD Karthik</td>\n",
       "      <td>4843</td>\n",
       "    </tr>\n",
       "    <tr>\n",
       "      <th>4</th>\n",
       "      <td>MS Dhoni</td>\n",
       "      <td>5243</td>\n",
       "    </tr>\n",
       "    <tr>\n",
       "      <th>5</th>\n",
       "      <td>RG Sharma</td>\n",
       "      <td>6630</td>\n",
       "    </tr>\n",
       "    <tr>\n",
       "      <th>6</th>\n",
       "      <td>RV Uthappa</td>\n",
       "      <td>4954</td>\n",
       "    </tr>\n",
       "    <tr>\n",
       "      <th>7</th>\n",
       "      <td>S Dhawan</td>\n",
       "      <td>6769</td>\n",
       "    </tr>\n",
       "    <tr>\n",
       "      <th>8</th>\n",
       "      <td>SK Raina</td>\n",
       "      <td>5536</td>\n",
       "    </tr>\n",
       "    <tr>\n",
       "      <th>9</th>\n",
       "      <td>V Kohli</td>\n",
       "      <td>8014</td>\n",
       "    </tr>\n",
       "  </tbody>\n",
       "</table>\n",
       "</div>"
      ],
      "text/plain": [
       "           batter  batsman_runs\n",
       "0  AB de Villiers          5181\n",
       "1        CH Gayle          4997\n",
       "2       DA Warner          6567\n",
       "3      KD Karthik          4843\n",
       "4        MS Dhoni          5243\n",
       "5       RG Sharma          6630\n",
       "6      RV Uthappa          4954\n",
       "7        S Dhawan          6769\n",
       "8        SK Raina          5536\n",
       "9         V Kohli          8014"
      ]
     },
     "execution_count": 17,
     "metadata": {},
     "output_type": "execute_result"
    }
   ],
   "source": [
    "top10_score"
   ]
  },
  {
   "cell_type": "code",
   "execution_count": 18,
   "metadata": {},
   "outputs": [
    {
     "data": {
      "text/plain": [
       "'temp-plot.html'"
      ]
     },
     "execution_count": 18,
     "metadata": {},
     "output_type": "execute_result"
    }
   ],
   "source": [
    "trace = go.Bar(x = top10_score['batter'], y = top10_score['batsman_runs'])\n",
    "data = [trace]\n",
    "layout = go.Layout(title = 'Top 10 IPL batsman', xaxis={'title': 'Batsman name'},\n",
    "                   yaxis={'title': 'Batsman runs'})\n",
    "fig = go.Figure(data=data, layout=layout)\n",
    "pyo.plot(fig)"
   ]
  },
  {
   "cell_type": "code",
   "execution_count": 19,
   "metadata": {},
   "outputs": [
    {
     "data": {
      "text/plain": [
       "' \\nType of bar chart\\n    - Nested bar chart\\n    - Stacked bar chart\\n    - Overlayed bar chart\\n'"
      ]
     },
     "execution_count": 19,
     "metadata": {},
     "output_type": "execute_result"
    }
   ],
   "source": [
    "''' \n",
    "Type of bar chart\n",
    "    - Nested bar chart\n",
    "    - Stacked bar chart\n",
    "    - Overlayed bar chart\n",
    "'''"
   ]
  },
  {
   "cell_type": "code",
   "execution_count": 20,
   "metadata": {},
   "outputs": [
    {
     "name": "stderr",
     "output_type": "stream",
     "text": [
      "C:\\Users\\Asus\\AppData\\Local\\Temp\\ipykernel_3236\\1181664921.py:8: SettingWithCopyWarning:\n",
      "\n",
      "\n",
      "A value is trying to be set on a copy of a slice from a DataFrame\n",
      "\n",
      "See the caveats in the documentation: https://pandas.pydata.org/pandas-docs/stable/user_guide/indexing.html#returning-a-view-versus-a-copy\n",
      "\n",
      "C:\\Users\\Asus\\AppData\\Local\\Temp\\ipykernel_3236\\1181664921.py:12: SettingWithCopyWarning:\n",
      "\n",
      "\n",
      "A value is trying to be set on a copy of a slice from a DataFrame\n",
      "\n",
      "See the caveats in the documentation: https://pandas.pydata.org/pandas-docs/stable/user_guide/indexing.html#returning-a-view-versus-a-copy\n",
      "\n"
     ]
    }
   ],
   "source": [
    "iw = top10_df.groupby(['batter', 'inning'])['batsman_runs'].sum().reset_index()\n",
    "mask1 = iw['inning'] == 1\n",
    "mask2 = iw['inning'] == 2\n",
    "\n",
    "one = iw[mask1]\n",
    "two = iw[mask2]\n",
    "\n",
    "one.rename(columns={\n",
    "    'batsman_runs': '1st innings' \n",
    "}, inplace=True)\n",
    "\n",
    "two.rename(columns={\n",
    "    'batsman_runs': '2nd innings' \n",
    "}, inplace=True)\n",
    "\n",
    "final = one.merge(two, on = 'batter')[['batter', '1st innings', '2nd innings']]"
   ]
  },
  {
   "cell_type": "code",
   "execution_count": 21,
   "metadata": {},
   "outputs": [
    {
     "data": {
      "text/html": [
       "<div>\n",
       "<style scoped>\n",
       "    .dataframe tbody tr th:only-of-type {\n",
       "        vertical-align: middle;\n",
       "    }\n",
       "\n",
       "    .dataframe tbody tr th {\n",
       "        vertical-align: top;\n",
       "    }\n",
       "\n",
       "    .dataframe thead th {\n",
       "        text-align: right;\n",
       "    }\n",
       "</style>\n",
       "<table border=\"1\" class=\"dataframe\">\n",
       "  <thead>\n",
       "    <tr style=\"text-align: right;\">\n",
       "      <th></th>\n",
       "      <th>batter</th>\n",
       "      <th>1st innings</th>\n",
       "      <th>2nd innings</th>\n",
       "    </tr>\n",
       "  </thead>\n",
       "  <tbody>\n",
       "    <tr>\n",
       "      <th>0</th>\n",
       "      <td>AB de Villiers</td>\n",
       "      <td>3163</td>\n",
       "      <td>1999</td>\n",
       "    </tr>\n",
       "    <tr>\n",
       "      <th>1</th>\n",
       "      <td>CH Gayle</td>\n",
       "      <td>2873</td>\n",
       "      <td>2092</td>\n",
       "    </tr>\n",
       "    <tr>\n",
       "      <th>2</th>\n",
       "      <td>DA Warner</td>\n",
       "      <td>3280</td>\n",
       "      <td>3285</td>\n",
       "    </tr>\n",
       "    <tr>\n",
       "      <th>3</th>\n",
       "      <td>KD Karthik</td>\n",
       "      <td>2743</td>\n",
       "      <td>2099</td>\n",
       "    </tr>\n",
       "    <tr>\n",
       "      <th>4</th>\n",
       "      <td>MS Dhoni</td>\n",
       "      <td>3065</td>\n",
       "      <td>2178</td>\n",
       "    </tr>\n",
       "    <tr>\n",
       "      <th>5</th>\n",
       "      <td>RG Sharma</td>\n",
       "      <td>3600</td>\n",
       "      <td>3028</td>\n",
       "    </tr>\n",
       "    <tr>\n",
       "      <th>6</th>\n",
       "      <td>RV Uthappa</td>\n",
       "      <td>2120</td>\n",
       "      <td>2832</td>\n",
       "    </tr>\n",
       "    <tr>\n",
       "      <th>7</th>\n",
       "      <td>S Dhawan</td>\n",
       "      <td>3926</td>\n",
       "      <td>2843</td>\n",
       "    </tr>\n",
       "    <tr>\n",
       "      <th>8</th>\n",
       "      <td>SK Raina</td>\n",
       "      <td>3194</td>\n",
       "      <td>2334</td>\n",
       "    </tr>\n",
       "    <tr>\n",
       "      <th>9</th>\n",
       "      <td>V Kohli</td>\n",
       "      <td>4400</td>\n",
       "      <td>3604</td>\n",
       "    </tr>\n",
       "  </tbody>\n",
       "</table>\n",
       "</div>"
      ],
      "text/plain": [
       "           batter  1st innings  2nd innings\n",
       "0  AB de Villiers         3163         1999\n",
       "1        CH Gayle         2873         2092\n",
       "2       DA Warner         3280         3285\n",
       "3      KD Karthik         2743         2099\n",
       "4        MS Dhoni         3065         2178\n",
       "5       RG Sharma         3600         3028\n",
       "6      RV Uthappa         2120         2832\n",
       "7        S Dhawan         3926         2843\n",
       "8        SK Raina         3194         2334\n",
       "9         V Kohli         4400         3604"
      ]
     },
     "execution_count": 21,
     "metadata": {},
     "output_type": "execute_result"
    }
   ],
   "source": [
    "final"
   ]
  },
  {
   "cell_type": "code",
   "execution_count": 22,
   "metadata": {},
   "outputs": [
    {
     "data": {
      "text/plain": [
       "'temp-plot.html'"
      ]
     },
     "execution_count": 22,
     "metadata": {},
     "output_type": "execute_result"
    }
   ],
   "source": [
    "trace1 = go.Bar(x = final['batter'], y = final['1st innings'], name = '1st innings')\n",
    "trace2 = go.Bar(x = final['batter'], y = final['2nd innings'], name = '2nd innings')\n",
    "\n",
    "data = [trace1, trace2]\n",
    "# layout = go.Layout(title='Inning wise scores', xaxis={'title': 'Batsman'}, yaxis={'title': 'Runs'}, barmode='overlay')\n",
    "layout = go.Layout(title='Inning wise scores', xaxis={'title': 'Batsman'}, yaxis={'title': 'Runs'}, barmode='stack')\n",
    "# layout = go.Layout(title='Inning wise scores', xaxis={'title': 'Batsman'}, yaxis={'title': 'Runs'}, barmode='group')\n",
    "fig = go.Figure(data=data, layout=layout)\n",
    "pyo.plot(fig)"
   ]
  },
  {
   "cell_type": "code",
   "execution_count": 23,
   "metadata": {},
   "outputs": [],
   "source": [
    "# ---------------------- Bubble plot\n",
    "\n",
    "new_ipl = new_ipl[new_ipl['batsman_runs'] == 6]\n",
    "six = new_ipl.groupby('batter')['batsman_runs'].count().reset_index()\n",
    "x = avg.merge(six, on = 'batter')"
   ]
  },
  {
   "cell_type": "code",
   "execution_count": 24,
   "metadata": {},
   "outputs": [
    {
     "data": {
      "text/plain": [
       "'temp-plot.html'"
      ]
     },
     "execution_count": 24,
     "metadata": {},
     "output_type": "execute_result"
    }
   ],
   "source": [
    "trace = go.Scatter(x = x['avg'], y = x['batsman_runs_x'] , mode = 'markers', marker = {'size': x['batsman_runs_y']})\n",
    "\n",
    "trace = go.Scatter(\n",
    "    x=x['avg'],\n",
    "    y=x['batsman_runs_x'],\n",
    "    mode='markers',\n",
    "    marker={'size': x['batsman_runs_y']},\n",
    "    name='Bubble Chart'  # A single string for the entire trace\n",
    ")\n",
    "\n",
    "data = [trace]\n",
    "layout = go.Layout(title='Bubble chart', xaxis={'title': 'Average'}, yaxis={'title': 'Strike Rate'})\n",
    "fig = go.Figure(data=data, layout=layout)\n",
    "pyo.plot(fig)"
   ]
  },
  {
   "cell_type": "code",
   "execution_count": 25,
   "metadata": {},
   "outputs": [],
   "source": [
    "match_agg = delivery.groupby('match_id')['total_runs'].sum().reset_index()\n",
    "season_wise = match_agg.merge(match, left_on='match_id', right_on='id')[['match_id', 'total_runs', 'season']]"
   ]
  },
  {
   "cell_type": "code",
   "execution_count": 26,
   "metadata": {},
   "outputs": [
    {
     "data": {
      "text/plain": [
       "'temp-plot.html'"
      ]
     },
     "execution_count": 26,
     "metadata": {},
     "output_type": "execute_result"
    }
   ],
   "source": [
    "trace = go.Box(x = season_wise['total_runs'], name = 'All season', marker={\n",
    "    'color': 'Brown'\n",
    "})\n",
    "data = [trace]\n",
    "layout = go.Layout(title = 'Total score analysis', xaxis={'title': 'Total score'})\n",
    "fig = go.Figure(data=data, layout=layout)\n",
    "pyo.plot(fig)"
   ]
  },
  {
   "cell_type": "code",
   "execution_count": 27,
   "metadata": {},
   "outputs": [
    {
     "data": {
      "text/plain": [
       "'temp-plot.html'"
      ]
     },
     "execution_count": 27,
     "metadata": {},
     "output_type": "execute_result"
    }
   ],
   "source": [
    "trace1 = go.Box(x = season_wise[season_wise['season'] == '2024']['total_runs'], name = '2024', marker={'color': 'Brown'})\n",
    "trace2 = go.Box(x = season_wise[season_wise['season'] == '2007/08']['total_runs'], name = '2007/08', marker={'color': 'Chocolate'})\n",
    "\n",
    "data = [trace1, trace2]\n",
    "layout = go.Layout(title = 'Total score analysis', xaxis={'title': 'Total score'})\n",
    "fig = go.Figure(data=data, layout=layout)\n",
    "pyo.plot(fig)"
   ]
  },
  {
   "cell_type": "code",
   "execution_count": 28,
   "metadata": {},
   "outputs": [
    {
     "data": {
      "text/plain": [
       "'temp-plot.html'"
      ]
     },
     "execution_count": 28,
     "metadata": {},
     "output_type": "execute_result"
    }
   ],
   "source": [
    "# ---------------------- Displot (Combination of 3 graph -> hist, kde, rug)\n",
    "\n",
    "import plotly.figure_factory as ff\n",
    "\n",
    "hist_data = [avg['avg'], avg['batsman_runs']]\n",
    "group_labels = ['Average', 'Strike rate']\n",
    "fig = ff.create_distplot(hist_data, group_labels, bin_size = [10, 20])\n",
    "pyo.plot(fig) "
   ]
  },
  {
   "cell_type": "code",
   "execution_count": 29,
   "metadata": {},
   "outputs": [],
   "source": [
    "# -------------------- Histogram\n",
    "\n",
    "x = delivery.groupby('batter')['batsman_runs'].count() > 150 \n",
    "x = x[x].index.tolist()\n",
    "\n",
    "new = delivery[delivery['batter'].isin(x)]\n",
    "\n",
    "runs = new.groupby('batter')['batsman_runs'].sum()\n",
    "balls = new.groupby('batter')['batsman_runs'].count()\n",
    "\n",
    "sr = ((runs / balls) * 100).reset_index()"
   ]
  },
  {
   "cell_type": "code",
   "execution_count": 30,
   "metadata": {},
   "outputs": [
    {
     "data": {
      "text/plain": [
       "'temp-plot.html'"
      ]
     },
     "execution_count": 30,
     "metadata": {},
     "output_type": "execute_result"
    }
   ],
   "source": [
    "# trace = go.Histogram(x = sr['batsman_runs'], name = 'Strike rate variation', xbins={'size': 2})\n",
    "trace = go.Histogram(x = sr['batsman_runs'], name = 'Strike rate variation', xbins={'size': 5, 'start': 50, 'end': 100})\n",
    "data = [trace]\n",
    "layout = go.Layout(title = 'Strike rate analysis', xaxis={'title': 'Strike rates'})\n",
    "fig = go.Figure(data=data, layout=layout)\n",
    "pyo.plot(fig)"
   ]
  },
  {
   "cell_type": "code",
   "execution_count": 31,
   "metadata": {},
   "outputs": [],
   "source": [
    "# ------------------------- Heatmap\n",
    "\n",
    "six = delivery[delivery['batsman_runs'] == 6]\n",
    "six = six.groupby(['batting_team', 'over'])['batsman_runs'].count().reset_index()"
   ]
  },
  {
   "cell_type": "code",
   "execution_count": 32,
   "metadata": {},
   "outputs": [
    {
     "data": {
      "text/plain": [
       "'temp-plot.html'"
      ]
     },
     "execution_count": 32,
     "metadata": {},
     "output_type": "execute_result"
    }
   ],
   "source": [
    "trace = go.Heatmap(x = six['batting_team'], y = six['over'], z = six['batsman_runs'])\n",
    "data = [trace]\n",
    "layout = go.Layout(title = 'Six heatmap')\n",
    "fig = go.Figure(data=data, layout=layout)\n",
    "pyo.plot(fig)"
   ]
  },
  {
   "cell_type": "code",
   "execution_count": 33,
   "metadata": {},
   "outputs": [
    {
     "name": "stderr",
     "output_type": "stream",
     "text": [
      "c:\\Users\\Asus\\AppData\\Local\\Programs\\Python\\Python313\\Lib\\site-packages\\plotly\\tools.py:455: DeprecationWarning:\n",
      "\n",
      "plotly.tools.make_subplots is deprecated, please use plotly.subplots.make_subplots instead\n",
      "\n"
     ]
    },
    {
     "data": {
      "text/plain": [
       "'temp-plot.html'"
      ]
     },
     "execution_count": 33,
     "metadata": {},
     "output_type": "execute_result"
    }
   ],
   "source": [
    "# side by side heatmap\n",
    "\n",
    "dots = delivery[delivery['batsman_runs'] == 0]\n",
    "dots = dots.groupby(['batting_team', 'over'])['batsman_runs'].count().reset_index()\n",
    "\n",
    "from plotly import tools\n",
    "\n",
    "trace1 = go.Heatmap(x = six['batting_team'], y = six['over'], z = six['batsman_runs'].values.tolist())\n",
    "\n",
    "trace2 = go.Heatmap(x = dots['batting_team'], y = dots['over'], z = dots['batsman_runs'].values.tolist())\n",
    "\n",
    "fig = tools.make_subplots(rows = 1, cols = 2, subplot_titles = [\"6's\", \"0's\"], shared_xaxes=True)\n",
    "\n",
    "fig.append_trace(trace1, 1, 1)\n",
    "fig.append_trace(trace2, 1, 2)\n",
    "\n",
    "pyo.plot(fig)"
   ]
  }
 ],
 "metadata": {
  "kernelspec": {
   "display_name": "Python 3",
   "language": "python",
   "name": "python3"
  },
  "language_info": {
   "codemirror_mode": {
    "name": "ipython",
    "version": 3
   },
   "file_extension": ".py",
   "mimetype": "text/x-python",
   "name": "python",
   "nbconvert_exporter": "python",
   "pygments_lexer": "ipython3",
   "version": "3.13.0"
  }
 },
 "nbformat": 4,
 "nbformat_minor": 2
}
